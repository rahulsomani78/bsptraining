{
 "cells": [
  {
   "cell_type": "code",
   "execution_count": 1,
   "id": "958b2799-ba33-4d13-8780-6396e3f1180d",
   "metadata": {},
   "outputs": [
    {
     "name": "stdout",
     "output_type": "stream",
     "text": [
      "Start\n",
      "First \n"
     ]
    },
    {
     "ename": "IndexError",
     "evalue": "list index out of range",
     "output_type": "error",
     "traceback": [
      "\u001b[1;31m---------------------------------------------------------------------------\u001b[0m",
      "\u001b[1;31mIndexError\u001b[0m                                Traceback (most recent call last)",
      "Cell \u001b[1;32mIn[1], line 5\u001b[0m\n\u001b[0;32m      2\u001b[0m \u001b[38;5;28mprint\u001b[39m(\u001b[38;5;124m\"\u001b[39m\u001b[38;5;124mStart\u001b[39m\u001b[38;5;124m\"\u001b[39m)\n\u001b[0;32m      3\u001b[0m \u001b[38;5;28mprint\u001b[39m(\u001b[38;5;124m\"\u001b[39m\u001b[38;5;124mFirst \u001b[39m\u001b[38;5;124m\"\u001b[39m)\n\u001b[1;32m----> 5\u001b[0m val \u001b[38;5;241m=\u001b[39m \u001b[43ml\u001b[49m\u001b[43m[\u001b[49m\u001b[38;5;241;43m8\u001b[39;49m\u001b[43m]\u001b[49m\n\u001b[0;32m      6\u001b[0m \u001b[38;5;28mprint\u001b[39m(val)\n\u001b[0;32m      7\u001b[0m \u001b[38;5;28mprint\u001b[39m(\u001b[38;5;124m\"\u001b[39m\u001b[38;5;124mEnd\u001b[39m\u001b[38;5;124m\"\u001b[39m)\n",
      "\u001b[1;31mIndexError\u001b[0m: list index out of range"
     ]
    }
   ],
   "source": [
    "l = [1,2,3,4]\n",
    "print(\"Start\")\n",
    "print(\"First \")\n",
    "\n",
    "val = l[8]\n",
    "print(val)\n",
    "print(\"End\")"
   ]
  },
  {
   "cell_type": "code",
   "execution_count": 2,
   "id": "06357132-67a4-4c13-a694-a8da79531a8c",
   "metadata": {},
   "outputs": [
    {
     "data": {
      "text/plain": [
       "Exception"
      ]
     },
     "execution_count": 2,
     "metadata": {},
     "output_type": "execute_result"
    }
   ],
   "source": [
    "Exception"
   ]
  },
  {
   "cell_type": "code",
   "execution_count": 6,
   "id": "c59ecdeb-25db-40b5-a4d8-09615f7d88b4",
   "metadata": {},
   "outputs": [],
   "source": [
    "e = Exception('Custom message exception')"
   ]
  },
  {
   "cell_type": "code",
   "execution_count": 7,
   "id": "6a81d544-ea9c-4f20-9e0d-4d497cc9011a",
   "metadata": {},
   "outputs": [
    {
     "name": "stdout",
     "output_type": "stream",
     "text": [
      "Custom message exception\n"
     ]
    }
   ],
   "source": [
    "print(e)"
   ]
  },
  {
   "cell_type": "code",
   "execution_count": 8,
   "id": "fd079507-ca05-4849-81e4-7334b0fa2f5c",
   "metadata": {},
   "outputs": [
    {
     "name": "stdout",
     "output_type": "stream",
     "text": [
      "Some error occured\n",
      "Statement after\n",
      "End\n"
     ]
    }
   ],
   "source": [
    "l = [1,2,3]\n",
    "try:\n",
    "    l[5]\n",
    "except:\n",
    "    print(\"Some error occured\")\n",
    "print(\"Statement after\")\n",
    "print(\"End\")"
   ]
  },
  {
   "cell_type": "code",
   "execution_count": 9,
   "id": "02fb1366-53ba-4cac-aeb9-6ca63ce4e6e9",
   "metadata": {},
   "outputs": [
    {
     "name": "stdout",
     "output_type": "stream",
     "text": [
      "Some error occured list index out of range\n",
      "Statement after\n",
      "End\n"
     ]
    }
   ],
   "source": [
    "l = [1,2,3]\n",
    "try:\n",
    "    l[5]\n",
    "except Exception as e:\n",
    "    print(\"Some error occured\",e)\n",
    "print(\"Statement after\")\n",
    "print(\"End\")"
   ]
  },
  {
   "cell_type": "code",
   "execution_count": 10,
   "id": "0f12048f-89bf-446a-aad0-ce952aa74de9",
   "metadata": {},
   "outputs": [
    {
     "name": "stdout",
     "output_type": "stream",
     "text": [
      "IndexError('list index out of range')\n",
      "Statement after\n",
      "End\n"
     ]
    }
   ],
   "source": [
    "l = [1,2,3]\n",
    "try:\n",
    "    l[5]\n",
    "except Exception as e:\n",
    "    print(repr(e))\n",
    "print(\"Statement after\")\n",
    "print(\"End\")"
   ]
  },
  {
   "cell_type": "code",
   "execution_count": 11,
   "id": "b7f82177-9330-40e7-9c59-8807570cb909",
   "metadata": {},
   "outputs": [
    {
     "name": "stdout",
     "output_type": "stream",
     "text": [
      "unknown\n"
     ]
    }
   ],
   "source": [
    "l = [1,2,3]\n",
    "try:\n",
    "    print(l['a'])\n",
    "except ValueError as e:\n",
    "    print(\"Caught\")\n",
    "except NameError as e:\n",
    "    print(\"Handled\")\n",
    "except Exception as e:\n",
    "    print(\"unknown\")"
   ]
  },
  {
   "cell_type": "code",
   "execution_count": 16,
   "id": "7205cc9c-a7bc-4a44-b0c0-df855fe41418",
   "metadata": {},
   "outputs": [
    {
     "name": "stdout",
     "output_type": "stream",
     "text": [
      "unknown NameError(\"name 'first' is not defined\")\n"
     ]
    }
   ],
   "source": [
    "l = [1,2,3]\n",
    "try:\n",
    "    # print(l[5])\n",
    "    print(first)\n",
    "except ValueError as e:\n",
    "    print(\"Caught\")\n",
    "except IndexError as e:\n",
    "    print(\"Handled\")\n",
    "except Exception as e:\n",
    "    print(\"unknown\",repr(e))"
   ]
  },
  {
   "cell_type": "code",
   "execution_count": 15,
   "id": "4285a0fb-5d00-4272-b844-2b196975c3fa",
   "metadata": {},
   "outputs": [
    {
     "ename": "NameError",
     "evalue": "name 'first' is not defined",
     "output_type": "error",
     "traceback": [
      "\u001b[1;31m---------------------------------------------------------------------------\u001b[0m",
      "\u001b[1;31mNameError\u001b[0m                                 Traceback (most recent call last)",
      "Cell \u001b[1;32mIn[15], line 1\u001b[0m\n\u001b[1;32m----> 1\u001b[0m \u001b[43mfirst\u001b[49m\n",
      "\u001b[1;31mNameError\u001b[0m: name 'first' is not defined"
     ]
    }
   ],
   "source": [
    "first"
   ]
  },
  {
   "cell_type": "code",
   "execution_count": 18,
   "id": "c5e41de3-e66a-4ea0-ae22-a06239a1a605",
   "metadata": {},
   "outputs": [],
   "source": [
    "def f1():\n",
    "    f2()\n",
    "\n",
    "def f2():\n",
    "    f3()\n",
    "\n",
    "def f3():\n",
    "    print(first)"
   ]
  },
  {
   "cell_type": "code",
   "execution_count": 19,
   "id": "e7c85773-1403-4195-98ca-ab176e179cf1",
   "metadata": {},
   "outputs": [
    {
     "ename": "NameError",
     "evalue": "name 'first' is not defined",
     "output_type": "error",
     "traceback": [
      "\u001b[1;31m---------------------------------------------------------------------------\u001b[0m",
      "\u001b[1;31mNameError\u001b[0m                                 Traceback (most recent call last)",
      "Cell \u001b[1;32mIn[19], line 1\u001b[0m\n\u001b[1;32m----> 1\u001b[0m \u001b[43mf3\u001b[49m\u001b[43m(\u001b[49m\u001b[43m)\u001b[49m\n",
      "Cell \u001b[1;32mIn[18], line 8\u001b[0m, in \u001b[0;36mf3\u001b[1;34m()\u001b[0m\n\u001b[0;32m      7\u001b[0m \u001b[38;5;28;01mdef\u001b[39;00m \u001b[38;5;21mf3\u001b[39m():\n\u001b[1;32m----> 8\u001b[0m     \u001b[38;5;28mprint\u001b[39m(\u001b[43mfirst\u001b[49m)\n",
      "\u001b[1;31mNameError\u001b[0m: name 'first' is not defined"
     ]
    }
   ],
   "source": [
    "f3()"
   ]
  },
  {
   "cell_type": "code",
   "execution_count": 20,
   "id": "a2104dfc-b410-4a8b-977a-730a1e1903a4",
   "metadata": {},
   "outputs": [
    {
     "ename": "NameError",
     "evalue": "name 'first' is not defined",
     "output_type": "error",
     "traceback": [
      "\u001b[1;31m---------------------------------------------------------------------------\u001b[0m",
      "\u001b[1;31mNameError\u001b[0m                                 Traceback (most recent call last)",
      "Cell \u001b[1;32mIn[20], line 1\u001b[0m\n\u001b[1;32m----> 1\u001b[0m \u001b[43mf2\u001b[49m\u001b[43m(\u001b[49m\u001b[43m)\u001b[49m\n",
      "Cell \u001b[1;32mIn[18], line 5\u001b[0m, in \u001b[0;36mf2\u001b[1;34m()\u001b[0m\n\u001b[0;32m      4\u001b[0m \u001b[38;5;28;01mdef\u001b[39;00m \u001b[38;5;21mf2\u001b[39m():\n\u001b[1;32m----> 5\u001b[0m     \u001b[43mf3\u001b[49m\u001b[43m(\u001b[49m\u001b[43m)\u001b[49m\n",
      "Cell \u001b[1;32mIn[18], line 8\u001b[0m, in \u001b[0;36mf3\u001b[1;34m()\u001b[0m\n\u001b[0;32m      7\u001b[0m \u001b[38;5;28;01mdef\u001b[39;00m \u001b[38;5;21mf3\u001b[39m():\n\u001b[1;32m----> 8\u001b[0m     \u001b[38;5;28mprint\u001b[39m(\u001b[43mfirst\u001b[49m)\n",
      "\u001b[1;31mNameError\u001b[0m: name 'first' is not defined"
     ]
    }
   ],
   "source": [
    "f2()"
   ]
  },
  {
   "cell_type": "code",
   "execution_count": 21,
   "id": "b40a098f-447d-485a-b2c6-e93ca0b0baf3",
   "metadata": {},
   "outputs": [
    {
     "ename": "NameError",
     "evalue": "name 'first' is not defined",
     "output_type": "error",
     "traceback": [
      "\u001b[1;31m---------------------------------------------------------------------------\u001b[0m",
      "\u001b[1;31mNameError\u001b[0m                                 Traceback (most recent call last)",
      "Cell \u001b[1;32mIn[21], line 1\u001b[0m\n\u001b[1;32m----> 1\u001b[0m \u001b[43mf1\u001b[49m\u001b[43m(\u001b[49m\u001b[43m)\u001b[49m\n",
      "Cell \u001b[1;32mIn[18], line 2\u001b[0m, in \u001b[0;36mf1\u001b[1;34m()\u001b[0m\n\u001b[0;32m      1\u001b[0m \u001b[38;5;28;01mdef\u001b[39;00m \u001b[38;5;21mf1\u001b[39m():\n\u001b[1;32m----> 2\u001b[0m     \u001b[43mf2\u001b[49m\u001b[43m(\u001b[49m\u001b[43m)\u001b[49m\n",
      "Cell \u001b[1;32mIn[18], line 5\u001b[0m, in \u001b[0;36mf2\u001b[1;34m()\u001b[0m\n\u001b[0;32m      4\u001b[0m \u001b[38;5;28;01mdef\u001b[39;00m \u001b[38;5;21mf2\u001b[39m():\n\u001b[1;32m----> 5\u001b[0m     \u001b[43mf3\u001b[49m\u001b[43m(\u001b[49m\u001b[43m)\u001b[49m\n",
      "Cell \u001b[1;32mIn[18], line 8\u001b[0m, in \u001b[0;36mf3\u001b[1;34m()\u001b[0m\n\u001b[0;32m      7\u001b[0m \u001b[38;5;28;01mdef\u001b[39;00m \u001b[38;5;21mf3\u001b[39m():\n\u001b[1;32m----> 8\u001b[0m     \u001b[38;5;28mprint\u001b[39m(\u001b[43mfirst\u001b[49m)\n",
      "\u001b[1;31mNameError\u001b[0m: name 'first' is not defined"
     ]
    }
   ],
   "source": [
    "f1()"
   ]
  },
  {
   "cell_type": "code",
   "execution_count": 22,
   "id": "a028bf5f-ef19-4514-94d1-659bc7a5d8b7",
   "metadata": {},
   "outputs": [],
   "source": [
    "def f1():\n",
    "    f2()\n",
    "\n",
    "def f2():\n",
    "    f3()\n",
    "\n",
    "def f3():\n",
    "    try:\n",
    "        print(first)\n",
    "    except NameError:\n",
    "        print('caught')"
   ]
  },
  {
   "cell_type": "code",
   "execution_count": 23,
   "id": "9aebe71f-16ba-44aa-bc77-d19063980b92",
   "metadata": {},
   "outputs": [
    {
     "name": "stdout",
     "output_type": "stream",
     "text": [
      "caught\n"
     ]
    }
   ],
   "source": [
    "f1()"
   ]
  },
  {
   "cell_type": "code",
   "execution_count": 25,
   "id": "10b309ac-70ff-4569-95ff-d988d2041147",
   "metadata": {},
   "outputs": [],
   "source": [
    "def f1():\n",
    "    f2()\n",
    "\n",
    "def f2():\n",
    "    try:\n",
    "        f3()\n",
    "    except NameError as e:\n",
    "        print('Caught {}'.format(repr(e)))\n",
    "\n",
    "def f3():\n",
    "  print(first)"
   ]
  },
  {
   "cell_type": "code",
   "execution_count": 26,
   "id": "1dbeaba6-65f2-4ffd-b355-de0d3c7406ca",
   "metadata": {},
   "outputs": [
    {
     "name": "stdout",
     "output_type": "stream",
     "text": [
      "Caught NameError(\"name 'first' is not defined\")\n"
     ]
    }
   ],
   "source": [
    "f1()"
   ]
  },
  {
   "cell_type": "code",
   "execution_count": 33,
   "id": "8c92eea6-b34d-42b6-b217-948da4a16b6a",
   "metadata": {},
   "outputs": [],
   "source": [
    "def f1():\n",
    "    f2()\n",
    "\n",
    "def f2():\n",
    "    try:\n",
    "        f3()\n",
    "    except NameError as e:\n",
    "        print('Caught {} at {}'.format(repr(e),e.__traceback__))\n",
    "\n",
    "def f3():\n",
    "  print(first)"
   ]
  },
  {
   "cell_type": "code",
   "execution_count": 34,
   "id": "ac16a5bd-1268-4bff-94b9-309af48363e0",
   "metadata": {},
   "outputs": [
    {
     "name": "stdout",
     "output_type": "stream",
     "text": [
      "Caught NameError(\"name 'first' is not defined\") at <traceback object at 0x000001DE1355F880>\n"
     ]
    }
   ],
   "source": [
    "f1()"
   ]
  },
  {
   "cell_type": "code",
   "execution_count": 31,
   "id": "064441d2-4ef6-4dd8-b2e4-0f1a37e09230",
   "metadata": {},
   "outputs": [],
   "source": [
    "e = Exception()"
   ]
  },
  {
   "cell_type": "code",
   "execution_count": 32,
   "id": "de112b18-4cf1-4fab-ac0d-3438beddaffe",
   "metadata": {},
   "outputs": [
    {
     "name": "stdout",
     "output_type": "stream",
     "text": [
      "['__cause__', '__class__', '__context__', '__delattr__', '__dict__', '__dir__', '__doc__', '__eq__', '__format__', '__ge__', '__getattribute__', '__getstate__', '__gt__', '__hash__', '__init__', '__init_subclass__', '__le__', '__lt__', '__ne__', '__new__', '__reduce__', '__reduce_ex__', '__repr__', '__setattr__', '__setstate__', '__sizeof__', '__str__', '__subclasshook__', '__suppress_context__', '__traceback__', 'add_note', 'args', 'with_traceback']\n"
     ]
    }
   ],
   "source": [
    "print(dir(e))"
   ]
  },
  {
   "cell_type": "markdown",
   "id": "d5275273-59a0-473f-846e-a439ad4f9a9a",
   "metadata": {},
   "source": [
    "<pre>\n",
    "\n",
    "try:\n",
    "    # code you are guarding\n",
    "except :\n",
    "    # handle the exception \n",
    "\n",
    "finally:\n",
    "    # This code always runs irrespective of whether exception is raised or not\n",
    "\n",
    "</pre>\n",
    "\n",
    "\n",
    "    "
   ]
  },
  {
   "cell_type": "code",
   "execution_count": 36,
   "id": "4175b246-f477-4937-b0f8-ed6a8d73de53",
   "metadata": {},
   "outputs": [
    {
     "name": "stdout",
     "output_type": "stream",
     "text": [
      "0\n",
      "1\n",
      "2\n",
      "3\n",
      "4\n",
      "4\n"
     ]
    }
   ],
   "source": [
    "for i in range(5):\n",
    "    print(i)\n",
    "else:\n",
    "    print(i)"
   ]
  },
  {
   "cell_type": "code",
   "execution_count": 40,
   "id": "05614ef0-c47b-488e-930c-e2392202697d",
   "metadata": {},
   "outputs": [
    {
     "name": "stdout",
     "output_type": "stream",
     "text": [
      "else\n",
      "final\n"
     ]
    }
   ],
   "source": [
    "try:\n",
    "    2/2\n",
    "except:\n",
    "    print('except')\n",
    "else:\n",
    "    print('else')\n",
    "finally:\n",
    "    print('final')\n"
   ]
  },
  {
   "cell_type": "code",
   "execution_count": null,
   "id": "d42f2f69-9697-4186-b970-fa47f4e63360",
   "metadata": {},
   "outputs": [],
   "source": []
  }
 ],
 "metadata": {
  "kernelspec": {
   "display_name": "Python 3 (ipykernel)",
   "language": "python",
   "name": "python3"
  },
  "language_info": {
   "codemirror_mode": {
    "name": "ipython",
    "version": 3
   },
   "file_extension": ".py",
   "mimetype": "text/x-python",
   "name": "python",
   "nbconvert_exporter": "python",
   "pygments_lexer": "ipython3",
   "version": "3.12.3"
  }
 },
 "nbformat": 4,
 "nbformat_minor": 5
}
