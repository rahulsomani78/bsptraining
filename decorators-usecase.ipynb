{
 "cells": [
  {
   "cell_type": "code",
   "execution_count": 3,
   "id": "33674fbc-4591-41e5-980e-45cfd49ae04a",
   "metadata": {},
   "outputs": [],
   "source": [
    "def basic_sal_calculator(emp_type):\n",
    "    da=100\n",
    "    basic = 200\n",
    "    basic_sal = da + basic \n",
    "    def inner(*args,**kwargs):\n",
    "        print(\"Basic salary = {}\".format(basic_sal))\n",
    "        return emp_type(*args,**kwargs) + basic_sal\n",
    "    return inner "
   ]
  },
  {
   "cell_type": "code",
   "execution_count": 4,
   "id": "187b2f96-1041-4a10-b40d-0cd82a4664f1",
   "metadata": {},
   "outputs": [],
   "source": [
    "def emp_type(t):\n",
    "    if  t == 'e':\n",
    "        basic_salary = 300\n",
    "    elif t== 'ne':\n",
    "        basic_salary = 400\n",
    "    return basic_salary\n",
    "    print(\"within emp_type\")\n",
    "        \n",
    "    "
   ]
  },
  {
   "cell_type": "code",
   "execution_count": 5,
   "id": "3a36ec5a-b69e-4795-8c35-5902efdf23ef",
   "metadata": {},
   "outputs": [],
   "source": [
    "emp_type=basic_sal_calculator(emp_type)"
   ]
  },
  {
   "cell_type": "code",
   "execution_count": 6,
   "id": "cc2ef60d-f54a-45a5-9984-80da2036cd27",
   "metadata": {},
   "outputs": [
    {
     "data": {
      "text/plain": [
       "<function __main__.basic_sal_calculator.<locals>.inner(*args, **kwargs)>"
      ]
     },
     "execution_count": 6,
     "metadata": {},
     "output_type": "execute_result"
    }
   ],
   "source": [
    "emp_type"
   ]
  },
  {
   "cell_type": "code",
   "execution_count": 7,
   "id": "acf1f27e-e057-4786-b3c3-e3aa1938d7b8",
   "metadata": {},
   "outputs": [
    {
     "name": "stdout",
     "output_type": "stream",
     "text": [
      "Basic salary = 300\n"
     ]
    },
    {
     "data": {
      "text/plain": [
       "600"
      ]
     },
     "execution_count": 7,
     "metadata": {},
     "output_type": "execute_result"
    }
   ],
   "source": [
    "emp_type('e')"
   ]
  },
  {
   "cell_type": "code",
   "execution_count": 8,
   "id": "69a70078-3b11-400c-9fde-6d3a1805401c",
   "metadata": {},
   "outputs": [
    {
     "name": "stdout",
     "output_type": "stream",
     "text": [
      "Basic salary = 300\n"
     ]
    },
    {
     "data": {
      "text/plain": [
       "700"
      ]
     },
     "execution_count": 8,
     "metadata": {},
     "output_type": "execute_result"
    }
   ],
   "source": [
    "emp_type('ne')"
   ]
  },
  {
   "cell_type": "markdown",
   "id": "499c8b07-1228-4cda-b5de-8d0e81ec3e02",
   "metadata": {},
   "source": [
    "# Lets create a timing decorator "
   ]
  },
  {
   "cell_type": "markdown",
   "id": "641544d5-4cc1-4449-b3ff-1c84b3899346",
   "metadata": {},
   "source": [
    "# For now we will create a fibonacii serier calculator using \n",
    "    - recursions \n",
    "    - loops \n"
   ]
  },
  {
   "cell_type": "code",
   "execution_count": null,
   "id": "4d426493-f9c2-4423-be0f-791bce1c1078",
   "metadata": {},
   "outputs": [],
   "source": [
    " 1 1 2 3 5 8 13 21,....."
   ]
  },
  {
   "cell_type": "code",
   "execution_count": null,
   "id": "b472df85-06ba-4a3e-884f-f97eba0a6164",
   "metadata": {},
   "outputs": [],
   "source": []
  },
  {
   "cell_type": "code",
   "execution_count": 34,
   "id": "131dbb5f-e6d3-43e1-af0d-4056d635661b",
   "metadata": {},
   "outputs": [],
   "source": [
    "def fib_rec(n):\n",
    "    if n<=2:\n",
    "        return 1 \n",
    "    else:\n",
    "        return fib_rec(n-1) + fib_rec(n-2)\n"
   ]
  },
  {
   "cell_type": "code",
   "execution_count": 16,
   "id": "5f1a706b-0f5e-42e7-854a-6ad5dadc1157",
   "metadata": {},
   "outputs": [
    {
     "data": {
      "text/plain": [
       "2"
      ]
     },
     "execution_count": 16,
     "metadata": {},
     "output_type": "execute_result"
    }
   ],
   "source": [
    "fib_rec(3)"
   ]
  },
  {
   "cell_type": "code",
   "execution_count": 17,
   "id": "89674498-3287-4b2f-9ada-83b23b8332d2",
   "metadata": {},
   "outputs": [
    {
     "data": {
      "text/plain": [
       "34"
      ]
     },
     "execution_count": 17,
     "metadata": {},
     "output_type": "execute_result"
    }
   ],
   "source": [
    "fib_rec(9)"
   ]
  },
  {
   "cell_type": "code",
   "execution_count": 28,
   "id": "cedd7a0d-dfc4-4625-b519-7ec3db734956",
   "metadata": {},
   "outputs": [],
   "source": [
    "from time import perf_counter \n",
    "def timed(fn):\n",
    "    def inner(*args,**kwargs):\n",
    "        start = perf_counter()\n",
    "        result = fn(*args,**kwargs)\n",
    "        end = perf_counter()\n",
    "        total_elapsed = end - start\n",
    "        print('{} called with {} and {} took {:.6f} secs'.format(fn.__name__,args,kwargs,total_elapsed))\n",
    "        return result \n",
    "    return inner "
   ]
  },
  {
   "cell_type": "code",
   "execution_count": 32,
   "id": "00d435a5-8afd-487c-ae39-2ae501891914",
   "metadata": {},
   "outputs": [],
   "source": []
  },
  {
   "cell_type": "code",
   "execution_count": null,
   "id": "df2eb2af-b3d9-4f2d-81c4-fff4ffc1302d",
   "metadata": {},
   "outputs": [],
   "source": []
  },
  {
   "cell_type": "code",
   "execution_count": 35,
   "id": "100a86cc-2368-40c0-be2a-ae17a370bcdd",
   "metadata": {},
   "outputs": [],
   "source": [
    "fib_rec = timed(fib_rec)"
   ]
  },
  {
   "cell_type": "code",
   "execution_count": 30,
   "id": "62f40251-680b-4619-b14d-107dc7e8fe84",
   "metadata": {},
   "outputs": [
    {
     "data": {
      "text/plain": [
       "<function __main__.timed.<locals>.inner(*args, **kwargs)>"
      ]
     },
     "execution_count": 30,
     "metadata": {},
     "output_type": "execute_result"
    }
   ],
   "source": [
    "fib_rec"
   ]
  },
  {
   "cell_type": "code",
   "execution_count": 36,
   "id": "51c95a45-fc56-4d16-b053-9dcd31320095",
   "metadata": {},
   "outputs": [
    {
     "name": "stdout",
     "output_type": "stream",
     "text": [
      "fib_rec called with (2,) and {} took 0.000001 secs\n",
      "fib_rec called with (1,) and {} took 0.000001 secs\n",
      "fib_rec called with (3,) and {} took 0.000228 secs\n",
      "fib_rec called with (2,) and {} took 0.000000 secs\n",
      "fib_rec called with (4,) and {} took 0.000241 secs\n",
      "fib_rec called with (2,) and {} took 0.000000 secs\n",
      "fib_rec called with (1,) and {} took 0.000000 secs\n",
      "fib_rec called with (3,) and {} took 0.000011 secs\n",
      "fib_rec called with (5,) and {} took 0.000263 secs\n",
      "fib_rec called with (2,) and {} took 0.000000 secs\n",
      "fib_rec called with (1,) and {} took 0.000000 secs\n",
      "fib_rec called with (3,) and {} took 0.000010 secs\n",
      "fib_rec called with (2,) and {} took 0.000000 secs\n",
      "fib_rec called with (4,) and {} took 0.000021 secs\n",
      "fib_rec called with (6,) and {} took 0.000294 secs\n",
      "fib_rec called with (2,) and {} took 0.000000 secs\n",
      "fib_rec called with (1,) and {} took 0.000000 secs\n",
      "fib_rec called with (3,) and {} took 0.000011 secs\n",
      "fib_rec called with (2,) and {} took 0.000000 secs\n",
      "fib_rec called with (4,) and {} took 0.000023 secs\n",
      "fib_rec called with (2,) and {} took 0.000000 secs\n",
      "fib_rec called with (1,) and {} took 0.000000 secs\n",
      "fib_rec called with (3,) and {} took 0.000011 secs\n",
      "fib_rec called with (5,) and {} took 0.000045 secs\n",
      "fib_rec called with (7,) and {} took 0.000349 secs\n",
      "fib_rec called with (2,) and {} took 0.000000 secs\n",
      "fib_rec called with (1,) and {} took 0.000000 secs\n",
      "fib_rec called with (3,) and {} took 0.000014 secs\n",
      "fib_rec called with (2,) and {} took 0.000000 secs\n",
      "fib_rec called with (4,) and {} took 0.000024 secs\n",
      "fib_rec called with (2,) and {} took 0.000000 secs\n",
      "fib_rec called with (1,) and {} took 0.000000 secs\n",
      "fib_rec called with (3,) and {} took 0.000011 secs\n",
      "fib_rec called with (5,) and {} took 0.000045 secs\n",
      "fib_rec called with (2,) and {} took 0.000000 secs\n",
      "fib_rec called with (1,) and {} took 0.000000 secs\n",
      "fib_rec called with (3,) and {} took 0.000011 secs\n",
      "fib_rec called with (2,) and {} took 0.000000 secs\n",
      "fib_rec called with (4,) and {} took 0.000021 secs\n",
      "fib_rec called with (6,) and {} took 0.000077 secs\n",
      "fib_rec called with (8,) and {} took 0.000437 secs\n",
      "fib_rec called with (2,) and {} took 0.000000 secs\n",
      "fib_rec called with (1,) and {} took 0.000000 secs\n",
      "fib_rec called with (3,) and {} took 0.000011 secs\n",
      "fib_rec called with (2,) and {} took 0.000000 secs\n",
      "fib_rec called with (4,) and {} took 0.000021 secs\n",
      "fib_rec called with (2,) and {} took 0.000000 secs\n",
      "fib_rec called with (1,) and {} took 0.000000 secs\n",
      "fib_rec called with (3,) and {} took 0.000011 secs\n",
      "fib_rec called with (5,) and {} took 0.000041 secs\n",
      "fib_rec called with (2,) and {} took 0.000000 secs\n",
      "fib_rec called with (1,) and {} took 0.000000 secs\n",
      "fib_rec called with (3,) and {} took 0.000010 secs\n",
      "fib_rec called with (2,) and {} took 0.000000 secs\n",
      "fib_rec called with (4,) and {} took 0.000020 secs\n",
      "fib_rec called with (6,) and {} took 0.000071 secs\n",
      "fib_rec called with (2,) and {} took 0.000000 secs\n",
      "fib_rec called with (1,) and {} took 0.000000 secs\n",
      "fib_rec called with (3,) and {} took 0.000009 secs\n",
      "fib_rec called with (2,) and {} took 0.000000 secs\n",
      "fib_rec called with (4,) and {} took 0.000017 secs\n",
      "fib_rec called with (2,) and {} took 0.000000 secs\n",
      "fib_rec called with (1,) and {} took 0.000000 secs\n",
      "fib_rec called with (3,) and {} took 0.000012 secs\n",
      "fib_rec called with (5,) and {} took 0.000037 secs\n",
      "fib_rec called with (7,) and {} took 0.000117 secs\n",
      "fib_rec called with (9,) and {} took 0.000567 secs\n"
     ]
    },
    {
     "data": {
      "text/plain": [
       "34"
      ]
     },
     "execution_count": 36,
     "metadata": {},
     "output_type": "execute_result"
    }
   ],
   "source": [
    "fib_rec(9)"
   ]
  },
  {
   "cell_type": "code",
   "execution_count": 42,
   "id": "2cf0cde0-fde6-449f-b048-d38e0bc098b2",
   "metadata": {},
   "outputs": [],
   "source": [
    "@timed\n",
    "def fib(n):\n",
    "    return fib_rec(n)\n",
    "    "
   ]
  },
  {
   "cell_type": "code",
   "execution_count": 43,
   "id": "a7a1a2bd-7f9d-49e8-9cdf-7dac41547804",
   "metadata": {},
   "outputs": [
    {
     "name": "stdout",
     "output_type": "stream",
     "text": [
      "fib_rec called with (2,) and {} took 0.000000 secs\n",
      "fib_rec called with (1,) and {} took 0.000001 secs\n",
      "fib_rec called with (3,) and {} took 0.000215 secs\n",
      "fib_rec called with (2,) and {} took 0.000000 secs\n",
      "fib_rec called with (4,) and {} took 0.000223 secs\n",
      "fib_rec called with (2,) and {} took 0.000000 secs\n",
      "fib_rec called with (1,) and {} took 0.000000 secs\n",
      "fib_rec called with (3,) and {} took 0.000009 secs\n",
      "fib_rec called with (5,) and {} took 0.000244 secs\n",
      "fib called with (5,) and {} took 0.000252 secs\n"
     ]
    },
    {
     "data": {
      "text/plain": [
       "5"
      ]
     },
     "execution_count": 43,
     "metadata": {},
     "output_type": "execute_result"
    }
   ],
   "source": [
    "fib(5)"
   ]
  },
  {
   "cell_type": "code",
   "execution_count": 45,
   "id": "8c85bffa-ba59-4df3-a138-e3152e286ec4",
   "metadata": {},
   "outputs": [
    {
     "name": "stdout",
     "output_type": "stream",
     "text": [
      "calc_recursive called with (10,) and {} took 0.000007 secs\n"
     ]
    },
    {
     "data": {
      "text/plain": [
       "55"
      ]
     },
     "execution_count": 45,
     "metadata": {},
     "output_type": "execute_result"
    }
   ],
   "source": [
    "\n",
    "def fib_r(n):\n",
    "    if n <=2:\n",
    "        return 1 \n",
    "    else:\n",
    "        return fib_r(n-1) + fib_r(n-2)\n",
    "        \n",
    "@timed\n",
    "def calc_recursive(n):\n",
    "    return fib_r(n)\n",
    "\n",
    "calc_recursive(10) "
   ]
  },
  {
   "cell_type": "code",
   "execution_count": 46,
   "id": "5bf7c863-87ad-48f6-bfdd-446189aa9246",
   "metadata": {},
   "outputs": [],
   "source": [
    "# With loops \n",
    "\n",
    "@timed\n",
    "def fib_loop(n):\n",
    "    fib_1 = 1 \n",
    "    fib_2 = 1\n",
    "    for i in range(3,n+1):\n",
    "        fib_1,fib_2 = fib_2,fib_1+fib_2\n",
    "    return fib_2"
   ]
  },
  {
   "cell_type": "code",
   "execution_count": 48,
   "id": "f3cab88b-1fdc-4cea-884a-8073d7394281",
   "metadata": {},
   "outputs": [
    {
     "name": "stdout",
     "output_type": "stream",
     "text": [
      "fib_loop called with (10,) and {} took 0.000003 secs\n"
     ]
    },
    {
     "data": {
      "text/plain": [
       "55"
      ]
     },
     "execution_count": 48,
     "metadata": {},
     "output_type": "execute_result"
    }
   ],
   "source": [
    "fib_loop(10)"
   ]
  },
  {
   "cell_type": "code",
   "execution_count": 53,
   "id": "aa62a3af-6205-463c-aa15-abaf7540c96f",
   "metadata": {},
   "outputs": [
    {
     "name": "stdout",
     "output_type": "stream",
     "text": [
      "fib_loop called with (60,) and {} took 0.000003 secs\n"
     ]
    },
    {
     "data": {
      "text/plain": [
       "1548008755920"
      ]
     },
     "execution_count": 53,
     "metadata": {},
     "output_type": "execute_result"
    }
   ],
   "source": [
    "fib_loop(60)"
   ]
  },
  {
   "cell_type": "code",
   "execution_count": null,
   "id": "0bf63581-5494-4af3-bb34-339697d96887",
   "metadata": {},
   "outputs": [],
   "source": []
  }
 ],
 "metadata": {
  "kernelspec": {
   "display_name": "Python 3 (ipykernel)",
   "language": "python",
   "name": "python3"
  },
  "language_info": {
   "codemirror_mode": {
    "name": "ipython",
    "version": 3
   },
   "file_extension": ".py",
   "mimetype": "text/x-python",
   "name": "python",
   "nbconvert_exporter": "python",
   "pygments_lexer": "ipython3",
   "version": "3.12.3"
  }
 },
 "nbformat": 4,
 "nbformat_minor": 5
}
