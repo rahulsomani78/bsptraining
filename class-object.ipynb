{
 "cells": [
  {
   "cell_type": "code",
   "execution_count": 2,
   "id": "63dc1861-1a83-477a-8817-e77c99ca557c",
   "metadata": {},
   "outputs": [],
   "source": [
    "class Person:\n",
    "    pass"
   ]
  },
  {
   "cell_type": "code",
   "execution_count": 3,
   "id": "08744a3b-e7ae-4bf2-bece-175c74a527a9",
   "metadata": {},
   "outputs": [
    {
     "data": {
      "text/plain": [
       "__main__.Person"
      ]
     },
     "execution_count": 3,
     "metadata": {},
     "output_type": "execute_result"
    }
   ],
   "source": [
    "Person"
   ]
  },
  {
   "cell_type": "code",
   "execution_count": 5,
   "id": "d210ce22-56eb-4ed2-b704-4b297ceaedb9",
   "metadata": {},
   "outputs": [
    {
     "data": {
      "text/plain": [
       "'Person'"
      ]
     },
     "execution_count": 5,
     "metadata": {},
     "output_type": "execute_result"
    }
   ],
   "source": [
    "Person.__name__"
   ]
  },
  {
   "cell_type": "code",
   "execution_count": 6,
   "id": "de34cfab-ca72-47dd-8008-cf9d6403119a",
   "metadata": {},
   "outputs": [
    {
     "data": {
      "text/plain": [
       "mappingproxy({'__module__': '__main__',\n",
       "              '__dict__': <attribute '__dict__' of 'Person' objects>,\n",
       "              '__weakref__': <attribute '__weakref__' of 'Person' objects>,\n",
       "              '__doc__': None})"
      ]
     },
     "execution_count": 6,
     "metadata": {},
     "output_type": "execute_result"
    }
   ],
   "source": [
    "Person.__dict__"
   ]
  },
  {
   "cell_type": "code",
   "execution_count": 7,
   "id": "22f8f4d6-922b-4727-8803-e9e8c965b056",
   "metadata": {},
   "outputs": [],
   "source": [
    "p = Person()"
   ]
  },
  {
   "cell_type": "code",
   "execution_count": 8,
   "id": "933c2aaf-10fa-49e1-a73d-b3be575768e9",
   "metadata": {},
   "outputs": [
    {
     "data": {
      "text/plain": [
       "<__main__.Person at 0x1caa29f49b0>"
      ]
     },
     "execution_count": 8,
     "metadata": {},
     "output_type": "execute_result"
    }
   ],
   "source": [
    "p"
   ]
  },
  {
   "cell_type": "code",
   "execution_count": 9,
   "id": "a3d4e7b3-dd3a-40be-b6bb-3adf723ae783",
   "metadata": {},
   "outputs": [
    {
     "data": {
      "text/plain": [
       "__main__.Person"
      ]
     },
     "execution_count": 9,
     "metadata": {},
     "output_type": "execute_result"
    }
   ],
   "source": [
    "p.__class__"
   ]
  },
  {
   "cell_type": "code",
   "execution_count": 12,
   "id": "6c3ca3cc-230b-4751-989a-ca19be83600c",
   "metadata": {},
   "outputs": [
    {
     "data": {
      "text/plain": [
       "__main__.Person"
      ]
     },
     "execution_count": 12,
     "metadata": {},
     "output_type": "execute_result"
    }
   ],
   "source": [
    "type(p)"
   ]
  },
  {
   "cell_type": "code",
   "execution_count": 13,
   "id": "f4685f68-ec83-4ae9-922d-06807de91a62",
   "metadata": {},
   "outputs": [
    {
     "data": {
      "text/plain": [
       "True"
      ]
     },
     "execution_count": 13,
     "metadata": {},
     "output_type": "execute_result"
    }
   ],
   "source": [
    "type(p) is p.__class__"
   ]
  },
  {
   "cell_type": "code",
   "execution_count": 14,
   "id": "f8cafbf0-6a47-4d24-b2c7-00d5a39ac3ad",
   "metadata": {},
   "outputs": [
    {
     "data": {
      "text/plain": [
       "True"
      ]
     },
     "execution_count": 14,
     "metadata": {},
     "output_type": "execute_result"
    }
   ],
   "source": [
    "isinstance(p,Person)"
   ]
  },
  {
   "cell_type": "markdown",
   "id": "99482f10-510e-4dd0-963d-bad551084e45",
   "metadata": {},
   "source": [
    "# Class attributes "
   ]
  },
  {
   "cell_type": "code",
   "execution_count": 15,
   "id": "db888744-3e85-4659-acc8-7848edaa17a3",
   "metadata": {},
   "outputs": [],
   "source": [
    "class Program:\n",
    "    language = 'python'\n",
    "    version = '3.13'"
   ]
  },
  {
   "cell_type": "code",
   "execution_count": 16,
   "id": "985ee135-4f94-4401-bfa4-9bde3da75f43",
   "metadata": {},
   "outputs": [
    {
     "data": {
      "text/plain": [
       "type"
      ]
     },
     "execution_count": 16,
     "metadata": {},
     "output_type": "execute_result"
    }
   ],
   "source": [
    "type(Program)"
   ]
  },
  {
   "cell_type": "code",
   "execution_count": 17,
   "id": "a610ebc4-228b-4ff1-8434-64632c4c5433",
   "metadata": {},
   "outputs": [
    {
     "data": {
      "text/plain": [
       "'Program'"
      ]
     },
     "execution_count": 17,
     "metadata": {},
     "output_type": "execute_result"
    }
   ],
   "source": [
    "Program.__name__"
   ]
  },
  {
   "cell_type": "code",
   "execution_count": 18,
   "id": "1c6200aa-ca95-437f-a74d-c98853890201",
   "metadata": {},
   "outputs": [
    {
     "data": {
      "text/plain": [
       "mappingproxy({'__module__': '__main__',\n",
       "              'language': 'python',\n",
       "              'version': '3.13',\n",
       "              '__dict__': <attribute '__dict__' of 'Program' objects>,\n",
       "              '__weakref__': <attribute '__weakref__' of 'Program' objects>,\n",
       "              '__doc__': None})"
      ]
     },
     "execution_count": 18,
     "metadata": {},
     "output_type": "execute_result"
    }
   ],
   "source": [
    "Program.__dict__"
   ]
  },
  {
   "cell_type": "code",
   "execution_count": 19,
   "id": "321de9ae-a590-4473-9e21-2dab8c4aef8b",
   "metadata": {},
   "outputs": [
    {
     "data": {
      "text/plain": [
       "('python', '3.13')"
      ]
     },
     "execution_count": 19,
     "metadata": {},
     "output_type": "execute_result"
    }
   ],
   "source": [
    "Program.language , Program.version"
   ]
  },
  {
   "cell_type": "code",
   "execution_count": 21,
   "id": "c82692e6-b578-4679-9e3a-06fa1a7f6621",
   "metadata": {},
   "outputs": [
    {
     "data": {
      "text/plain": [
       "('python', '3.13')"
      ]
     },
     "execution_count": 21,
     "metadata": {},
     "output_type": "execute_result"
    }
   ],
   "source": [
    "Program.__dict__['language'], Program.__dict__['version']"
   ]
  },
  {
   "cell_type": "code",
   "execution_count": 22,
   "id": "7780931f-672e-4f4f-8238-61c9ce8442e5",
   "metadata": {},
   "outputs": [],
   "source": [
    "Program.language = 'Pypy'"
   ]
  },
  {
   "cell_type": "code",
   "execution_count": 23,
   "id": "99d13774-c3b2-4a03-8221-9a5fc98e1f83",
   "metadata": {},
   "outputs": [
    {
     "data": {
      "text/plain": [
       "('Pypy', '3.13')"
      ]
     },
     "execution_count": 23,
     "metadata": {},
     "output_type": "execute_result"
    }
   ],
   "source": [
    "Program.language , Program.version\n"
   ]
  },
  {
   "cell_type": "code",
   "execution_count": 24,
   "id": "865e9ad5-82c8-489b-8ea7-a4c404076fb0",
   "metadata": {},
   "outputs": [],
   "source": [
    "# getattr and setattr"
   ]
  },
  {
   "cell_type": "code",
   "execution_count": 25,
   "id": "64e43e83-0957-4e44-b61f-4f898f70e71f",
   "metadata": {},
   "outputs": [
    {
     "data": {
      "text/plain": [
       "<function getattr>"
      ]
     },
     "execution_count": 25,
     "metadata": {},
     "output_type": "execute_result"
    }
   ],
   "source": [
    "getattr"
   ]
  },
  {
   "cell_type": "code",
   "execution_count": 28,
   "id": "8d3d20be-89a1-4d11-8ca1-cd2ea218e6e0",
   "metadata": {},
   "outputs": [
    {
     "name": "stdout",
     "output_type": "stream",
     "text": [
      "Help on built-in function getattr in module builtins:\n",
      "\n",
      "getattr(...)\n",
      "    Get a named attribute from an object.\n",
      "\n",
      "    getattr(x, 'y') is equivalent to x.y\n",
      "    When a default argument is given, it is returned when the attribute doesn't\n",
      "    exist; without it, an exception is raised in that case.\n",
      "\n"
     ]
    }
   ],
   "source": [
    "help(getattr)"
   ]
  },
  {
   "cell_type": "code",
   "execution_count": 27,
   "id": "73dea82f-fa96-41ff-9a77-f344537a2713",
   "metadata": {},
   "outputs": [
    {
     "data": {
      "text/plain": [
       "'3.13'"
      ]
     },
     "execution_count": 27,
     "metadata": {},
     "output_type": "execute_result"
    }
   ],
   "source": [
    "getattr(Program,'version')\n"
   ]
  },
  {
   "cell_type": "code",
   "execution_count": 29,
   "id": "9f90061c-d38f-43aa-9576-e1060c2515db",
   "metadata": {},
   "outputs": [
    {
     "data": {
      "text/plain": [
       "<function setattr(obj, name, value, /)>"
      ]
     },
     "execution_count": 29,
     "metadata": {},
     "output_type": "execute_result"
    }
   ],
   "source": [
    "setattr"
   ]
  },
  {
   "cell_type": "code",
   "execution_count": 30,
   "id": "f1f05992-6d0d-4583-b1ea-0d82e27a6330",
   "metadata": {},
   "outputs": [],
   "source": [
    "setattr(Program,'version','3.12')"
   ]
  },
  {
   "cell_type": "code",
   "execution_count": 31,
   "id": "15ee00d6-e54c-48eb-b9b8-ffb3add017c0",
   "metadata": {},
   "outputs": [
    {
     "data": {
      "text/plain": [
       "'3.12'"
      ]
     },
     "execution_count": 31,
     "metadata": {},
     "output_type": "execute_result"
    }
   ],
   "source": [
    "getattr(Program,'version')\n"
   ]
  },
  {
   "cell_type": "code",
   "execution_count": 32,
   "id": "5ed637d3-2ae3-4da5-9ba7-8ed23fd4c5ac",
   "metadata": {},
   "outputs": [
    {
     "data": {
      "text/plain": [
       "'3.12'"
      ]
     },
     "execution_count": 32,
     "metadata": {},
     "output_type": "execute_result"
    }
   ],
   "source": [
    "Program.version"
   ]
  },
  {
   "cell_type": "markdown",
   "id": "c43731e8-0ea8-4467-b0c6-bafd841bf3ea",
   "metadata": {},
   "source": [
    "Trying to access an attribute that does not exist "
   ]
  },
  {
   "cell_type": "code",
   "execution_count": 33,
   "id": "ac1481a9-f466-4a7d-ac0c-d05e6e97e125",
   "metadata": {},
   "outputs": [
    {
     "ename": "AttributeError",
     "evalue": "type object 'Program' has no attribute 'docs'",
     "output_type": "error",
     "traceback": [
      "\u001b[1;31m---------------------------------------------------------------------------\u001b[0m",
      "\u001b[1;31mAttributeError\u001b[0m                            Traceback (most recent call last)",
      "Cell \u001b[1;32mIn[33], line 1\u001b[0m\n\u001b[1;32m----> 1\u001b[0m \u001b[38;5;28;43mgetattr\u001b[39;49m\u001b[43m(\u001b[49m\u001b[43mProgram\u001b[49m\u001b[43m,\u001b[49m\u001b[38;5;124;43m'\u001b[39;49m\u001b[38;5;124;43mdocs\u001b[39;49m\u001b[38;5;124;43m'\u001b[39;49m\u001b[43m)\u001b[49m\n",
      "\u001b[1;31mAttributeError\u001b[0m: type object 'Program' has no attribute 'docs'"
     ]
    }
   ],
   "source": [
    "getattr(Program,'docs')"
   ]
  },
  {
   "cell_type": "markdown",
   "id": "f8bf7579-34c4-438b-9ad8-c8f66b7f078d",
   "metadata": {},
   "source": [
    "Inorder to make sure this does not happen, we can provide a default arg"
   ]
  },
  {
   "cell_type": "code",
   "execution_count": 34,
   "id": "d9b22ebc-36da-4508-8768-b50633bc0035",
   "metadata": {},
   "outputs": [
    {
     "data": {
      "text/plain": [
       "'N/A'"
      ]
     },
     "execution_count": 34,
     "metadata": {},
     "output_type": "execute_result"
    }
   ],
   "source": [
    "getattr(Program,'docs','N/A')\n"
   ]
  },
  {
   "cell_type": "markdown",
   "id": "56fdf266-4acd-4a65-83be-b2e6925525dd",
   "metadata": {},
   "source": [
    "Python is a dynamic language. It means that during run time, after the class and the object has been created, we can add attributes , both data and function \n",
    "attributes to the object. "
   ]
  },
  {
   "cell_type": "code",
   "execution_count": 35,
   "id": "c771f881-8389-418a-9fb0-e10fa3aa0e3a",
   "metadata": {},
   "outputs": [],
   "source": [
    "Program.latest = True\n",
    "Program.stable = 'No'"
   ]
  },
  {
   "cell_type": "code",
   "execution_count": 36,
   "id": "4174640d-ecc8-4c91-8d55-1651c95646ed",
   "metadata": {},
   "outputs": [
    {
     "data": {
      "text/plain": [
       "mappingproxy({'__module__': '__main__',\n",
       "              'language': 'Pypy',\n",
       "              'version': '3.12',\n",
       "              '__dict__': <attribute '__dict__' of 'Program' objects>,\n",
       "              '__weakref__': <attribute '__weakref__' of 'Program' objects>,\n",
       "              '__doc__': None,\n",
       "              'latest': True,\n",
       "              'stable': 'No'})"
      ]
     },
     "execution_count": 36,
     "metadata": {},
     "output_type": "execute_result"
    }
   ],
   "source": [
    "Program.__dict__"
   ]
  },
  {
   "cell_type": "markdown",
   "id": "57af2fd5-34c6-493d-8ca9-a2ba901b825f",
   "metadata": {},
   "source": [
    "Now, we can also delete attributes using `delattr` function"
   ]
  },
  {
   "cell_type": "code",
   "execution_count": 37,
   "id": "071a2ecb-e065-41bb-b240-4bce0a4ba6f4",
   "metadata": {},
   "outputs": [
    {
     "data": {
      "text/plain": [
       "<function delattr(obj, name, /)>"
      ]
     },
     "execution_count": 37,
     "metadata": {},
     "output_type": "execute_result"
    }
   ],
   "source": [
    "delattr"
   ]
  },
  {
   "cell_type": "code",
   "execution_count": 39,
   "id": "26b603bd-3ee6-4d74-8bcc-218a0541ce52",
   "metadata": {},
   "outputs": [],
   "source": [
    "delattr(Program,'latest')"
   ]
  },
  {
   "cell_type": "code",
   "execution_count": 42,
   "id": "2b155fd6-611c-4218-a8f8-7be5345b0192",
   "metadata": {},
   "outputs": [
    {
     "data": {
      "text/plain": [
       "mappingproxy({'__module__': '__main__',\n",
       "              'language': 'Pypy',\n",
       "              'version': '3.12',\n",
       "              '__dict__': <attribute '__dict__' of 'Program' objects>,\n",
       "              '__weakref__': <attribute '__weakref__' of 'Program' objects>,\n",
       "              '__doc__': None,\n",
       "              'stable': 'No'})"
      ]
     },
     "execution_count": 42,
     "metadata": {},
     "output_type": "execute_result"
    }
   ],
   "source": [
    "Program.__dict__\n"
   ]
  },
  {
   "cell_type": "markdown",
   "id": "50a26aa9-f383-4399-9da0-fa1ccf302f89",
   "metadata": {},
   "source": [
    "Attributes can also be deleted using del"
   ]
  },
  {
   "cell_type": "code",
   "execution_count": 43,
   "id": "4a84e586-cc6b-4c0c-8894-2496444d1cb9",
   "metadata": {},
   "outputs": [],
   "source": [
    "del(Program.stable)"
   ]
  },
  {
   "cell_type": "code",
   "execution_count": 44,
   "id": "4f4b73b2-d9d6-4a3e-8815-59681f7447f8",
   "metadata": {},
   "outputs": [
    {
     "data": {
      "text/plain": [
       "mappingproxy({'__module__': '__main__',\n",
       "              'language': 'Pypy',\n",
       "              'version': '3.12',\n",
       "              '__dict__': <attribute '__dict__' of 'Program' objects>,\n",
       "              '__weakref__': <attribute '__weakref__' of 'Program' objects>,\n",
       "              '__doc__': None})"
      ]
     },
     "execution_count": 44,
     "metadata": {},
     "output_type": "execute_result"
    }
   ],
   "source": [
    "Program.__dict__"
   ]
  },
  {
   "cell_type": "code",
   "execution_count": 46,
   "id": "ff1aaa69-816b-439f-8c23-420f07a6294d",
   "metadata": {},
   "outputs": [],
   "source": [
    "del Program.version"
   ]
  },
  {
   "cell_type": "code",
   "execution_count": 47,
   "id": "e262923e-6930-4862-890d-15587c488bf5",
   "metadata": {},
   "outputs": [
    {
     "data": {
      "text/plain": [
       "mappingproxy({'__module__': '__main__',\n",
       "              'language': 'Pypy',\n",
       "              '__dict__': <attribute '__dict__' of 'Program' objects>,\n",
       "              '__weakref__': <attribute '__weakref__' of 'Program' objects>,\n",
       "              '__doc__': None})"
      ]
     },
     "execution_count": 47,
     "metadata": {},
     "output_type": "execute_result"
    }
   ],
   "source": [
    "Program.__dict__"
   ]
  },
  {
   "cell_type": "markdown",
   "id": "932eb62e-6135-42d6-b38b-6546ec8a11da",
   "metadata": {},
   "source": [
    "- Callable class attributes "
   ]
  },
  {
   "cell_type": "code",
   "execution_count": 48,
   "id": "203b19b0-01bd-403d-817e-0f25c3315d1f",
   "metadata": {},
   "outputs": [],
   "source": [
    "class Program:\n",
    "    language = 'python'\n",
    "\n",
    "    def func():\n",
    "        print('Hello {}'.format(Program.language))"
   ]
  },
  {
   "cell_type": "code",
   "execution_count": 49,
   "id": "cf218321-ac87-45d9-b92b-39cc11a2ccf7",
   "metadata": {},
   "outputs": [
    {
     "data": {
      "text/plain": [
       "mappingproxy({'__module__': '__main__',\n",
       "              'language': 'python',\n",
       "              'func': <function __main__.Program.func()>,\n",
       "              '__dict__': <attribute '__dict__' of 'Program' objects>,\n",
       "              '__weakref__': <attribute '__weakref__' of 'Program' objects>,\n",
       "              '__doc__': None})"
      ]
     },
     "execution_count": 49,
     "metadata": {},
     "output_type": "execute_result"
    }
   ],
   "source": [
    "Program.__dict__"
   ]
  },
  {
   "cell_type": "code",
   "execution_count": 50,
   "id": "bf393405-972c-4113-8aed-eed3b1959766",
   "metadata": {},
   "outputs": [
    {
     "data": {
      "text/plain": [
       "(<function __main__.Program.func()>, <function __main__.Program.func()>)"
      ]
     },
     "execution_count": 50,
     "metadata": {},
     "output_type": "execute_result"
    }
   ],
   "source": [
    "Program.func, getattr(Program,'func')"
   ]
  },
  {
   "cell_type": "code",
   "execution_count": 51,
   "id": "03578816-4d57-44a2-84cf-3474929e72f9",
   "metadata": {},
   "outputs": [
    {
     "name": "stdout",
     "output_type": "stream",
     "text": [
      "Hello python\n"
     ]
    }
   ],
   "source": [
    "Program.func()"
   ]
  },
  {
   "cell_type": "code",
   "execution_count": 52,
   "id": "93a77911-ac0d-49cb-9671-6d6e54cfcb9c",
   "metadata": {},
   "outputs": [
    {
     "name": "stdout",
     "output_type": "stream",
     "text": [
      "Hello python\n"
     ]
    }
   ],
   "source": [
    "getattr(Program,'func')()"
   ]
  },
  {
   "cell_type": "markdown",
   "id": "3febe0c3-65a0-4952-be79-62214920b3cd",
   "metadata": {},
   "source": [
    "<pre>\n",
    "\n",
    "\n",
    "We know that when we define a class, python essentially makes it a callable.\n",
    "\n",
    "And when we call it, we get instances of that class.\n",
    "\n",
    "So let's take a look at that.\n",
    "\n",
    "Let's go ahead and write our program class again.\n",
    "\n",
    "So we'll do a data attribute here.\n",
    "\n",
    "Let's call it language, and we'll make that python and we're going to define our function attributes.\n",
    "\n",
    "So def say hello and all I'm going to do here is the same as before.\n",
    "\n",
    "So I'm using the same example.\n",
    "\n",
    "We'll just say hello from and then we'll interpolate program dot language like so.\n",
    "\n",
    "Okay, so now what happens is that this class is callable so we can call program and when we do that\n",
    "\n",
    "we now get an instance of this class.\n",
    "\n",
    "So it's a different object.\n",
    "\n",
    "It's not the same type.\n",
    "\n",
    "We can take a look at the type of P and you can see here that Python tells us the type of P is program,\n",
    "\n",
    "which is of course in our main module.\n",
    "\n",
    "Now we can also look at the Is instance.\n",
    "\n",
    "So we can also use the Is instance function and we can ask Python to tell us if P is an instance of\n",
    "\n",
    "program.\n",
    "\n",
    "And again, that's going to return true because it is indeed an instance of that particular class.\n",
    "\n",
    "Now what's important to understand is that classes and instances of that class are not the same objects\n",
    "\n",
    "and in fact they have their own namespace.\n",
    "\n",
    "So if I look, for example, at the namespace in the dictionary of P, you'll see that it's empty currently.\n",
    "\n",
    "But if I look at the dictionary for the class, you can see that we have our attributes, we have our\n",
    "\n",
    "class attributes.\n",
    "\n",
    "So this is why we call these attributes class attributes.\n",
    "\n",
    "And so they belong to the namespace of the class.\n",
    "\n",
    "They're inside the class.\n",
    "\n",
    "The class attributes.\n",
    "\n",
    "They're not inside the namespace of the instance.\n",
    "\n",
    "Now, just as with classes, instances may have attributes that are not visible in the dictionary in\n",
    "\n",
    "the dict.\n",
    "\n",
    "So we'll come back to this later.\n",
    "\n",
    "But just be aware that not everything, not every property that an object has is necessarily present\n",
    "\n",
    "in that dictionary.\n",
    "\n",
    "It can come from other places as well, especially also once we start looking at inheritance, for example,\n",
    "\n",
    "</pre>"
   ]
  },
  {
   "cell_type": "code",
   "execution_count": 56,
   "id": "fa53d336-1a86-4df5-a47a-9661ff019cb8",
   "metadata": {},
   "outputs": [],
   "source": [
    "p = Program()"
   ]
  },
  {
   "cell_type": "code",
   "execution_count": 57,
   "id": "322e05de-8fbb-4505-9e61-d221fe5195f8",
   "metadata": {},
   "outputs": [
    {
     "data": {
      "text/plain": [
       "<__main__.Program at 0x1caa2a2f080>"
      ]
     },
     "execution_count": 57,
     "metadata": {},
     "output_type": "execute_result"
    }
   ],
   "source": [
    "p"
   ]
  },
  {
   "cell_type": "code",
   "execution_count": 58,
   "id": "4cce0357-27a8-4370-a5d3-20556c553cb0",
   "metadata": {},
   "outputs": [
    {
     "data": {
      "text/plain": [
       "__main__.Program"
      ]
     },
     "execution_count": 58,
     "metadata": {},
     "output_type": "execute_result"
    }
   ],
   "source": [
    "type(p)"
   ]
  },
  {
   "cell_type": "code",
   "execution_count": 59,
   "id": "e0e07fe6-6339-40d8-a1f1-60669da44d50",
   "metadata": {},
   "outputs": [
    {
     "data": {
      "text/plain": [
       "mappingproxy({'__module__': '__main__',\n",
       "              'language': 'python',\n",
       "              'func': <function __main__.Program.func()>,\n",
       "              '__dict__': <attribute '__dict__' of 'Program' objects>,\n",
       "              '__weakref__': <attribute '__weakref__' of 'Program' objects>,\n",
       "              '__doc__': None})"
      ]
     },
     "execution_count": 59,
     "metadata": {},
     "output_type": "execute_result"
    }
   ],
   "source": [
    "Program.__dict__"
   ]
  },
  {
   "cell_type": "code",
   "execution_count": 60,
   "id": "69c2c6ae-94b1-4a3f-bff4-84f0c54839dd",
   "metadata": {},
   "outputs": [
    {
     "data": {
      "text/plain": [
       "{}"
      ]
     },
     "execution_count": 60,
     "metadata": {},
     "output_type": "execute_result"
    }
   ],
   "source": [
    "p.__dict__"
   ]
  },
  {
   "cell_type": "code",
   "execution_count": null,
   "id": "df93df21-1ea4-4c7d-82fc-24b81c0c3928",
   "metadata": {},
   "outputs": [],
   "source": []
  }
 ],
 "metadata": {
  "kernelspec": {
   "display_name": "Python 3 (ipykernel)",
   "language": "python",
   "name": "python3"
  },
  "language_info": {
   "codemirror_mode": {
    "name": "ipython",
    "version": 3
   },
   "file_extension": ".py",
   "mimetype": "text/x-python",
   "name": "python",
   "nbconvert_exporter": "python",
   "pygments_lexer": "ipython3",
   "version": "3.12.3"
  }
 },
 "nbformat": 4,
 "nbformat_minor": 5
}
