{
 "cells": [
  {
   "cell_type": "markdown",
   "id": "e0c4bfa6-9b8b-457e-91c5-76582b47dbcf",
   "metadata": {},
   "source": [
    "A gentle introduction to `generators` "
   ]
  },
  {
   "cell_type": "markdown",
   "id": "eeb5814b-8c5d-4006-8ea8-922d5f1febc7",
   "metadata": {},
   "source": [
    "Functions that have a yield keyword\n",
    "Such functions becomes generators \n"
   ]
  },
  {
   "cell_type": "code",
   "execution_count": 1,
   "id": "07ecac34-b92c-4e03-afbb-188d9d927a47",
   "metadata": {},
   "outputs": [],
   "source": [
    "def func():\n",
    "    print(\"A function or ?\")\n",
    "    yield \"Hello\""
   ]
  },
  {
   "cell_type": "code",
   "execution_count": 2,
   "id": "1ebb81bf-d435-4e31-a9d0-4900dd670ace",
   "metadata": {},
   "outputs": [
    {
     "data": {
      "text/plain": [
       "<function __main__.func()>"
      ]
     },
     "execution_count": 2,
     "metadata": {},
     "output_type": "execute_result"
    }
   ],
   "source": [
    "func"
   ]
  },
  {
   "cell_type": "code",
   "execution_count": 3,
   "id": "b9678d72-64cf-4b9f-a9e6-1fa6a2a872ca",
   "metadata": {},
   "outputs": [
    {
     "data": {
      "text/plain": [
       "<generator object func at 0x000001D477F3CD00>"
      ]
     },
     "execution_count": 3,
     "metadata": {},
     "output_type": "execute_result"
    }
   ],
   "source": [
    "func()"
   ]
  },
  {
   "cell_type": "code",
   "execution_count": 4,
   "id": "ccf2791b-e19d-466c-9e3f-2570351362ea",
   "metadata": {},
   "outputs": [],
   "source": [
    "f = func()"
   ]
  },
  {
   "cell_type": "code",
   "execution_count": 5,
   "id": "dceb4523-e856-49c5-b22c-b361ca17d74d",
   "metadata": {},
   "outputs": [
    {
     "data": {
      "text/plain": [
       "<generator object func at 0x000001D477F3CF40>"
      ]
     },
     "execution_count": 5,
     "metadata": {},
     "output_type": "execute_result"
    }
   ],
   "source": [
    "f"
   ]
  },
  {
   "cell_type": "code",
   "execution_count": 6,
   "id": "e046f9a7-d485-43d9-8566-bb99b684fc82",
   "metadata": {},
   "outputs": [
    {
     "name": "stdout",
     "output_type": "stream",
     "text": [
      "A function or ?\n"
     ]
    },
    {
     "data": {
      "text/plain": [
       "'Hello'"
      ]
     },
     "execution_count": 6,
     "metadata": {},
     "output_type": "execute_result"
    }
   ],
   "source": [
    "next(f)"
   ]
  },
  {
   "cell_type": "code",
   "execution_count": 7,
   "id": "848c214b-dfb9-4943-b5ec-c0d1829e2dc5",
   "metadata": {},
   "outputs": [],
   "source": [
    "def func():\n",
    "    print(\"A function or ?\")\n",
    "    yield \"Hello\"\n",
    "    print(\"second line\")\n",
    "    yield \"second\"\n",
    "    print('Third line')\n",
    "    yield 67\n",
    "    "
   ]
  },
  {
   "cell_type": "code",
   "execution_count": 8,
   "id": "13b97053-4013-4976-aaab-09e28f10b79b",
   "metadata": {},
   "outputs": [],
   "source": [
    "f = func()"
   ]
  },
  {
   "cell_type": "code",
   "execution_count": 9,
   "id": "64688968-cd09-42f7-be8a-65bb4a7b540d",
   "metadata": {},
   "outputs": [
    {
     "data": {
      "text/plain": [
       "<generator object func at 0x000001D477F3CDC0>"
      ]
     },
     "execution_count": 9,
     "metadata": {},
     "output_type": "execute_result"
    }
   ],
   "source": [
    "f"
   ]
  },
  {
   "cell_type": "code",
   "execution_count": 10,
   "id": "7bdc8c38-9264-41c5-8bf9-7c213592b352",
   "metadata": {},
   "outputs": [
    {
     "name": "stdout",
     "output_type": "stream",
     "text": [
      "A function or ?\n"
     ]
    },
    {
     "data": {
      "text/plain": [
       "'Hello'"
      ]
     },
     "execution_count": 10,
     "metadata": {},
     "output_type": "execute_result"
    }
   ],
   "source": [
    "next(f)"
   ]
  },
  {
   "cell_type": "code",
   "execution_count": 12,
   "id": "9157a1ce-45e0-4e2f-a6b2-745c00ebf71b",
   "metadata": {},
   "outputs": [
    {
     "name": "stdout",
     "output_type": "stream",
     "text": [
      "second line\n"
     ]
    },
    {
     "data": {
      "text/plain": [
       "'second'"
      ]
     },
     "execution_count": 12,
     "metadata": {},
     "output_type": "execute_result"
    }
   ],
   "source": [
    "next(f)"
   ]
  },
  {
   "cell_type": "code",
   "execution_count": 13,
   "id": "97b4ab09-94b7-40e8-8b55-5b5785ded541",
   "metadata": {},
   "outputs": [
    {
     "name": "stdout",
     "output_type": "stream",
     "text": [
      "Third line\n"
     ]
    },
    {
     "data": {
      "text/plain": [
       "67"
      ]
     },
     "execution_count": 13,
     "metadata": {},
     "output_type": "execute_result"
    }
   ],
   "source": [
    "next(f)"
   ]
  },
  {
   "cell_type": "code",
   "execution_count": 14,
   "id": "9f9ea7c2-7d90-415e-a2ed-b93b0af08d02",
   "metadata": {},
   "outputs": [
    {
     "ename": "StopIteration",
     "evalue": "",
     "output_type": "error",
     "traceback": [
      "\u001b[1;31m---------------------------------------------------------------------------\u001b[0m",
      "\u001b[1;31mStopIteration\u001b[0m                             Traceback (most recent call last)",
      "Cell \u001b[1;32mIn[14], line 1\u001b[0m\n\u001b[1;32m----> 1\u001b[0m \u001b[38;5;28;43mnext\u001b[39;49m\u001b[43m(\u001b[49m\u001b[43mf\u001b[49m\u001b[43m)\u001b[49m\n",
      "\u001b[1;31mStopIteration\u001b[0m: "
     ]
    }
   ],
   "source": [
    "next(f)"
   ]
  },
  {
   "cell_type": "code",
   "execution_count": 15,
   "id": "2c210c2f-6598-42f5-85e7-4010cec1fbf5",
   "metadata": {},
   "outputs": [],
   "source": [
    "# Some more \n",
    "\n",
    "def func(n):\n",
    "    for i in range(n):\n",
    "        yield i \n",
    "    "
   ]
  },
  {
   "cell_type": "code",
   "execution_count": 18,
   "id": "c07f9336-2c29-4514-a056-64f7a00d347b",
   "metadata": {},
   "outputs": [
    {
     "data": {
      "text/plain": [
       "<function __main__.func(n)>"
      ]
     },
     "execution_count": 18,
     "metadata": {},
     "output_type": "execute_result"
    }
   ],
   "source": [
    "func"
   ]
  },
  {
   "cell_type": "code",
   "execution_count": 19,
   "id": "77b8f651-22c1-4e0b-ad37-ba92898927f5",
   "metadata": {},
   "outputs": [],
   "source": [
    "f = func(10)"
   ]
  },
  {
   "cell_type": "code",
   "execution_count": 25,
   "id": "0307120f-7b48-4af2-878c-05fb55b4b98e",
   "metadata": {},
   "outputs": [
    {
     "name": "stdout",
     "output_type": "stream",
     "text": [
      "3\n",
      "4\n",
      "5\n",
      "6\n",
      "7\n",
      "8\n",
      "9\n"
     ]
    }
   ],
   "source": [
    "for val in f:\n",
    "    print(val)"
   ]
  },
  {
   "cell_type": "code",
   "execution_count": 26,
   "id": "26bedcda-2ad8-44a6-bb8a-98e1768abf90",
   "metadata": {},
   "outputs": [
    {
     "name": "stdout",
     "output_type": "stream",
     "text": [
      "0\n",
      "1\n",
      "1\n",
      "2\n",
      "3\n",
      "5\n",
      "8\n",
      "13\n",
      "21\n",
      "34\n"
     ]
    }
   ],
   "source": [
    "def fibonacci():\n",
    "    a, b = 0, 1\n",
    "    while True:\n",
    "        yield a\n",
    "        a, b = b, a + b\n",
    "\n",
    "fib = fibonacci()\n",
    "for _ in range(10):\n",
    "    print(next(fib))  # Outputs the first 10 Fibonacci numbers\n"
   ]
  },
  {
   "cell_type": "code",
   "execution_count": 27,
   "id": "49888484-da1a-4b85-ba17-3a69e29a6ce5",
   "metadata": {},
   "outputs": [
    {
     "name": "stdout",
     "output_type": "stream",
     "text": [
      "0\n"
     ]
    },
    {
     "ename": "StopIteration",
     "evalue": "",
     "output_type": "error",
     "traceback": [
      "\u001b[1;31m---------------------------------------------------------------------------\u001b[0m",
      "\u001b[1;31mStopIteration\u001b[0m                             Traceback (most recent call last)",
      "Cell \u001b[1;32mIn[27], line 8\u001b[0m\n\u001b[0;32m      6\u001b[0m fib \u001b[38;5;241m=\u001b[39m fibonacci()\n\u001b[0;32m      7\u001b[0m \u001b[38;5;28;01mfor\u001b[39;00m _ \u001b[38;5;129;01min\u001b[39;00m \u001b[38;5;28mrange\u001b[39m(\u001b[38;5;241m10\u001b[39m):\n\u001b[1;32m----> 8\u001b[0m     \u001b[38;5;28mprint\u001b[39m(\u001b[38;5;28;43mnext\u001b[39;49m\u001b[43m(\u001b[49m\u001b[43mfib\u001b[49m\u001b[43m)\u001b[49m)  \u001b[38;5;66;03m# Outputs the first 10 Fibonacci numbers\u001b[39;00m\n",
      "\u001b[1;31mStopIteration\u001b[0m: "
     ]
    }
   ],
   "source": [
    "def fibonacci():\n",
    "    a, b = 0, 1\n",
    "    yield a\n",
    "    a, b = b, a + b\n",
    "\n",
    "fib = fibonacci()\n",
    "for _ in range(10):\n",
    "    print(next(fib))  # Outputs the first 10 Fibonacci numbers\n"
   ]
  },
  {
   "cell_type": "code",
   "execution_count": 29,
   "id": "f4a6eab2-fc72-4b5f-a85e-e31cd093dcbc",
   "metadata": {},
   "outputs": [
    {
     "name": "stdout",
     "output_type": "stream",
     "text": [
      "0\n",
      "1\n",
      "2\n",
      "3\n",
      "4\n"
     ]
    }
   ],
   "source": [
    "for _ in range(5):\n",
    "    print(_)"
   ]
  },
  {
   "cell_type": "markdown",
   "id": "f1017925-a2e2-40d6-aee9-179b3dd36128",
   "metadata": {},
   "source": [
    "# Comprehensions\n"
   ]
  },
  {
   "cell_type": "markdown",
   "id": "916b4900-e179-486a-a3bf-e902fd0e3538",
   "metadata": {},
   "source": [
    "- List Comprehension \n",
    "- dict comprehension \n"
   ]
  },
  {
   "cell_type": "code",
   "execution_count": 30,
   "id": "d94d3d64-7455-4925-a721-4a8f3f2f122d",
   "metadata": {},
   "outputs": [],
   "source": [
    "l = [] \n",
    "for i in range(10):\n",
    "    l.append(i**2)"
   ]
  },
  {
   "cell_type": "code",
   "execution_count": 31,
   "id": "b42e681e-1f1d-46cc-8a15-7fb4af1d5912",
   "metadata": {},
   "outputs": [
    {
     "data": {
      "text/plain": [
       "[0, 1, 4, 9, 16, 25, 36, 49, 64, 81]"
      ]
     },
     "execution_count": 31,
     "metadata": {},
     "output_type": "execute_result"
    }
   ],
   "source": [
    "l"
   ]
  },
  {
   "cell_type": "code",
   "execution_count": 32,
   "id": "0287cb17-a179-44b6-97c0-1ac9d1c3b663",
   "metadata": {},
   "outputs": [
    {
     "data": {
      "text/plain": [
       "[0, 1, 4, 9, 16, 25, 36, 49, 64, 81]"
      ]
     },
     "execution_count": 32,
     "metadata": {},
     "output_type": "execute_result"
    }
   ],
   "source": [
    "[i**2 for i in range(10)]"
   ]
  },
  {
   "cell_type": "code",
   "execution_count": 33,
   "id": "3d5c0387-2e8f-4a4c-aa50-908684215386",
   "metadata": {},
   "outputs": [],
   "source": [
    "tables = []\n",
    "for i in range(1,11):\n",
    "    for j in range(1,11):\n",
    "        value = i*j\n",
    "        tables.append(value)"
   ]
  },
  {
   "cell_type": "code",
   "execution_count": 34,
   "id": "0ffb6e9e-c979-4b11-b8c0-f4b571902971",
   "metadata": {},
   "outputs": [
    {
     "name": "stdout",
     "output_type": "stream",
     "text": [
      "[1, 2, 3, 4, 5, 6, 7, 8, 9, 10, 2, 4, 6, 8, 10, 12, 14, 16, 18, 20, 3, 6, 9, 12, 15, 18, 21, 24, 27, 30, 4, 8, 12, 16, 20, 24, 28, 32, 36, 40, 5, 10, 15, 20, 25, 30, 35, 40, 45, 50, 6, 12, 18, 24, 30, 36, 42, 48, 54, 60, 7, 14, 21, 28, 35, 42, 49, 56, 63, 70, 8, 16, 24, 32, 40, 48, 56, 64, 72, 80, 9, 18, 27, 36, 45, 54, 63, 72, 81, 90, 10, 20, 30, 40, 50, 60, 70, 80, 90, 100]\n"
     ]
    }
   ],
   "source": [
    "print(tables)"
   ]
  },
  {
   "cell_type": "code",
   "execution_count": 36,
   "id": "7b23d507-4d03-462e-ba17-0ab2d7620b3a",
   "metadata": {},
   "outputs": [],
   "source": [
    "tables=[i*j for j in range(1,11) for i in range(1,11)]"
   ]
  },
  {
   "cell_type": "code",
   "execution_count": 38,
   "id": "f874ac6f-8a3b-49cf-b820-5ff369883120",
   "metadata": {},
   "outputs": [
    {
     "name": "stdout",
     "output_type": "stream",
     "text": [
      "[1, 2, 3, 4, 5, 6, 7, 8, 9, 10, 2, 4, 6, 8, 10, 12, 14, 16, 18, 20, 3, 6, 9, 12, 15, 18, 21, 24, 27, 30, 4, 8, 12, 16, 20, 24, 28, 32, 36, 40, 5, 10, 15, 20, 25, 30, 35, 40, 45, 50, 6, 12, 18, 24, 30, 36, 42, 48, 54, 60, 7, 14, 21, 28, 35, 42, 49, 56, 63, 70, 8, 16, 24, 32, 40, 48, 56, 64, 72, 80, 9, 18, 27, 36, 45, 54, 63, 72, 81, 90, 10, 20, 30, 40, 50, 60, 70, 80, 90, 100]\n"
     ]
    }
   ],
   "source": [
    "print(tables)"
   ]
  },
  {
   "cell_type": "code",
   "execution_count": 40,
   "id": "6172b3e7-daca-4e4b-b335-b335e809b8dc",
   "metadata": {},
   "outputs": [
    {
     "data": {
      "text/plain": [
       "'-------------------------------------------------s--------------------------------------------------'"
      ]
     },
     "execution_count": 40,
     "metadata": {},
     "output_type": "execute_result"
    }
   ],
   "source": [
    "'s'.center(100,'-')"
   ]
  },
  {
   "cell_type": "code",
   "execution_count": 45,
   "id": "ad115402-58e8-45bc-91ed-550d51ca0473",
   "metadata": {},
   "outputs": [
    {
     "name": "stdout",
     "output_type": "stream",
     "text": [
      "----------------------------------Even number-----------------------------------\n",
      "[4, 16, 36, 64, 100]\n",
      "-----------------------------------Odd number-----------------------------------\n",
      "[1, 27, 125, 343, 729]\n"
     ]
    }
   ],
   "source": [
    "squared = []\n",
    "cubed = [] \n",
    "for i in range(1,11):\n",
    "    if i%2==0:\n",
    "        squared.append(i**2)\n",
    "    else:\n",
    "        cubed.append(i**3)\n",
    "print('Even number'.center(80,'-'))\n",
    "print(squared)\n",
    "print('Odd number'.center(80,'-'))\n",
    "print(cubed)\n",
    "    \n",
    "    "
   ]
  },
  {
   "cell_type": "code",
   "execution_count": 46,
   "id": "5508b8bc-8fa6-4269-83b7-949fba13e9ad",
   "metadata": {},
   "outputs": [
    {
     "data": {
      "text/plain": [
       "[4, 16, 36, 64, 100]"
      ]
     },
     "execution_count": 46,
     "metadata": {},
     "output_type": "execute_result"
    }
   ],
   "source": [
    "[i**2 for i in range(1,11) if i%2==0]"
   ]
  },
  {
   "cell_type": "code",
   "execution_count": 47,
   "id": "ae167901-95c2-45c1-a626-e10876e866d5",
   "metadata": {},
   "outputs": [
    {
     "data": {
      "text/plain": [
       "1"
      ]
     },
     "execution_count": 47,
     "metadata": {},
     "output_type": "execute_result"
    }
   ],
   "source": [
    "1%3"
   ]
  },
  {
   "cell_type": "code",
   "execution_count": 51,
   "id": "7edef422-8614-4ecd-acf0-ecf189aac53a",
   "metadata": {},
   "outputs": [
    {
     "data": {
      "text/plain": [
       "[27, 216, 729]"
      ]
     },
     "execution_count": 51,
     "metadata": {},
     "output_type": "execute_result"
    }
   ],
   "source": [
    "[i**3 for i in range(1,11) if i%30]"
   ]
  },
  {
   "cell_type": "code",
   "execution_count": null,
   "id": "f4769925-4f28-4cc1-9ba3-ed0fde953a37",
   "metadata": {},
   "outputs": [],
   "source": []
  }
 ],
 "metadata": {
  "kernelspec": {
   "display_name": "Python 3 (ipykernel)",
   "language": "python",
   "name": "python3"
  },
  "language_info": {
   "codemirror_mode": {
    "name": "ipython",
    "version": 3
   },
   "file_extension": ".py",
   "mimetype": "text/x-python",
   "name": "python",
   "nbconvert_exporter": "python",
   "pygments_lexer": "ipython3",
   "version": "3.12.3"
  }
 },
 "nbformat": 4,
 "nbformat_minor": 5
}
