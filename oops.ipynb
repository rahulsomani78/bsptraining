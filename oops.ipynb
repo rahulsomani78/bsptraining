{
 "cells": [
  {
   "cell_type": "markdown",
   "id": "8c50bb93-fc77-45aa-a167-89def9ddb577",
   "metadata": {},
   "source": [
    "# CLASS "
   ]
  },
  {
   "cell_type": "code",
   "execution_count": 1,
   "id": "174dd87f-8420-4c0d-b83a-c35eaa3338bd",
   "metadata": {},
   "outputs": [],
   "source": [
    "class Person:\n",
    "    pass"
   ]
  },
  {
   "cell_type": "code",
   "execution_count": 2,
   "id": "8bf0ee9d-8d96-434f-99f3-e2554030f384",
   "metadata": {},
   "outputs": [
    {
     "data": {
      "text/plain": [
       "__main__.Person"
      ]
     },
     "execution_count": 2,
     "metadata": {},
     "output_type": "execute_result"
    }
   ],
   "source": [
    "Person"
   ]
  },
  {
   "cell_type": "code",
   "execution_count": 3,
   "id": "090e40c7-54bc-4503-9067-e29075bf403b",
   "metadata": {},
   "outputs": [
    {
     "data": {
      "text/plain": [
       "type"
      ]
     },
     "execution_count": 3,
     "metadata": {},
     "output_type": "execute_result"
    }
   ],
   "source": [
    "Person.__class__"
   ]
  },
  {
   "cell_type": "code",
   "execution_count": 4,
   "id": "0c87be65-8cdb-41c2-bc1f-7dbab019840f",
   "metadata": {},
   "outputs": [],
   "source": [
    "p = Person()"
   ]
  },
  {
   "cell_type": "code",
   "execution_count": 5,
   "id": "9465aeb2-98e4-4457-894b-689054135154",
   "metadata": {},
   "outputs": [
    {
     "data": {
      "text/plain": [
       "<__main__.Person at 0x235ee07a240>"
      ]
     },
     "execution_count": 5,
     "metadata": {},
     "output_type": "execute_result"
    }
   ],
   "source": [
    "p"
   ]
  },
  {
   "cell_type": "code",
   "execution_count": 6,
   "id": "fe2c74fb-ccce-416f-b79c-9903c4dbf5ae",
   "metadata": {},
   "outputs": [
    {
     "data": {
      "text/plain": [
       "'0x235ee07a240'"
      ]
     },
     "execution_count": 6,
     "metadata": {},
     "output_type": "execute_result"
    }
   ],
   "source": [
    "hex(id(p))"
   ]
  },
  {
   "cell_type": "code",
   "execution_count": 7,
   "id": "0cceb145-05e3-4fa9-af90-a0da5e406671",
   "metadata": {},
   "outputs": [],
   "source": [
    "class Person:\n",
    "    # data attribute \n",
    "    name = 'python'"
   ]
  },
  {
   "cell_type": "code",
   "execution_count": 8,
   "id": "cd8b7029-e39e-4a7b-9c4d-a2e455e4ad8e",
   "metadata": {},
   "outputs": [
    {
     "data": {
      "text/plain": [
       "'python'"
      ]
     },
     "execution_count": 8,
     "metadata": {},
     "output_type": "execute_result"
    }
   ],
   "source": [
    "Person.name"
   ]
  },
  {
   "cell_type": "code",
   "execution_count": 9,
   "id": "783236a4-4fdf-40ce-b6e3-bc08a023cce1",
   "metadata": {},
   "outputs": [
    {
     "data": {
      "text/plain": [
       "mappingproxy({'__module__': '__main__',\n",
       "              'name': 'python',\n",
       "              '__dict__': <attribute '__dict__' of 'Person' objects>,\n",
       "              '__weakref__': <attribute '__weakref__' of 'Person' objects>,\n",
       "              '__doc__': None})"
      ]
     },
     "execution_count": 9,
     "metadata": {},
     "output_type": "execute_result"
    }
   ],
   "source": [
    "Person.__dict__"
   ]
  },
  {
   "cell_type": "code",
   "execution_count": 10,
   "id": "7a0cc8e1-f252-4e60-8d6d-93bd49d6d78f",
   "metadata": {},
   "outputs": [
    {
     "data": {
      "text/plain": [
       "'python'"
      ]
     },
     "execution_count": 10,
     "metadata": {},
     "output_type": "execute_result"
    }
   ],
   "source": [
    "Person.__dict__['name']"
   ]
  },
  {
   "cell_type": "code",
   "execution_count": 11,
   "id": "100ab2ef-7426-4234-8796-df5334620365",
   "metadata": {},
   "outputs": [],
   "source": [
    "p = Person()"
   ]
  },
  {
   "cell_type": "code",
   "execution_count": 12,
   "id": "7f19cf05-adab-426d-88e7-da34e79adc9e",
   "metadata": {},
   "outputs": [
    {
     "data": {
      "text/plain": [
       "<__main__.Person at 0x235ee0ba240>"
      ]
     },
     "execution_count": 12,
     "metadata": {},
     "output_type": "execute_result"
    }
   ],
   "source": [
    "p"
   ]
  },
  {
   "cell_type": "code",
   "execution_count": 13,
   "id": "ef218b9f-7e91-456a-b9ba-17ef116be2af",
   "metadata": {},
   "outputs": [
    {
     "data": {
      "text/plain": [
       "{}"
      ]
     },
     "execution_count": 13,
     "metadata": {},
     "output_type": "execute_result"
    }
   ],
   "source": [
    "p.__dict__"
   ]
  },
  {
   "cell_type": "code",
   "execution_count": 14,
   "id": "a4dc7757-825d-48a2-b816-fa0c7145300e",
   "metadata": {},
   "outputs": [
    {
     "data": {
      "text/plain": [
       "'python'"
      ]
     },
     "execution_count": 14,
     "metadata": {},
     "output_type": "execute_result"
    }
   ],
   "source": [
    "p.name "
   ]
  },
  {
   "cell_type": "markdown",
   "id": "6e567a15-4260-4a32-8656-5a5e73048a30",
   "metadata": {},
   "source": [
    "## Trying to access an attribute (data or function) which is not present in the class \n"
   ]
  },
  {
   "cell_type": "code",
   "execution_count": 15,
   "id": "18fb7101-5197-468e-8159-5bf9833f0912",
   "metadata": {},
   "outputs": [
    {
     "ename": "AttributeError",
     "evalue": "'Person' object has no attribute 'lang'",
     "output_type": "error",
     "traceback": [
      "\u001b[1;31m---------------------------------------------------------------------------\u001b[0m",
      "\u001b[1;31mAttributeError\u001b[0m                            Traceback (most recent call last)",
      "Cell \u001b[1;32mIn[15], line 1\u001b[0m\n\u001b[1;32m----> 1\u001b[0m \u001b[43mp\u001b[49m\u001b[38;5;241;43m.\u001b[39;49m\u001b[43mlang\u001b[49m\n",
      "\u001b[1;31mAttributeError\u001b[0m: 'Person' object has no attribute 'lang'"
     ]
    }
   ],
   "source": [
    "p.lang"
   ]
  },
  {
   "cell_type": "code",
   "execution_count": 16,
   "id": "46a9f432-b3c7-43c7-b796-a54c3f3451ce",
   "metadata": {},
   "outputs": [],
   "source": [
    "p.lang = 'java'"
   ]
  },
  {
   "cell_type": "code",
   "execution_count": 17,
   "id": "f3157951-0fe7-4dbb-95da-1ee7f3670179",
   "metadata": {},
   "outputs": [
    {
     "data": {
      "text/plain": [
       "{'lang': 'java'}"
      ]
     },
     "execution_count": 17,
     "metadata": {},
     "output_type": "execute_result"
    }
   ],
   "source": [
    "p.__dict__"
   ]
  },
  {
   "cell_type": "code",
   "execution_count": 18,
   "id": "070f67b0-72e9-45b1-a728-0a039b53a059",
   "metadata": {},
   "outputs": [
    {
     "data": {
      "text/plain": [
       "mappingproxy({'__module__': '__main__',\n",
       "              'name': 'python',\n",
       "              '__dict__': <attribute '__dict__' of 'Person' objects>,\n",
       "              '__weakref__': <attribute '__weakref__' of 'Person' objects>,\n",
       "              '__doc__': None})"
      ]
     },
     "execution_count": 18,
     "metadata": {},
     "output_type": "execute_result"
    }
   ],
   "source": [
    "Person.__dict__"
   ]
  },
  {
   "cell_type": "code",
   "execution_count": 19,
   "id": "15ec6475-58bf-4862-9b5b-1221ef728c06",
   "metadata": {},
   "outputs": [
    {
     "data": {
      "text/plain": [
       "('java', 'python')"
      ]
     },
     "execution_count": 19,
     "metadata": {},
     "output_type": "execute_result"
    }
   ],
   "source": [
    "p.lang, p.name"
   ]
  },
  {
   "cell_type": "code",
   "execution_count": 20,
   "id": "5a4d8bc5-4204-4cd5-9d8a-8ed98d3f052c",
   "metadata": {},
   "outputs": [
    {
     "ename": "AttributeError",
     "evalue": "type object 'Person' has no attribute 'lang'",
     "output_type": "error",
     "traceback": [
      "\u001b[1;31m---------------------------------------------------------------------------\u001b[0m",
      "\u001b[1;31mAttributeError\u001b[0m                            Traceback (most recent call last)",
      "Cell \u001b[1;32mIn[20], line 1\u001b[0m\n\u001b[1;32m----> 1\u001b[0m \u001b[43mPerson\u001b[49m\u001b[38;5;241;43m.\u001b[39;49m\u001b[43mlang\u001b[49m\n",
      "\u001b[1;31mAttributeError\u001b[0m: type object 'Person' has no attribute 'lang'"
     ]
    }
   ],
   "source": [
    "Person.lang"
   ]
  },
  {
   "cell_type": "markdown",
   "id": "1cc752b7-3ccc-4e24-800c-b29ac1a298bc",
   "metadata": {},
   "source": [
    "# Function Attributes "
   ]
  },
  {
   "cell_type": "code",
   "execution_count": 21,
   "id": "7c61a30c-df35-46db-bfd5-73aa1fa58ca2",
   "metadata": {},
   "outputs": [],
   "source": [
    "class Person:\n",
    "    name='Alice'\n",
    "    age = 20 \n",
    "\n",
    "    def speak():\n",
    "        print('Hello {} your age is {}'.format(name,age))"
   ]
  },
  {
   "cell_type": "code",
   "execution_count": 22,
   "id": "954b932b-6e6c-491f-a1f4-271334682c4b",
   "metadata": {},
   "outputs": [],
   "source": [
    "p = Person()\n"
   ]
  },
  {
   "cell_type": "code",
   "execution_count": 23,
   "id": "8fc7917e-49b4-4705-9891-de0c43f7c018",
   "metadata": {},
   "outputs": [
    {
     "data": {
      "text/plain": [
       "mappingproxy({'__module__': '__main__',\n",
       "              'name': 'Alice',\n",
       "              'age': 20,\n",
       "              'speak': <function __main__.Person.speak()>,\n",
       "              '__dict__': <attribute '__dict__' of 'Person' objects>,\n",
       "              '__weakref__': <attribute '__weakref__' of 'Person' objects>,\n",
       "              '__doc__': None})"
      ]
     },
     "execution_count": 23,
     "metadata": {},
     "output_type": "execute_result"
    }
   ],
   "source": [
    "Person.__dict__"
   ]
  },
  {
   "cell_type": "code",
   "execution_count": 24,
   "id": "4600aff3-076f-4be2-b4c5-576e18d77954",
   "metadata": {},
   "outputs": [],
   "source": [
    "f=Person.__dict__['speak']"
   ]
  },
  {
   "cell_type": "code",
   "execution_count": 25,
   "id": "0c3b0672-5c39-4ec5-a7a6-14674fd467e9",
   "metadata": {},
   "outputs": [
    {
     "data": {
      "text/plain": [
       "<function __main__.Person.speak()>"
      ]
     },
     "execution_count": 25,
     "metadata": {},
     "output_type": "execute_result"
    }
   ],
   "source": [
    "f"
   ]
  },
  {
   "cell_type": "code",
   "execution_count": 26,
   "id": "ef656f61-b3b8-408b-9ab1-d1677bee19f7",
   "metadata": {},
   "outputs": [
    {
     "ename": "NameError",
     "evalue": "name 'name' is not defined",
     "output_type": "error",
     "traceback": [
      "\u001b[1;31m---------------------------------------------------------------------------\u001b[0m",
      "\u001b[1;31mNameError\u001b[0m                                 Traceback (most recent call last)",
      "Cell \u001b[1;32mIn[26], line 1\u001b[0m\n\u001b[1;32m----> 1\u001b[0m \u001b[43mf\u001b[49m\u001b[43m(\u001b[49m\u001b[43m)\u001b[49m\n",
      "Cell \u001b[1;32mIn[21], line 6\u001b[0m, in \u001b[0;36mPerson.speak\u001b[1;34m()\u001b[0m\n\u001b[0;32m      5\u001b[0m \u001b[38;5;28;01mdef\u001b[39;00m \u001b[38;5;21mspeak\u001b[39m():\n\u001b[1;32m----> 6\u001b[0m     \u001b[38;5;28mprint\u001b[39m(\u001b[38;5;124m'\u001b[39m\u001b[38;5;124mHello \u001b[39m\u001b[38;5;132;01m{}\u001b[39;00m\u001b[38;5;124m your age is \u001b[39m\u001b[38;5;132;01m{}\u001b[39;00m\u001b[38;5;124m'\u001b[39m\u001b[38;5;241m.\u001b[39mformat(\u001b[43mname\u001b[49m,age))\n",
      "\u001b[1;31mNameError\u001b[0m: name 'name' is not defined"
     ]
    }
   ],
   "source": [
    "f()"
   ]
  },
  {
   "cell_type": "code",
   "execution_count": 27,
   "id": "0dc26bc0-2509-4eb4-a68f-80039e7e5756",
   "metadata": {},
   "outputs": [],
   "source": [
    "class Person:\n",
    "    name='Alice'\n",
    "    age = 20 \n",
    "\n",
    "    def speak(arg='default'):\n",
    "        print('Hello from {}'.format(arg))"
   ]
  },
  {
   "cell_type": "code",
   "execution_count": 28,
   "id": "a2d16116-f87e-4169-8f54-0788414901e3",
   "metadata": {},
   "outputs": [],
   "source": [
    "p = Person()"
   ]
  },
  {
   "cell_type": "code",
   "execution_count": 29,
   "id": "860158bb-3ad2-4916-aec0-4a44d3952105",
   "metadata": {},
   "outputs": [
    {
     "data": {
      "text/plain": [
       "<function __main__.Person.speak(arg='default')>"
      ]
     },
     "execution_count": 29,
     "metadata": {},
     "output_type": "execute_result"
    }
   ],
   "source": [
    "Person.speak"
   ]
  },
  {
   "cell_type": "code",
   "execution_count": 30,
   "id": "103d5326-b592-4723-9553-3825c6d3f15a",
   "metadata": {},
   "outputs": [
    {
     "name": "stdout",
     "output_type": "stream",
     "text": [
      "Hello from default\n"
     ]
    }
   ],
   "source": [
    "Person.speak()\n"
   ]
  },
  {
   "cell_type": "code",
   "execution_count": 31,
   "id": "47526968-bc42-4bec-9094-0c6fdcebe41a",
   "metadata": {},
   "outputs": [
    {
     "name": "stdout",
     "output_type": "stream",
     "text": [
      "Hello from <__main__.Person object at 0x00000235EE0CA8D0>\n"
     ]
    }
   ],
   "source": [
    "p.speak()"
   ]
  },
  {
   "cell_type": "code",
   "execution_count": 32,
   "id": "65f1730d-23df-411f-8f58-b20b19ca6743",
   "metadata": {},
   "outputs": [
    {
     "data": {
      "text/plain": [
       "'0x235ee0ca8d0'"
      ]
     },
     "execution_count": 32,
     "metadata": {},
     "output_type": "execute_result"
    }
   ],
   "source": [
    "hex(id(p))"
   ]
  },
  {
   "cell_type": "code",
   "execution_count": 33,
   "id": "70430ab4-20b4-449e-ae03-6345b46f0ae5",
   "metadata": {},
   "outputs": [
    {
     "data": {
      "text/plain": [
       "<function __main__.Person.speak(arg='default')>"
      ]
     },
     "execution_count": 33,
     "metadata": {},
     "output_type": "execute_result"
    }
   ],
   "source": [
    "Person.speak"
   ]
  },
  {
   "cell_type": "code",
   "execution_count": 34,
   "id": "7848c344-a8e1-4e3c-a08e-34c5ca5b0504",
   "metadata": {},
   "outputs": [
    {
     "data": {
      "text/plain": [
       "<bound method Person.speak of <__main__.Person object at 0x00000235EE0CA8D0>>"
      ]
     },
     "execution_count": 34,
     "metadata": {},
     "output_type": "execute_result"
    }
   ],
   "source": [
    "p.speak"
   ]
  },
  {
   "cell_type": "code",
   "execution_count": 40,
   "id": "624a53e6-e2c6-4dfe-b7de-253e92f9cc5a",
   "metadata": {},
   "outputs": [],
   "source": [
    "class Person:\n",
    "    name = 'python'\n",
    "    def speak(self):\n",
    "        print('Hello from {} your name is {}'.format(self,self.name))"
   ]
  },
  {
   "cell_type": "code",
   "execution_count": 41,
   "id": "5745d9b8-3cc7-40ed-86f7-3e1797dc1e98",
   "metadata": {},
   "outputs": [],
   "source": [
    "p=Person()"
   ]
  },
  {
   "cell_type": "code",
   "execution_count": 38,
   "id": "8616cecd-205b-46fb-9e54-98df1fee6f82",
   "metadata": {},
   "outputs": [
    {
     "data": {
      "text/plain": [
       "'python'"
      ]
     },
     "execution_count": 38,
     "metadata": {},
     "output_type": "execute_result"
    }
   ],
   "source": [
    "p.name"
   ]
  },
  {
   "cell_type": "code",
   "execution_count": 42,
   "id": "c3cccc32-e1f4-45e9-85e4-b94cd503c0a9",
   "metadata": {},
   "outputs": [
    {
     "name": "stdout",
     "output_type": "stream",
     "text": [
      "Hello from <__main__.Person object at 0x00000235EE0CB080> your name is python\n"
     ]
    }
   ],
   "source": [
    "p.speak()"
   ]
  },
  {
   "cell_type": "code",
   "execution_count": 43,
   "id": "1487bbfe-8d5b-4757-9087-7d414e2a1bfe",
   "metadata": {},
   "outputs": [],
   "source": [
    "class MyClass:\n",
    "    name='Amit'\n",
    "    def hello(self):\n",
    "        self.age = 40 "
   ]
  },
  {
   "cell_type": "code",
   "execution_count": 44,
   "id": "0f2bc0e0-b446-4fbf-b4bf-e83cbf9612ea",
   "metadata": {},
   "outputs": [],
   "source": [
    "m = MyClass()"
   ]
  },
  {
   "cell_type": "code",
   "execution_count": 45,
   "id": "b8b37e84-a503-4f3b-9b24-3b9cfc694605",
   "metadata": {},
   "outputs": [
    {
     "data": {
      "text/plain": [
       "mappingproxy({'__module__': '__main__',\n",
       "              'name': 'Amit',\n",
       "              'hello': <function __main__.MyClass.hello(self)>,\n",
       "              '__dict__': <attribute '__dict__' of 'MyClass' objects>,\n",
       "              '__weakref__': <attribute '__weakref__' of 'MyClass' objects>,\n",
       "              '__doc__': None})"
      ]
     },
     "execution_count": 45,
     "metadata": {},
     "output_type": "execute_result"
    }
   ],
   "source": [
    "MyClass.__dict__"
   ]
  },
  {
   "cell_type": "code",
   "execution_count": 46,
   "id": "5aaa4ac8-3cda-4be8-afbf-810d1ad75623",
   "metadata": {},
   "outputs": [
    {
     "data": {
      "text/plain": [
       "{}"
      ]
     },
     "execution_count": 46,
     "metadata": {},
     "output_type": "execute_result"
    }
   ],
   "source": [
    "m.__dict__"
   ]
  },
  {
   "cell_type": "code",
   "execution_count": 47,
   "id": "67dcc808-570b-4123-a59d-db524fee03a2",
   "metadata": {},
   "outputs": [],
   "source": [
    "m.hello()"
   ]
  },
  {
   "cell_type": "code",
   "execution_count": 48,
   "id": "6a15b108-14ac-4dab-a53d-1e21e46a3b18",
   "metadata": {},
   "outputs": [
    {
     "data": {
      "text/plain": [
       "{'age': 40}"
      ]
     },
     "execution_count": 48,
     "metadata": {},
     "output_type": "execute_result"
    }
   ],
   "source": [
    "m.__dict__\n"
   ]
  },
  {
   "cell_type": "markdown",
   "id": "bee36ed8-4448-48f6-92a1-f79999e10340",
   "metadata": {},
   "source": [
    "getattr and setattr "
   ]
  },
  {
   "cell_type": "code",
   "execution_count": 49,
   "id": "3b7ec85a-79e8-49e1-9eb0-48197320acac",
   "metadata": {},
   "outputs": [],
   "source": [
    "class Language:\n",
    "    name = 'Python'\n",
    "    version = 3.12\n",
    "\n",
    "    def show(self):\n",
    "        print('name = {} version = {}'.format(self.name,self.version))\n",
    "    "
   ]
  },
  {
   "cell_type": "code",
   "execution_count": 50,
   "id": "dce5f7d5-acfe-4ced-9978-31443a5e6609",
   "metadata": {},
   "outputs": [],
   "source": [
    "first = Language()"
   ]
  },
  {
   "cell_type": "code",
   "execution_count": 51,
   "id": "0b0f38dd-f620-41f7-9d88-3740c796c897",
   "metadata": {},
   "outputs": [
    {
     "name": "stdout",
     "output_type": "stream",
     "text": [
      "name = Python version = 3.12\n"
     ]
    }
   ],
   "source": [
    "first.show()"
   ]
  },
  {
   "cell_type": "code",
   "execution_count": 52,
   "id": "0326e780-c177-4951-aef3-e32f54f82366",
   "metadata": {},
   "outputs": [
    {
     "data": {
      "text/plain": [
       "<function getattr>"
      ]
     },
     "execution_count": 52,
     "metadata": {},
     "output_type": "execute_result"
    }
   ],
   "source": [
    "getattr"
   ]
  },
  {
   "cell_type": "code",
   "execution_count": 54,
   "id": "b30ada36-81c9-4286-8403-d87790c8f948",
   "metadata": {},
   "outputs": [
    {
     "name": "stdout",
     "output_type": "stream",
     "text": [
      "Get a named attribute from an object.\n",
      "\n",
      "getattr(x, 'y') is equivalent to x.y\n",
      "When a default argument is given, it is returned when the attribute doesn't\n",
      "exist; without it, an exception is raised in that case.\n"
     ]
    }
   ],
   "source": [
    "print(getattr.__doc__)"
   ]
  },
  {
   "cell_type": "code",
   "execution_count": 55,
   "id": "d1b26ead-9d69-4723-8e31-2290cc5ecbdf",
   "metadata": {},
   "outputs": [
    {
     "data": {
      "text/plain": [
       "'python'"
      ]
     },
     "execution_count": 55,
     "metadata": {},
     "output_type": "execute_result"
    }
   ],
   "source": [
    "getattr(p,'name') # p.name "
   ]
  },
  {
   "cell_type": "code",
   "execution_count": 57,
   "id": "be7930ca-075f-4450-b9b5-dffcad60eacf",
   "metadata": {},
   "outputs": [
    {
     "data": {
      "text/plain": [
       "'N/A'"
      ]
     },
     "execution_count": 57,
     "metadata": {},
     "output_type": "execute_result"
    }
   ],
   "source": [
    "getattr(first,'age','N/A')"
   ]
  },
  {
   "cell_type": "code",
   "execution_count": 58,
   "id": "257efb62-076b-4184-ae8d-1e7854167190",
   "metadata": {},
   "outputs": [
    {
     "ename": "AttributeError",
     "evalue": "'Language' object has no attribute 'age'",
     "output_type": "error",
     "traceback": [
      "\u001b[1;31m---------------------------------------------------------------------------\u001b[0m",
      "\u001b[1;31mAttributeError\u001b[0m                            Traceback (most recent call last)",
      "Cell \u001b[1;32mIn[58], line 1\u001b[0m\n\u001b[1;32m----> 1\u001b[0m \u001b[43mfirst\u001b[49m\u001b[38;5;241;43m.\u001b[39;49m\u001b[43mage\u001b[49m\n",
      "\u001b[1;31mAttributeError\u001b[0m: 'Language' object has no attribute 'age'"
     ]
    }
   ],
   "source": [
    "first.age"
   ]
  },
  {
   "cell_type": "code",
   "execution_count": 59,
   "id": "289f4cf7-64bd-4362-bc25-952dd46d0b1f",
   "metadata": {},
   "outputs": [
    {
     "data": {
      "text/plain": [
       "<function setattr(obj, name, value, /)>"
      ]
     },
     "execution_count": 59,
     "metadata": {},
     "output_type": "execute_result"
    }
   ],
   "source": [
    "setattr  # obj.attribute = value "
   ]
  },
  {
   "cell_type": "code",
   "execution_count": 60,
   "id": "c1bfb13e-9774-48de-b51d-8d9dfc84d013",
   "metadata": {},
   "outputs": [],
   "source": [
    "setattr(first,'lang','c++')"
   ]
  },
  {
   "cell_type": "code",
   "execution_count": 61,
   "id": "da8141c8-bcd4-420b-a586-9d9593a4cdcc",
   "metadata": {},
   "outputs": [
    {
     "data": {
      "text/plain": [
       "{'lang': 'c++'}"
      ]
     },
     "execution_count": 61,
     "metadata": {},
     "output_type": "execute_result"
    }
   ],
   "source": [
    "first.__dict__"
   ]
  },
  {
   "cell_type": "markdown",
   "id": "1789dce5-1421-4e45-aca7-1d4c123b5c9a",
   "metadata": {},
   "source": [
    "create a class Counter, that increments a counter every time it is called "
   ]
  },
  {
   "cell_type": "code",
   "execution_count": 62,
   "id": "8377aa6a-c5e1-4720-8387-1b7def62d804",
   "metadata": {},
   "outputs": [],
   "source": [
    "class Counter:\n",
    "    def __init__(self,count):\n",
    "        self.count = count \n",
    "\n",
    "    def inc(self):\n",
    "        self.count+=1\n",
    "        return self.count "
   ]
  },
  {
   "cell_type": "code",
   "execution_count": 63,
   "id": "1ef329f6-f6f6-4fea-8ee6-9ae76d8c9b11",
   "metadata": {},
   "outputs": [],
   "source": [
    "c = Counter(10)"
   ]
  },
  {
   "cell_type": "code",
   "execution_count": 65,
   "id": "6d1b2675-e1f4-47d7-8d87-27b54b1c399e",
   "metadata": {},
   "outputs": [],
   "source": [
    "class Counter:\n",
    "    def __init__(self,count):\n",
    "        self.count = count \n",
    "\n",
    "    def __call__(self):\n",
    "        self.count+=1\n",
    "        return self.count "
   ]
  },
  {
   "cell_type": "code",
   "execution_count": 67,
   "id": "a1acd108-bcf5-4a66-8789-64c1d4d9d4c0",
   "metadata": {},
   "outputs": [],
   "source": [
    "c = Counter(5)"
   ]
  },
  {
   "cell_type": "code",
   "execution_count": 68,
   "id": "3299e3c4-7817-4999-b9bc-712da4331899",
   "metadata": {},
   "outputs": [
    {
     "data": {
      "text/plain": [
       "6"
      ]
     },
     "execution_count": 68,
     "metadata": {},
     "output_type": "execute_result"
    }
   ],
   "source": [
    "c()"
   ]
  },
  {
   "cell_type": "code",
   "execution_count": 69,
   "id": "32850d62-209b-40ee-970a-ed8b1c538e42",
   "metadata": {},
   "outputs": [
    {
     "name": "stdout",
     "output_type": "stream",
     "text": [
      "hello\n"
     ]
    }
   ],
   "source": [
    "print('hello')"
   ]
  },
  {
   "cell_type": "code",
   "execution_count": 70,
   "id": "f6348c54-fc6e-4b6c-b77b-3bdbb0d3b01f",
   "metadata": {},
   "outputs": [
    {
     "name": "stdout",
     "output_type": "stream",
     "text": [
      "hello\n"
     ]
    }
   ],
   "source": [
    "print.__call__('hello')"
   ]
  },
  {
   "cell_type": "code",
   "execution_count": 71,
   "id": "69c889fc-ba4f-4704-9474-4e97fc57fb76",
   "metadata": {},
   "outputs": [],
   "source": [
    "def func():\n",
    "    return 'whatever'"
   ]
  },
  {
   "cell_type": "code",
   "execution_count": 72,
   "id": "878a8e9b-6ca0-4255-8a32-e5796416fd20",
   "metadata": {},
   "outputs": [
    {
     "data": {
      "text/plain": [
       "'whatever'"
      ]
     },
     "execution_count": 72,
     "metadata": {},
     "output_type": "execute_result"
    }
   ],
   "source": [
    "func()"
   ]
  },
  {
   "cell_type": "code",
   "execution_count": 73,
   "id": "7f70feb4-4250-425e-a929-f5f324d4d0d9",
   "metadata": {},
   "outputs": [
    {
     "data": {
      "text/plain": [
       "'whatever'"
      ]
     },
     "execution_count": 73,
     "metadata": {},
     "output_type": "execute_result"
    }
   ],
   "source": [
    "func.__call__()"
   ]
  },
  {
   "cell_type": "markdown",
   "id": "539117fd-5498-46b5-a8c8-89936256efe1",
   "metadata": {},
   "source": [
    "# classmethod and staticmethod "
   ]
  },
  {
   "cell_type": "code",
   "execution_count": 81,
   "id": "55eb82fd-53cd-4651-8b22-c4e6ae0c2046",
   "metadata": {},
   "outputs": [],
   "source": [
    "class MyClass:\n",
    "    def instance_method(self):\n",
    "        print(\"instance method\")\n",
    "\n",
    "    @classmethod \n",
    "    def class_method(c):\n",
    "        print('class method')\n",
    "        print(c)\n",
    "\n",
    "    @staticmethod\n",
    "    def static_method():\n",
    "        print('static method')"
   ]
  },
  {
   "cell_type": "code",
   "execution_count": 82,
   "id": "2661793c-6669-49ee-9b97-838e4a6d4987",
   "metadata": {},
   "outputs": [],
   "source": [
    "m = MyClass()"
   ]
  },
  {
   "cell_type": "code",
   "execution_count": 83,
   "id": "9efc8cce-9faf-42fe-b92b-b768eb782cff",
   "metadata": {},
   "outputs": [
    {
     "name": "stdout",
     "output_type": "stream",
     "text": [
      "static method\n"
     ]
    }
   ],
   "source": [
    "MyClass.static_method()"
   ]
  },
  {
   "cell_type": "code",
   "execution_count": 84,
   "id": "202044c0-5c52-4192-a6c9-7f63eef68f3e",
   "metadata": {},
   "outputs": [
    {
     "name": "stdout",
     "output_type": "stream",
     "text": [
      "static method\n"
     ]
    }
   ],
   "source": [
    "m.static_method()"
   ]
  },
  {
   "cell_type": "code",
   "execution_count": 85,
   "id": "b5451c00-2d89-4f5b-ba18-0940c83636dd",
   "metadata": {},
   "outputs": [
    {
     "name": "stdout",
     "output_type": "stream",
     "text": [
      "class method\n",
      "<class '__main__.MyClass'>\n"
     ]
    }
   ],
   "source": [
    "MyClass.class_method()"
   ]
  },
  {
   "cell_type": "code",
   "execution_count": 86,
   "id": "1346ee78-7137-413d-a1ce-a8957d685bcc",
   "metadata": {},
   "outputs": [
    {
     "name": "stdout",
     "output_type": "stream",
     "text": [
      "class method\n",
      "<class '__main__.MyClass'>\n"
     ]
    }
   ],
   "source": [
    "m.class_method()"
   ]
  },
  {
   "cell_type": "code",
   "execution_count": null,
   "id": "b27094c7-deec-47bc-a921-2802fafc968e",
   "metadata": {},
   "outputs": [],
   "source": []
  },
  {
   "cell_type": "code",
   "execution_count": null,
   "id": "d7b9d861-6d1f-4366-a220-358b42ee5e32",
   "metadata": {},
   "outputs": [],
   "source": []
  }
 ],
 "metadata": {
  "kernelspec": {
   "display_name": "Python 3 (ipykernel)",
   "language": "python",
   "name": "python3"
  },
  "language_info": {
   "codemirror_mode": {
    "name": "ipython",
    "version": 3
   },
   "file_extension": ".py",
   "mimetype": "text/x-python",
   "name": "python",
   "nbconvert_exporter": "python",
   "pygments_lexer": "ipython3",
   "version": "3.12.3"
  }
 },
 "nbformat": 4,
 "nbformat_minor": 5
}
