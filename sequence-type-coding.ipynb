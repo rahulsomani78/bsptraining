{
 "cells": [
  {
   "cell_type": "code",
   "execution_count": 6,
   "id": "cd33c473-7204-4fa2-8859-24233d02a105",
   "metadata": {},
   "outputs": [],
   "source": [
    "l = [1,2,3]\n",
    "s = 'python'\n",
    "t = (10,20,30)\n",
    " "
   ]
  },
  {
   "cell_type": "markdown",
   "id": "bd4b3498-42b8-4859-81e9-04a3421caeb8",
   "metadata": {},
   "source": [
    "# Indexing"
   ]
  },
  {
   "cell_type": "code",
   "execution_count": 7,
   "id": "e97c8287-55d6-4ba6-ad92-021ff32f5995",
   "metadata": {},
   "outputs": [
    {
     "data": {
      "text/plain": [
       "1"
      ]
     },
     "execution_count": 7,
     "metadata": {},
     "output_type": "execute_result"
    }
   ],
   "source": [
    "l[0]"
   ]
  },
  {
   "cell_type": "code",
   "execution_count": 8,
   "id": "bfee1f49-34ef-4a43-906b-44b22da262d8",
   "metadata": {},
   "outputs": [
    {
     "data": {
      "text/plain": [
       "'o'"
      ]
     },
     "execution_count": 8,
     "metadata": {},
     "output_type": "execute_result"
    }
   ],
   "source": [
    "s[4]"
   ]
  },
  {
   "cell_type": "code",
   "execution_count": 9,
   "id": "0a2273c9-6184-4627-ae69-086dc0c69412",
   "metadata": {},
   "outputs": [
    {
     "data": {
      "text/plain": [
       "20"
      ]
     },
     "execution_count": 9,
     "metadata": {},
     "output_type": "execute_result"
    }
   ],
   "source": [
    "t[1]"
   ]
  },
  {
   "cell_type": "markdown",
   "id": "e04cec29-d06b-471b-9f6f-1b09e229fd53",
   "metadata": {},
   "source": [
    "Looping"
   ]
  },
  {
   "cell_type": "code",
   "execution_count": 10,
   "id": "bce7ea05-99f5-473c-b17a-f6bf75ead7fb",
   "metadata": {},
   "outputs": [
    {
     "name": "stdout",
     "output_type": "stream",
     "text": [
      "1\n",
      "2\n",
      "3\n"
     ]
    }
   ],
   "source": [
    "for i in l:\n",
    "    print(i)"
   ]
  },
  {
   "cell_type": "code",
   "execution_count": 11,
   "id": "25361305-61c1-4f0d-b5e6-201feed19dd8",
   "metadata": {},
   "outputs": [
    {
     "name": "stdout",
     "output_type": "stream",
     "text": [
      "p\n",
      "y\n",
      "t\n",
      "h\n",
      "o\n",
      "n\n"
     ]
    }
   ],
   "source": [
    "for i in s:\n",
    "    print(i)"
   ]
  },
  {
   "cell_type": "code",
   "execution_count": 12,
   "id": "f718230b-f36b-4a21-a8c2-d7457b959250",
   "metadata": {},
   "outputs": [
    {
     "name": "stdout",
     "output_type": "stream",
     "text": [
      "10\n",
      "20\n",
      "30\n"
     ]
    }
   ],
   "source": [
    "for i in t:\n",
    "    print(i)"
   ]
  },
  {
   "cell_type": "code",
   "execution_count": 13,
   "id": "5d9e15e2-9124-47fd-9bde-ebe49a5a7455",
   "metadata": {},
   "outputs": [],
   "source": [
    "s = {1,2,3}"
   ]
  },
  {
   "cell_type": "code",
   "execution_count": 14,
   "id": "1c6997d9-52c1-4b28-bc6c-68c41e8d49bc",
   "metadata": {},
   "outputs": [
    {
     "name": "stdout",
     "output_type": "stream",
     "text": [
      "1\n",
      "2\n",
      "3\n"
     ]
    }
   ],
   "source": [
    "for el in s:\n",
    "    print(el)"
   ]
  },
  {
   "cell_type": "code",
   "execution_count": 15,
   "id": "dc8dc625-03f8-4f85-9a6e-8e4b4542abcb",
   "metadata": {},
   "outputs": [
    {
     "ename": "TypeError",
     "evalue": "'set' object is not subscriptable",
     "output_type": "error",
     "traceback": [
      "\u001b[1;31m---------------------------------------------------------------------------\u001b[0m",
      "\u001b[1;31mTypeError\u001b[0m                                 Traceback (most recent call last)",
      "Cell \u001b[1;32mIn[15], line 1\u001b[0m\n\u001b[1;32m----> 1\u001b[0m \u001b[43ms\u001b[49m\u001b[43m[\u001b[49m\u001b[38;5;241;43m0\u001b[39;49m\u001b[43m]\u001b[49m\n",
      "\u001b[1;31mTypeError\u001b[0m: 'set' object is not subscriptable"
     ]
    }
   ],
   "source": [
    "s[0]"
   ]
  },
  {
   "cell_type": "markdown",
   "id": "22959823-8716-4076-813a-76975d4585d5",
   "metadata": {},
   "source": [
    "ordering not guaranteed "
   ]
  },
  {
   "cell_type": "code",
   "execution_count": 17,
   "id": "b970b174-9536-4c28-8d8e-91d18e92b214",
   "metadata": {},
   "outputs": [],
   "source": [
    "s={'b',20,'a',5,'c'}"
   ]
  },
  {
   "cell_type": "code",
   "execution_count": 18,
   "id": "f6996d07-085d-497d-83ad-a69f0f51b9ec",
   "metadata": {},
   "outputs": [
    {
     "name": "stdout",
     "output_type": "stream",
     "text": [
      "b\n",
      "5\n",
      "20\n",
      "c\n",
      "a\n"
     ]
    }
   ],
   "source": [
    "for el in s:\n",
    "    print(el)"
   ]
  },
  {
   "cell_type": "code",
   "execution_count": 20,
   "id": "de226074-d293-4da4-ba8f-6be3cc87bc47",
   "metadata": {},
   "outputs": [],
   "source": [
    "l =[1,2,3,4,5]"
   ]
  },
  {
   "cell_type": "code",
   "execution_count": 21,
   "id": "1e2f44af-5ea1-4e9e-a71b-fe477a1363a7",
   "metadata": {},
   "outputs": [
    {
     "data": {
      "text/plain": [
       "2092637900928"
      ]
     },
     "execution_count": 21,
     "metadata": {},
     "output_type": "execute_result"
    }
   ],
   "source": [
    "id(l)"
   ]
  },
  {
   "cell_type": "code",
   "execution_count": 22,
   "id": "02fdb498-210f-42a9-abae-ef358ae2d665",
   "metadata": {},
   "outputs": [
    {
     "data": {
      "text/plain": [
       "[1, 2, 3, 4, 5]"
      ]
     },
     "execution_count": 22,
     "metadata": {},
     "output_type": "execute_result"
    }
   ],
   "source": [
    "l"
   ]
  },
  {
   "cell_type": "code",
   "execution_count": 23,
   "id": "747fd10b-47f0-4077-ac27-8c12efbbd5ec",
   "metadata": {},
   "outputs": [],
   "source": [
    "l[0]=100"
   ]
  },
  {
   "cell_type": "code",
   "execution_count": 24,
   "id": "fe46c862-10e9-4755-9ef2-7e9effd5d5c6",
   "metadata": {},
   "outputs": [
    {
     "data": {
      "text/plain": [
       "[100, 2, 3, 4, 5]"
      ]
     },
     "execution_count": 24,
     "metadata": {},
     "output_type": "execute_result"
    }
   ],
   "source": [
    "l"
   ]
  },
  {
   "cell_type": "code",
   "execution_count": 25,
   "id": "e0f537a1-1a74-4470-8408-5e0dd6dc417d",
   "metadata": {},
   "outputs": [
    {
     "data": {
      "text/plain": [
       "2092637900928"
      ]
     },
     "execution_count": 25,
     "metadata": {},
     "output_type": "execute_result"
    }
   ],
   "source": [
    "id(l)"
   ]
  },
  {
   "cell_type": "code",
   "execution_count": 26,
   "id": "1d85b740-f775-4d60-bbc1-ccf02e899d2f",
   "metadata": {},
   "outputs": [],
   "source": [
    "l.clear()"
   ]
  },
  {
   "cell_type": "code",
   "execution_count": 27,
   "id": "0572bac1-17b0-40c6-9031-e55b37e6fb64",
   "metadata": {},
   "outputs": [
    {
     "data": {
      "text/plain": [
       "[]"
      ]
     },
     "execution_count": 27,
     "metadata": {},
     "output_type": "execute_result"
    }
   ],
   "source": [
    "l"
   ]
  },
  {
   "cell_type": "code",
   "execution_count": 28,
   "id": "cebd39ed-5be8-4b5d-aed3-c48e8b0909f9",
   "metadata": {},
   "outputs": [
    {
     "data": {
      "text/plain": [
       "2092637900928"
      ]
     },
     "execution_count": 28,
     "metadata": {},
     "output_type": "execute_result"
    }
   ],
   "source": [
    "id(l)"
   ]
  },
  {
   "cell_type": "markdown",
   "id": "b6ed5d2a-2432-4b2a-8860-087974f1e931",
   "metadata": {},
   "source": [
    "this is not the same as "
   ]
  },
  {
   "cell_type": "code",
   "execution_count": 29,
   "id": "028abca6-2ed9-4186-a443-ad7b78d6025e",
   "metadata": {},
   "outputs": [
    {
     "name": "stdout",
     "output_type": "stream",
     "text": [
      "[1, 2, 3, 4, 5] 2092637855360\n"
     ]
    }
   ],
   "source": [
    "l = [1,2,3,4,5]\n",
    "print(l,id(l))"
   ]
  },
  {
   "cell_type": "code",
   "execution_count": 30,
   "id": "8b4fe2f0-c078-485b-a237-79fce45b3e8b",
   "metadata": {},
   "outputs": [],
   "source": [
    "l=[]"
   ]
  },
  {
   "cell_type": "code",
   "execution_count": 31,
   "id": "17037671-27c4-4b48-9116-d41fdb322b2e",
   "metadata": {},
   "outputs": [
    {
     "data": {
      "text/plain": [
       "2092637995840"
      ]
     },
     "execution_count": 31,
     "metadata": {},
     "output_type": "execute_result"
    }
   ],
   "source": [
    "id(l)"
   ]
  },
  {
   "cell_type": "markdown",
   "id": "7e8d7e02-597d-40df-a317-fc23d2970d0a",
   "metadata": {},
   "source": [
    "It is different, as it created a new object. This is not mutation"
   ]
  },
  {
   "cell_type": "markdown",
   "id": "c8c908b3-8456-4243-ac97-4814406320af",
   "metadata": {},
   "source": [
    "Suppose we have a list \n",
    "\n",
    "<pre> \n",
    "suits = ['Spades','Diamonds','Hearts','Clubs']\n",
    "and we keep an alias to this \n",
    "alias = suits \n",
    "\n",
    "At this point, both points to the same object in memory. Now if we change alias, what will happen\n",
    "</pre>"
   ]
  },
  {
   "cell_type": "code",
   "execution_count": 33,
   "id": "2dfbebab-ded0-4c9b-a0a4-483a6aa6212c",
   "metadata": {},
   "outputs": [],
   "source": [
    "suits = ['Spades','Diamonds','Hearts','Clubs']\n",
    "alias = suits"
   ]
  },
  {
   "cell_type": "code",
   "execution_count": 34,
   "id": "50c6381e-0fef-4a2e-80db-0f7a32c723d9",
   "metadata": {},
   "outputs": [
    {
     "data": {
      "text/plain": [
       "(2092631850240, 2092631850240)"
      ]
     },
     "execution_count": 34,
     "metadata": {},
     "output_type": "execute_result"
    }
   ],
   "source": [
    "id(suits),id(alias)"
   ]
  },
  {
   "cell_type": "code",
   "execution_count": 35,
   "id": "656aa81c-cd37-4895-9f1e-f5866a26ca34",
   "metadata": {},
   "outputs": [
    {
     "data": {
      "text/plain": [
       "'Clubs'"
      ]
     },
     "execution_count": 35,
     "metadata": {},
     "output_type": "execute_result"
    }
   ],
   "source": [
    "alias.pop()"
   ]
  },
  {
   "cell_type": "code",
   "execution_count": 36,
   "id": "1bdcdad7-4c5c-4f08-b3ab-54725734080a",
   "metadata": {},
   "outputs": [
    {
     "data": {
      "text/plain": [
       "['Spades', 'Diamonds', 'Hearts']"
      ]
     },
     "execution_count": 36,
     "metadata": {},
     "output_type": "execute_result"
    }
   ],
   "source": [
    "alias"
   ]
  },
  {
   "cell_type": "code",
   "execution_count": 37,
   "id": "23f89be7-7a5c-48ae-8c5e-afde93d8cb44",
   "metadata": {},
   "outputs": [
    {
     "data": {
      "text/plain": [
       "['Spades', 'Diamonds', 'Hearts']"
      ]
     },
     "execution_count": 37,
     "metadata": {},
     "output_type": "execute_result"
    }
   ],
   "source": [
    "suits"
   ]
  },
  {
   "cell_type": "markdown",
   "id": "a7c2fb68-8512-401a-b09e-0404770518e1",
   "metadata": {},
   "source": [
    "So we accidently changed our original list `suits`"
   ]
  },
  {
   "cell_type": "code",
   "execution_count": 38,
   "id": "e8d0ca8b-8576-4bae-aeef-bedd6aeaf3aa",
   "metadata": {},
   "outputs": [],
   "source": [
    "suits = ['Spades','Diamonds','Hearts','Clubs']\n",
    "alias = suits"
   ]
  },
  {
   "cell_type": "code",
   "execution_count": 39,
   "id": "5877a31f-263d-4ec8-b6d5-dcfce069fe3f",
   "metadata": {},
   "outputs": [
    {
     "data": {
      "text/plain": [
       "(2092637901504, 2092637901504)"
      ]
     },
     "execution_count": 39,
     "metadata": {},
     "output_type": "execute_result"
    }
   ],
   "source": [
    "id(suits),id(alias)\n"
   ]
  },
  {
   "cell_type": "markdown",
   "id": "bbf65a66-8ea8-4ccf-97cf-7284e919becc",
   "metadata": {},
   "source": [
    "or "
   ]
  },
  {
   "cell_type": "code",
   "execution_count": 44,
   "id": "f4126528-a4e5-4279-9b20-ecda1dddc931",
   "metadata": {},
   "outputs": [],
   "source": [
    "suits = ['Spades','Diamonds','Hearts','Clubs']\n",
    "def func(l):\n",
    "    l.clear()\n",
    "    print(l)\n",
    "    "
   ]
  },
  {
   "cell_type": "code",
   "execution_count": 45,
   "id": "099f8695-645b-456a-be2f-bbe3834643be",
   "metadata": {},
   "outputs": [
    {
     "name": "stdout",
     "output_type": "stream",
     "text": [
      "[]\n"
     ]
    }
   ],
   "source": [
    "func(suits)"
   ]
  },
  {
   "cell_type": "code",
   "execution_count": 46,
   "id": "d0f7f381-4351-4f84-becf-85e0a9b6d819",
   "metadata": {},
   "outputs": [
    {
     "data": {
      "text/plain": [
       "[]"
      ]
     },
     "execution_count": 46,
     "metadata": {},
     "output_type": "execute_result"
    }
   ],
   "source": [
    "suits"
   ]
  },
  {
   "cell_type": "markdown",
   "id": "fce436d1-5d71-4e4a-84b3-12ca6f33c280",
   "metadata": {},
   "source": [
    "Slicing"
   ]
  },
  {
   "cell_type": "code",
   "execution_count": 54,
   "id": "fa08a705-7f72-4a8a-a38a-6b56d41e7327",
   "metadata": {},
   "outputs": [],
   "source": [
    "l = [1,2,3,4]\n"
   ]
  },
  {
   "cell_type": "code",
   "execution_count": 55,
   "id": "0b59acee-9aa5-4955-b0cd-1418f415c948",
   "metadata": {},
   "outputs": [
    {
     "data": {
      "text/plain": [
       "2092637896640"
      ]
     },
     "execution_count": 55,
     "metadata": {},
     "output_type": "execute_result"
    }
   ],
   "source": [
    "id(l)"
   ]
  },
  {
   "cell_type": "code",
   "execution_count": 56,
   "id": "970869f1-1d19-4a00-9273-0c317a7e95b2",
   "metadata": {},
   "outputs": [],
   "source": [
    "l[0:2]=(10,20,30,40)"
   ]
  },
  {
   "cell_type": "code",
   "execution_count": 57,
   "id": "c94b2531-001b-4e88-a7b7-d57f6420f841",
   "metadata": {},
   "outputs": [
    {
     "data": {
      "text/plain": [
       "[10, 20, 30, 40, 3, 4]"
      ]
     },
     "execution_count": 57,
     "metadata": {},
     "output_type": "execute_result"
    }
   ],
   "source": [
    "l"
   ]
  },
  {
   "cell_type": "code",
   "execution_count": 58,
   "id": "2758b231-d21c-4d88-9720-f73b5ecd84a8",
   "metadata": {},
   "outputs": [
    {
     "data": {
      "text/plain": [
       "[10, 20, 30, 40, 3, 4]"
      ]
     },
     "execution_count": 58,
     "metadata": {},
     "output_type": "execute_result"
    }
   ],
   "source": [
    "l"
   ]
  },
  {
   "cell_type": "code",
   "execution_count": 59,
   "id": "e23a5e01-b192-471f-bf2e-be2c668f36f2",
   "metadata": {},
   "outputs": [],
   "source": [
    "l=l+[55]"
   ]
  },
  {
   "cell_type": "code",
   "execution_count": 60,
   "id": "9ac51832-bc96-4142-afc7-8ee670b03824",
   "metadata": {},
   "outputs": [
    {
     "data": {
      "text/plain": [
       "2092638216192"
      ]
     },
     "execution_count": 60,
     "metadata": {},
     "output_type": "execute_result"
    }
   ],
   "source": [
    "id(l)"
   ]
  },
  {
   "cell_type": "code",
   "execution_count": 61,
   "id": "e3b6e722-dd5f-4a6b-8db2-560ac368a483",
   "metadata": {},
   "outputs": [
    {
     "data": {
      "text/plain": [
       "[10, 20, 30, 40, 3, 4, 55]"
      ]
     },
     "execution_count": 61,
     "metadata": {},
     "output_type": "execute_result"
    }
   ],
   "source": [
    "l"
   ]
  },
  {
   "cell_type": "code",
   "execution_count": null,
   "id": "5535c07f-c3ff-4601-adb4-18c639cc9edb",
   "metadata": {},
   "outputs": [],
   "source": []
  }
 ],
 "metadata": {
  "kernelspec": {
   "display_name": "Python 3 (ipykernel)",
   "language": "python",
   "name": "python3"
  },
  "language_info": {
   "codemirror_mode": {
    "name": "ipython",
    "version": 3
   },
   "file_extension": ".py",
   "mimetype": "text/x-python",
   "name": "python",
   "nbconvert_exporter": "python",
   "pygments_lexer": "ipython3",
   "version": "3.12.3"
  }
 },
 "nbformat": 4,
 "nbformat_minor": 5
}
