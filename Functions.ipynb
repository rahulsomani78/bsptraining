{
 "cells": [
  {
   "cell_type": "markdown",
   "id": "d5fe9ea7-e1ee-447d-ba3b-69ca357045e4",
   "metadata": {},
   "source": [
    "# Functions\n"
   ]
  },
  {
   "cell_type": "code",
   "execution_count": 1,
   "id": "cf8304a4-9290-4288-a885-0c39499546a9",
   "metadata": {},
   "outputs": [],
   "source": [
    "a = 10,20,30 "
   ]
  },
  {
   "cell_type": "code",
   "execution_count": 2,
   "id": "9ed6c945-cf32-4b09-9730-a00c619bc03c",
   "metadata": {},
   "outputs": [],
   "source": [
    "first,second,third = a"
   ]
  },
  {
   "cell_type": "code",
   "execution_count": 3,
   "id": "304e6beb-96f2-427f-9509-99639670e7c1",
   "metadata": {},
   "outputs": [
    {
     "data": {
      "text/plain": [
       "10"
      ]
     },
     "execution_count": 3,
     "metadata": {},
     "output_type": "execute_result"
    }
   ],
   "source": [
    "first"
   ]
  },
  {
   "cell_type": "code",
   "execution_count": 4,
   "id": "0e202589-8c42-4fa2-8b80-58a7ea213a35",
   "metadata": {},
   "outputs": [
    {
     "data": {
      "text/plain": [
       "(20, 30)"
      ]
     },
     "execution_count": 4,
     "metadata": {},
     "output_type": "execute_result"
    }
   ],
   "source": [
    "second , third "
   ]
  },
  {
   "cell_type": "code",
   "execution_count": 5,
   "id": "7a17278f-8b09-48c4-97d5-4dea21e1baa4",
   "metadata": {},
   "outputs": [],
   "source": [
    "t = 10,20,30,40,50 "
   ]
  },
  {
   "cell_type": "code",
   "execution_count": 7,
   "id": "4cb646a1-9f71-4d14-8317-a97ff8beebcb",
   "metadata": {},
   "outputs": [],
   "source": [
    "first,*ignore,last = t "
   ]
  },
  {
   "cell_type": "code",
   "execution_count": 9,
   "id": "602c7c75-2c3c-48cb-80a5-2d236a4099a3",
   "metadata": {},
   "outputs": [
    {
     "data": {
      "text/plain": [
       "(10, 50)"
      ]
     },
     "execution_count": 9,
     "metadata": {},
     "output_type": "execute_result"
    }
   ],
   "source": [
    "first,last"
   ]
  },
  {
   "cell_type": "code",
   "execution_count": 10,
   "id": "c84d3ea8-0a28-491d-b879-e66df9b8a4b5",
   "metadata": {},
   "outputs": [
    {
     "data": {
      "text/plain": [
       "[20, 30, 40]"
      ]
     },
     "execution_count": 10,
     "metadata": {},
     "output_type": "execute_result"
    }
   ],
   "source": [
    "ignore "
   ]
  },
  {
   "cell_type": "code",
   "execution_count": 11,
   "id": "3eaf9db8-56e9-4739-95a0-3a2f779f6afe",
   "metadata": {},
   "outputs": [],
   "source": [
    "a,b,c,d,e = t"
   ]
  },
  {
   "cell_type": "code",
   "execution_count": 12,
   "id": "c1fbeffd-544b-413c-ba81-ed588f7a6da3",
   "metadata": {},
   "outputs": [
    {
     "data": {
      "text/plain": [
       "(10, 20, 30, 40, 50)"
      ]
     },
     "execution_count": 12,
     "metadata": {},
     "output_type": "execute_result"
    }
   ],
   "source": [
    "a,b,c,d,e"
   ]
  },
  {
   "cell_type": "code",
   "execution_count": 14,
   "id": "aec0b32a-74d8-4062-a4c5-01dffbe0de25",
   "metadata": {},
   "outputs": [],
   "source": [
    "*v, l = t"
   ]
  },
  {
   "cell_type": "code",
   "execution_count": 15,
   "id": "cd6d7be9-1add-47ce-9760-d9bdaf5f0ea0",
   "metadata": {},
   "outputs": [
    {
     "data": {
      "text/plain": [
       "40"
      ]
     },
     "execution_count": 15,
     "metadata": {},
     "output_type": "execute_result"
    }
   ],
   "source": [
    "l"
   ]
  },
  {
   "cell_type": "code",
   "execution_count": 16,
   "id": "246ab6a4-cb8c-4ef9-a49b-bcb4cecd4ed3",
   "metadata": {},
   "outputs": [
    {
     "data": {
      "text/plain": [
       "[10, 20, 30]"
      ]
     },
     "execution_count": 16,
     "metadata": {},
     "output_type": "execute_result"
    }
   ],
   "source": [
    "v"
   ]
  },
  {
   "cell_type": "code",
   "execution_count": 17,
   "id": "b8bbd061-f581-4504-9dbc-eed9910e1fbf",
   "metadata": {},
   "outputs": [],
   "source": [
    "l = [1,2,3,4,5,6]\n",
    "a,b,*c,d=l"
   ]
  },
  {
   "cell_type": "code",
   "execution_count": 21,
   "id": "97355656-02dd-46a9-8bb9-409ffbc949b2",
   "metadata": {},
   "outputs": [
    {
     "data": {
      "text/plain": [
       "(1, 2, 6, [3, 4, 5])"
      ]
     },
     "execution_count": 21,
     "metadata": {},
     "output_type": "execute_result"
    }
   ],
   "source": [
    "a,b,d,c"
   ]
  },
  {
   "cell_type": "code",
   "execution_count": 22,
   "id": "7acac1da-cd37-4561-8a7e-825c61d78b1f",
   "metadata": {},
   "outputs": [],
   "source": [
    "*x,y = l"
   ]
  },
  {
   "cell_type": "code",
   "execution_count": 23,
   "id": "b0302757-ebdb-421f-ba6a-cad5e4b15cef",
   "metadata": {},
   "outputs": [
    {
     "data": {
      "text/plain": [
       "6"
      ]
     },
     "execution_count": 23,
     "metadata": {},
     "output_type": "execute_result"
    }
   ],
   "source": [
    "y"
   ]
  },
  {
   "cell_type": "code",
   "execution_count": 24,
   "id": "3cba566a-731f-4de8-878a-0aa226093c6a",
   "metadata": {},
   "outputs": [
    {
     "data": {
      "text/plain": [
       "[1, 2, 3, 4, 5]"
      ]
     },
     "execution_count": 24,
     "metadata": {},
     "output_type": "execute_result"
    }
   ],
   "source": [
    "x"
   ]
  },
  {
   "cell_type": "markdown",
   "id": "4aab76dd-01c2-4fab-9296-5e9f77e4d423",
   "metadata": {},
   "source": [
    "# Functions"
   ]
  },
  {
   "cell_type": "code",
   "execution_count": 25,
   "id": "2adc85b4-d87c-4394-b9f7-55e1e00d2d39",
   "metadata": {},
   "outputs": [],
   "source": [
    "def fn(a,b):\n",
    "    result = a+b \n",
    "    print(result)\n",
    "    \n",
    "    "
   ]
  },
  {
   "cell_type": "code",
   "execution_count": 26,
   "id": "07c63b3c-98ea-494b-9d06-b7ab6a1dcfeb",
   "metadata": {},
   "outputs": [
    {
     "data": {
      "text/plain": [
       "<function __main__.fn(a, b)>"
      ]
     },
     "execution_count": 26,
     "metadata": {},
     "output_type": "execute_result"
    }
   ],
   "source": [
    "fn"
   ]
  },
  {
   "cell_type": "code",
   "execution_count": 27,
   "id": "adfc7f6f-bf40-4dc9-b27d-6ee93d410cc4",
   "metadata": {},
   "outputs": [
    {
     "name": "stdout",
     "output_type": "stream",
     "text": [
      "Help on function fn in module __main__:\n",
      "\n",
      "fn(a, b)\n",
      "\n"
     ]
    }
   ],
   "source": [
    "help(fn)"
   ]
  },
  {
   "cell_type": "code",
   "execution_count": 30,
   "id": "b6ea4c53-29c0-4ad6-bdcd-0e9ef47082e8",
   "metadata": {},
   "outputs": [],
   "source": [
    "def fn(a,b):\n",
    "    \"\"\"\n",
    "    This function returns\n",
    "    the sum of a and b\n",
    "    >>> fn(2,3)\n",
    "    >>>5\n",
    "    \"\"\"\n",
    "    return a+b"
   ]
  },
  {
   "cell_type": "code",
   "execution_count": 31,
   "id": "ab891c37-c977-4848-980b-455bd75e29a8",
   "metadata": {},
   "outputs": [
    {
     "name": "stdout",
     "output_type": "stream",
     "text": [
      "Help on function fn in module __main__:\n",
      "\n",
      "fn(a, b)\n",
      "    This function returns\n",
      "    the sum of a and b\n",
      "    >>> fn(2,3)\n",
      "    >>>5\n",
      "\n"
     ]
    }
   ],
   "source": [
    "help(fn)"
   ]
  },
  {
   "cell_type": "code",
   "execution_count": 33,
   "id": "0d62fa64-0372-49be-bfbc-be84788244a5",
   "metadata": {},
   "outputs": [
    {
     "name": "stdout",
     "output_type": "stream",
     "text": [
      "\n",
      "    This function returns\n",
      "    the sum of a and b\n",
      "    >>> fn(2,3)\n",
      "    >>>5\n",
      "    \n"
     ]
    }
   ],
   "source": [
    "print(fn.__doc__)"
   ]
  },
  {
   "cell_type": "markdown",
   "id": "7ebb4e0c-206d-47ff-9c9c-f988c9ce7a0c",
   "metadata": {},
   "source": [
    "# Function annotations\n"
   ]
  },
  {
   "cell_type": "code",
   "execution_count": 34,
   "id": "2e5764a9-0e79-4610-86d6-a73198da6ee5",
   "metadata": {},
   "outputs": [],
   "source": [
    "def fn(a:int,b:int)->int:\n",
    "    \"\"\"\n",
    "    >>return sum of a and b \n",
    "    \"\"\"\n",
    "    return a+b"
   ]
  },
  {
   "cell_type": "code",
   "execution_count": 35,
   "id": "3009a3d5-6f57-43dd-819f-a67ffe27c874",
   "metadata": {},
   "outputs": [
    {
     "data": {
      "text/plain": [
       "<function __main__.fn(a: int, b: int) -> int>"
      ]
     },
     "execution_count": 35,
     "metadata": {},
     "output_type": "execute_result"
    }
   ],
   "source": [
    "fn"
   ]
  },
  {
   "cell_type": "code",
   "execution_count": 36,
   "id": "0726fc02-e1c9-41ae-b1e6-7f56361f8b79",
   "metadata": {},
   "outputs": [
    {
     "data": {
      "text/plain": [
       "5"
      ]
     },
     "execution_count": 36,
     "metadata": {},
     "output_type": "execute_result"
    }
   ],
   "source": [
    "fn(2,3)"
   ]
  },
  {
   "cell_type": "code",
   "execution_count": 37,
   "id": "29116e73-70cb-42b3-b84c-a7fac06fb63e",
   "metadata": {},
   "outputs": [
    {
     "name": "stdout",
     "output_type": "stream",
     "text": [
      "Help on function fn in module __main__:\n",
      "\n",
      "fn(a: int, b: int) -> int\n",
      "    >>return sum of a and b\n",
      "\n"
     ]
    }
   ],
   "source": [
    "help(fn)"
   ]
  },
  {
   "cell_type": "code",
   "execution_count": 38,
   "id": "30e30894-97a8-4577-9272-c0604cf336c0",
   "metadata": {},
   "outputs": [
    {
     "name": "stdout",
     "output_type": "stream",
     "text": [
      "['__annotations__', '__builtins__', '__call__', '__class__', '__closure__', '__code__', '__defaults__', '__delattr__', '__dict__', '__dir__', '__doc__', '__eq__', '__format__', '__ge__', '__get__', '__getattribute__', '__getstate__', '__globals__', '__gt__', '__hash__', '__init__', '__init_subclass__', '__kwdefaults__', '__le__', '__lt__', '__module__', '__name__', '__ne__', '__new__', '__qualname__', '__reduce__', '__reduce_ex__', '__repr__', '__setattr__', '__sizeof__', '__str__', '__subclasshook__', '__type_params__']\n"
     ]
    }
   ],
   "source": [
    "print(dir(fn))"
   ]
  },
  {
   "cell_type": "code",
   "execution_count": 39,
   "id": "f1dc5f45-0e9f-4759-aa3a-b893b84ccc62",
   "metadata": {},
   "outputs": [
    {
     "data": {
      "text/plain": [
       "{'a': int, 'b': int, 'return': int}"
      ]
     },
     "execution_count": 39,
     "metadata": {},
     "output_type": "execute_result"
    }
   ],
   "source": [
    "fn.__annotations__"
   ]
  },
  {
   "cell_type": "code",
   "execution_count": 43,
   "id": "1cb6661c-9137-4014-9d39-24b0f5541bed",
   "metadata": {},
   "outputs": [],
   "source": [
    "def print(msg):\n",
    "    return 'hello {}'.format(msg)"
   ]
  },
  {
   "cell_type": "code",
   "execution_count": 44,
   "id": "b618a7a4-d13c-4d33-bf0c-d26cc0307693",
   "metadata": {},
   "outputs": [
    {
     "data": {
      "text/plain": [
       "<function __main__.print(msg)>"
      ]
     },
     "execution_count": 44,
     "metadata": {},
     "output_type": "execute_result"
    }
   ],
   "source": [
    "print"
   ]
  },
  {
   "cell_type": "code",
   "execution_count": 45,
   "id": "b7a72df6-62f0-4a5d-ab29-48c28dbde99e",
   "metadata": {},
   "outputs": [
    {
     "data": {
      "text/plain": [
       "'hello rah'"
      ]
     },
     "execution_count": 45,
     "metadata": {},
     "output_type": "execute_result"
    }
   ],
   "source": [
    "print(\"rah\")"
   ]
  },
  {
   "cell_type": "code",
   "execution_count": 46,
   "id": "c85dbe67-4258-4e1b-9f56-423cd9f6f4e5",
   "metadata": {},
   "outputs": [],
   "source": [
    "del print "
   ]
  },
  {
   "cell_type": "code",
   "execution_count": 47,
   "id": "6ca9f859-eab1-4778-937f-cfea34939342",
   "metadata": {},
   "outputs": [
    {
     "data": {
      "text/plain": [
       "<function print(*args, sep=' ', end='\\n', file=None, flush=False)>"
      ]
     },
     "execution_count": 47,
     "metadata": {},
     "output_type": "execute_result"
    }
   ],
   "source": [
    "print"
   ]
  },
  {
   "cell_type": "markdown",
   "id": "2636a2d4-92ee-4183-8244-f70cc05fb4a0",
   "metadata": {},
   "source": [
    "Seeing the namespaces "
   ]
  },
  {
   "cell_type": "code",
   "execution_count": 48,
   "id": "b787a419-8510-41d6-9340-80424786891e",
   "metadata": {},
   "outputs": [
    {
     "data": {
      "text/plain": [
       "{'__name__': '__main__',\n",
       " '__doc__': 'Automatically created module for IPython interactive environment',\n",
       " '__package__': None,\n",
       " '__loader__': None,\n",
       " '__spec__': None,\n",
       " '__builtin__': <module 'builtins' (built-in)>,\n",
       " '__builtins__': <module 'builtins' (built-in)>,\n",
       " '_ih': ['',\n",
       "  'a = 10,20,30 ',\n",
       "  'first,second,third = a',\n",
       "  'first',\n",
       "  'second , third ',\n",
       "  't = 10,20,30,40,50 ',\n",
       "  'first,last = t ',\n",
       "  'first,*ignore,last = t ',\n",
       "  'first',\n",
       "  'first,last',\n",
       "  'ignore ',\n",
       "  'a,b,c,d,e = t',\n",
       "  'a,b,c,d,e',\n",
       "  '*t, l = t',\n",
       "  '*v, l = t',\n",
       "  'l',\n",
       "  'v',\n",
       "  'l = [1,2,3,4,5,6]\\na,b,*c,d=l',\n",
       "  'a',\n",
       "  'a,b',\n",
       "  'a,b,d',\n",
       "  'a,b,d,c',\n",
       "  '*x,y = l',\n",
       "  'y',\n",
       "  'x',\n",
       "  'def fn(a,b):\\n    result = a+b \\n    print(result)\\n    \\n    ',\n",
       "  'fn',\n",
       "  'help(fn)',\n",
       "  'def fn(a,b):\\n    \"\"\"\\n    This function returns\\n    the sum of a and b\\n    >>> a+b\\n    \"\"\"\\n    return a+b',\n",
       "  'help(fn)',\n",
       "  'def fn(a,b):\\n    \"\"\"\\n    This function returns\\n    the sum of a and b\\n    >>> fn(2,3)\\n    >>>5\\n    \"\"\"\\n    return a+b',\n",
       "  'help(fn)',\n",
       "  'fn.__doc__',\n",
       "  'print(fn.__doc__)',\n",
       "  'def fn(a:int,b:int)->int:\\n    \"\"\"\\n    >>return sum of a and b \\n    \"\"\"\\n    return a+b',\n",
       "  'fn',\n",
       "  'fn(2,3)',\n",
       "  'help(fn)',\n",
       "  'print(dir(fn))',\n",
       "  'fn.__annotations__',\n",
       "  \"def print(msg):\\n    return ''.format(msg)\",\n",
       "  'print',\n",
       "  'print(\"rah\")',\n",
       "  \"def print(msg):\\n    return 'hello {}'.format(msg)\",\n",
       "  'print',\n",
       "  'print(\"rah\")',\n",
       "  'del print ',\n",
       "  'print',\n",
       "  'globals()'],\n",
       " '_oh': {3: 10,\n",
       "  4: (20, 30),\n",
       "  8: 10,\n",
       "  9: (10, 50),\n",
       "  10: [20, 30, 40],\n",
       "  12: (10, 20, 30, 40, 50),\n",
       "  15: 40,\n",
       "  16: [10, 20, 30],\n",
       "  18: 1,\n",
       "  19: (1, 2),\n",
       "  20: (1, 2, 6),\n",
       "  21: (1, 2, 6, [3, 4, 5]),\n",
       "  23: 6,\n",
       "  24: [1, 2, 3, 4, 5],\n",
       "  26: <function __main__.fn(a, b)>,\n",
       "  32: '\\n    This function returns\\n    the sum of a and b\\n    >>> fn(2,3)\\n    >>>5\\n    ',\n",
       "  35: <function __main__.fn(a: int, b: int) -> int>,\n",
       "  36: 5,\n",
       "  39: {'a': int, 'b': int, 'return': int},\n",
       "  41: <function __main__.print(msg)>,\n",
       "  42: '',\n",
       "  44: <function __main__.print(msg)>,\n",
       "  45: 'hello rah',\n",
       "  47: <function print(*args, sep=' ', end='\\n', file=None, flush=False)>},\n",
       " '_dh': [WindowsPath('C:/Users/soman/bsp')],\n",
       " 'In': ['',\n",
       "  'a = 10,20,30 ',\n",
       "  'first,second,third = a',\n",
       "  'first',\n",
       "  'second , third ',\n",
       "  't = 10,20,30,40,50 ',\n",
       "  'first,last = t ',\n",
       "  'first,*ignore,last = t ',\n",
       "  'first',\n",
       "  'first,last',\n",
       "  'ignore ',\n",
       "  'a,b,c,d,e = t',\n",
       "  'a,b,c,d,e',\n",
       "  '*t, l = t',\n",
       "  '*v, l = t',\n",
       "  'l',\n",
       "  'v',\n",
       "  'l = [1,2,3,4,5,6]\\na,b,*c,d=l',\n",
       "  'a',\n",
       "  'a,b',\n",
       "  'a,b,d',\n",
       "  'a,b,d,c',\n",
       "  '*x,y = l',\n",
       "  'y',\n",
       "  'x',\n",
       "  'def fn(a,b):\\n    result = a+b \\n    print(result)\\n    \\n    ',\n",
       "  'fn',\n",
       "  'help(fn)',\n",
       "  'def fn(a,b):\\n    \"\"\"\\n    This function returns\\n    the sum of a and b\\n    >>> a+b\\n    \"\"\"\\n    return a+b',\n",
       "  'help(fn)',\n",
       "  'def fn(a,b):\\n    \"\"\"\\n    This function returns\\n    the sum of a and b\\n    >>> fn(2,3)\\n    >>>5\\n    \"\"\"\\n    return a+b',\n",
       "  'help(fn)',\n",
       "  'fn.__doc__',\n",
       "  'print(fn.__doc__)',\n",
       "  'def fn(a:int,b:int)->int:\\n    \"\"\"\\n    >>return sum of a and b \\n    \"\"\"\\n    return a+b',\n",
       "  'fn',\n",
       "  'fn(2,3)',\n",
       "  'help(fn)',\n",
       "  'print(dir(fn))',\n",
       "  'fn.__annotations__',\n",
       "  \"def print(msg):\\n    return ''.format(msg)\",\n",
       "  'print',\n",
       "  'print(\"rah\")',\n",
       "  \"def print(msg):\\n    return 'hello {}'.format(msg)\",\n",
       "  'print',\n",
       "  'print(\"rah\")',\n",
       "  'del print ',\n",
       "  'print',\n",
       "  'globals()'],\n",
       " 'Out': {3: 10,\n",
       "  4: (20, 30),\n",
       "  8: 10,\n",
       "  9: (10, 50),\n",
       "  10: [20, 30, 40],\n",
       "  12: (10, 20, 30, 40, 50),\n",
       "  15: 40,\n",
       "  16: [10, 20, 30],\n",
       "  18: 1,\n",
       "  19: (1, 2),\n",
       "  20: (1, 2, 6),\n",
       "  21: (1, 2, 6, [3, 4, 5]),\n",
       "  23: 6,\n",
       "  24: [1, 2, 3, 4, 5],\n",
       "  26: <function __main__.fn(a, b)>,\n",
       "  32: '\\n    This function returns\\n    the sum of a and b\\n    >>> fn(2,3)\\n    >>>5\\n    ',\n",
       "  35: <function __main__.fn(a: int, b: int) -> int>,\n",
       "  36: 5,\n",
       "  39: {'a': int, 'b': int, 'return': int},\n",
       "  41: <function __main__.print(msg)>,\n",
       "  42: '',\n",
       "  44: <function __main__.print(msg)>,\n",
       "  45: 'hello rah',\n",
       "  47: <function print(*args, sep=' ', end='\\n', file=None, flush=False)>},\n",
       " 'get_ipython': <bound method InteractiveShell.get_ipython of <ipykernel.zmqshell.ZMQInteractiveShell object at 0x0000026E422FC0E0>>,\n",
       " 'exit': <IPython.core.autocall.ZMQExitAutocall at 0x26e422fd5b0>,\n",
       " 'quit': <IPython.core.autocall.ZMQExitAutocall at 0x26e422fd5b0>,\n",
       " 'open': <function _io.open(file, mode='r', buffering=-1, encoding=None, errors=None, newline=None, closefd=True, opener=None)>,\n",
       " '_': <function print(*args, sep=' ', end='\\n', file=None, flush=False)>,\n",
       " '__': 'hello rah',\n",
       " '___': <function __main__.print(msg)>,\n",
       " '__session__': 'C:\\\\Users\\\\soman\\\\bsp\\\\Untitled2.ipynb',\n",
       " '_i': 'print',\n",
       " '_ii': 'del print ',\n",
       " '_iii': 'print(\"rah\")',\n",
       " '_i1': 'a = 10,20,30 ',\n",
       " 'a': 1,\n",
       " '_i2': 'first,second,third = a',\n",
       " 'first': 10,\n",
       " 'second': 20,\n",
       " 'third': 30,\n",
       " '_i3': 'first',\n",
       " '_3': 10,\n",
       " '_i4': 'second , third ',\n",
       " '_4': (20, 30),\n",
       " '_i5': 't = 10,20,30,40,50 ',\n",
       " 't': [10, 20, 30, 40],\n",
       " '_i6': 'first,last = t ',\n",
       " '_i7': 'first,*ignore,last = t ',\n",
       " 'ignore': [20, 30, 40],\n",
       " 'last': 50,\n",
       " '_i8': 'first',\n",
       " '_8': 10,\n",
       " '_i9': 'first,last',\n",
       " '_9': (10, 50),\n",
       " '_i10': 'ignore ',\n",
       " '_10': [20, 30, 40],\n",
       " '_i11': 'a,b,c,d,e = t',\n",
       " 'b': 2,\n",
       " 'c': [3, 4, 5],\n",
       " 'd': 6,\n",
       " 'e': 50,\n",
       " '_i12': 'a,b,c,d,e',\n",
       " '_12': (10, 20, 30, 40, 50),\n",
       " '_i13': '*t, l = t',\n",
       " 'l': [1, 2, 3, 4, 5, 6],\n",
       " '_i14': '*v, l = t',\n",
       " 'v': [10, 20, 30],\n",
       " '_i15': 'l',\n",
       " '_15': 40,\n",
       " '_i16': 'v',\n",
       " '_16': [10, 20, 30],\n",
       " '_i17': 'l = [1,2,3,4,5,6]\\na,b,*c,d=l',\n",
       " '_i18': 'a',\n",
       " '_18': 1,\n",
       " '_i19': 'a,b',\n",
       " '_19': (1, 2),\n",
       " '_i20': 'a,b,d',\n",
       " '_20': (1, 2, 6),\n",
       " '_i21': 'a,b,d,c',\n",
       " '_21': (1, 2, 6, [3, 4, 5]),\n",
       " '_i22': '*x,y = l',\n",
       " 'x': [1, 2, 3, 4, 5],\n",
       " 'y': 6,\n",
       " '_i23': 'y',\n",
       " '_23': 6,\n",
       " '_i24': 'x',\n",
       " '_24': [1, 2, 3, 4, 5],\n",
       " '_i25': 'def fn(a,b):\\n    result = a+b \\n    print(result)\\n    \\n    ',\n",
       " 'fn': <function __main__.fn(a: int, b: int) -> int>,\n",
       " '_i26': 'fn',\n",
       " '_26': <function __main__.fn(a, b)>,\n",
       " '_i27': 'help(fn)',\n",
       " '_i28': 'def fn(a,b):\\n    \"\"\"\\n    This function returns\\n    the sum of a and b\\n    >>> a+b\\n    \"\"\"\\n    return a+b',\n",
       " '_i29': 'help(fn)',\n",
       " '_i30': 'def fn(a,b):\\n    \"\"\"\\n    This function returns\\n    the sum of a and b\\n    >>> fn(2,3)\\n    >>>5\\n    \"\"\"\\n    return a+b',\n",
       " '_i31': 'help(fn)',\n",
       " '_i32': 'fn.__doc__',\n",
       " '_32': '\\n    This function returns\\n    the sum of a and b\\n    >>> fn(2,3)\\n    >>>5\\n    ',\n",
       " '_i33': 'print(fn.__doc__)',\n",
       " '_i34': 'def fn(a:int,b:int)->int:\\n    \"\"\"\\n    >>return sum of a and b \\n    \"\"\"\\n    return a+b',\n",
       " '_i35': 'fn',\n",
       " '_35': <function __main__.fn(a: int, b: int) -> int>,\n",
       " '_i36': 'fn(2,3)',\n",
       " '_36': 5,\n",
       " '_i37': 'help(fn)',\n",
       " '_i38': 'print(dir(fn))',\n",
       " '_i39': 'fn.__annotations__',\n",
       " '_39': {'a': int, 'b': int, 'return': int},\n",
       " '_i40': \"def print(msg):\\n    return ''.format(msg)\",\n",
       " '_i41': 'print',\n",
       " '_41': <function __main__.print(msg)>,\n",
       " '_i42': 'print(\"rah\")',\n",
       " '_42': '',\n",
       " '_i43': \"def print(msg):\\n    return 'hello {}'.format(msg)\",\n",
       " '_i44': 'print',\n",
       " '_44': <function __main__.print(msg)>,\n",
       " '_i45': 'print(\"rah\")',\n",
       " '_45': 'hello rah',\n",
       " '_i46': 'del print ',\n",
       " '_i47': 'print',\n",
       " '_47': <function print(*args, sep=' ', end='\\n', file=None, flush=False)>,\n",
       " '_i48': 'globals()'}"
      ]
     },
     "execution_count": 48,
     "metadata": {},
     "output_type": "execute_result"
    }
   ],
   "source": [
    "globals()"
   ]
  },
  {
   "cell_type": "code",
   "execution_count": 49,
   "id": "e30726de-beaf-4cf3-b35a-59e3091e7af7",
   "metadata": {},
   "outputs": [
    {
     "name": "stdout",
     "output_type": "stream",
     "text": [
      "10 {'a': 10}\n",
      "locals from f2= {'b': 30, 'c': 'python'}\n"
     ]
    }
   ],
   "source": [
    "def f1():\n",
    "    a = 10 \n",
    "    print(a,locals())\n",
    "    def f2():\n",
    "        b=30\n",
    "        c='python'\n",
    "        print('locals from f2= {}'.format(locals()))\n",
    "    f2()\n",
    "f1()"
   ]
  },
  {
   "cell_type": "code",
   "execution_count": 50,
   "id": "d51217f3-8113-48d6-a0c6-072efb4789e9",
   "metadata": {},
   "outputs": [],
   "source": [
    "def fn(**k):\n",
    "    print(k,type(k))"
   ]
  },
  {
   "cell_type": "code",
   "execution_count": 51,
   "id": "22f698cc-8fc9-45b1-b00b-45986d8516d4",
   "metadata": {},
   "outputs": [
    {
     "name": "stdout",
     "output_type": "stream",
     "text": [
      "{'a': 20, 'name': 'Rahul'} <class 'dict'>\n"
     ]
    }
   ],
   "source": [
    "fn(a=20,name='Rahul')"
   ]
  },
  {
   "cell_type": "code",
   "execution_count": 52,
   "id": "afcbe1e9-4686-401a-b6f9-64f29632cc72",
   "metadata": {},
   "outputs": [],
   "source": [
    "def fn(**k):\n",
    "    print(*k)"
   ]
  },
  {
   "cell_type": "code",
   "execution_count": 53,
   "id": "d2949372-c764-4062-93ef-2c51a0e2a92d",
   "metadata": {},
   "outputs": [
    {
     "name": "stdout",
     "output_type": "stream",
     "text": [
      "a name\n"
     ]
    }
   ],
   "source": [
    "fn(a=20,name='Rahul')\n"
   ]
  },
  {
   "cell_type": "markdown",
   "id": "64aa65f0-34ca-48d4-8ac5-be6959a848af",
   "metadata": {},
   "source": [
    "# Inner Functions "
   ]
  },
  {
   "cell_type": "code",
   "execution_count": 65,
   "id": "552c9733-3719-4344-a010-7571b5becb9a",
   "metadata": {},
   "outputs": [],
   "source": [
    "def add(a,b):\n",
    "    print('add')\n",
    "    print(a+b)\n",
    "\n",
    "def mul(a,b):\n",
    "    print('mul')\n",
    "    print(a*b)\n",
    "    "
   ]
  },
  {
   "cell_type": "code",
   "execution_count": 66,
   "id": "91da0c78-4fe5-4302-b957-a8bc47fa1bce",
   "metadata": {},
   "outputs": [],
   "source": [
    "def outer(fn):\n",
    "    # print('{} called '.format(fn))\n",
    "    def inner(*args,**kwargs):\n",
    "        fn(*args,**kwargs)\n",
    "    return inner\n",
    "    "
   ]
  },
  {
   "cell_type": "code",
   "execution_count": 67,
   "id": "e3f29824-d6c3-4c19-8478-aaeda028354c",
   "metadata": {},
   "outputs": [],
   "source": [
    "func = outer(add)"
   ]
  },
  {
   "cell_type": "code",
   "execution_count": 63,
   "id": "76a52406-bca0-46cd-aaad-767ab20ff53b",
   "metadata": {},
   "outputs": [
    {
     "data": {
      "text/plain": [
       "<function __main__.outer.<locals>.inner(*args, **kwargs)>"
      ]
     },
     "execution_count": 63,
     "metadata": {},
     "output_type": "execute_result"
    }
   ],
   "source": [
    "func"
   ]
  },
  {
   "cell_type": "code",
   "execution_count": 68,
   "id": "5e0ba949-14d4-453d-99fa-9d27ecab976f",
   "metadata": {},
   "outputs": [
    {
     "name": "stdout",
     "output_type": "stream",
     "text": [
      "add\n",
      "5\n"
     ]
    }
   ],
   "source": [
    "func(2,3)"
   ]
  },
  {
   "cell_type": "code",
   "execution_count": null,
   "id": "e7227b91-bb74-40b5-9081-58ba5ce4391a",
   "metadata": {},
   "outputs": [],
   "source": []
  }
 ],
 "metadata": {
  "kernelspec": {
   "display_name": "Python 3 (ipykernel)",
   "language": "python",
   "name": "python3"
  },
  "language_info": {
   "codemirror_mode": {
    "name": "ipython",
    "version": 3
   },
   "file_extension": ".py",
   "mimetype": "text/x-python",
   "name": "python",
   "nbconvert_exporter": "python",
   "pygments_lexer": "ipython3",
   "version": "3.12.3"
  }
 },
 "nbformat": 4,
 "nbformat_minor": 5
}
