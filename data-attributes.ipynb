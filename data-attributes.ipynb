{
 "cells": [
  {
   "cell_type": "markdown",
   "id": "23c6e0d6-4b6f-4f22-8285-dcb3488989cd",
   "metadata": {},
   "source": [
    "<pre>\n",
    "\n",
    "Hi and welcome back.\n",
    "\n",
    "So let's look at data attributes.\n",
    "\n",
    "And now we're going to look at data attributes in the context of classes and instances.\n",
    "\n",
    "So I'm going to focus on data attributes first.\n",
    "\n",
    "So not functions because their behavior is a little bit different.\n",
    "\n",
    "So let's take a look at this class.\n",
    "\n",
    "I've got this class, my class.\n",
    "\n",
    "It has a single attribute called language and it has a string value of Python.\n",
    "\n",
    "So this is a data attribute essentially.\n",
    "\n",
    "Now we can create an instance of my class, let's call it my object by simply calling my class and Python.\n",
    "\n",
    "Remember, implements this for us.\n",
    "\n",
    "It makes the class callable and it will return an object of that type.\n",
    "\n",
    "So now my class has its namespace, it has this dictionary and it has in its dictionary, amongst other\n",
    "\n",
    "things, the language and python.\n",
    "\n",
    "Okay, we've seen that before.\n",
    "\n",
    "But my object is an object and it has also its own namespace.\n",
    "\n",
    "So we can look at the dict attribute and initially we'll see that it's empty.\n",
    "\n",
    "It doesn't have anything in it.\n",
    "\n",
    "Now when we look at my class dot language, we know what happens, right?\n",
    "\n",
    "Essentially, we're going to look for the language attribute in the classes dictionary in that namespace.\n",
    "\n",
    "So Python finds language as a key in that dictionary and it returns therefore Python.\n",
    "\n",
    "So we get that.\n",
    "\n",
    "But we can also look at the language property on my object.\n",
    "\n",
    "Now my objects dictionary that dict is empty.\n",
    "\n",
    "It's not in there.\n",
    "\n",
    "So what happens?\n",
    "\n",
    "Well, Python starts by looking for language inside that dictionary.\n",
    "\n",
    "If it finds it, it just returns it.\n",
    "\n",
    "So if it finds language in that dictionary, it gets the value for that and returns that.\n",
    "\n",
    "That kind of makes sense.\n",
    "\n",
    "But what happens when it doesn't find it?\n",
    "\n",
    "Well, if it doesn't find it, it then goes basically kind of up the chain and says, well, wait a\n",
    "\n",
    "minute, if it's not there, maybe my class, which is the class, the type of my object, right, the\n",
    "\n",
    "class it was defined from, it looks in there and it looks in that dictionary and in this case it finds\n",
    "\n",
    "it.\n",
    "\n",
    "So it will return Python.\n",
    "\n",
    "So when we do my object dot language, it returns Python because it doesn't find it in the instance.\n",
    "\n",
    "So then it goes up to the class and finds it there and returns it.\n",
    "\n",
    "And then when we get into inheritance, we'll see how that actually goes even further up.\n",
    "\n",
    "Okay, so let's take a look at this class again.\n",
    "\n",
    "So this class, my class, which has a single attribute language, and then we create an instance of\n",
    "\n",
    "that class.\n",
    "\n",
    "So when we say my class dot language, we get Python.\n",
    "\n",
    "It's getting the class attribute, right?\n",
    "\n",
    "So my object has an empty dictionary when we set my object dot language equal to Java.\n",
    "\n",
    "So now we're setting an attribute on my object, not on the class.\n",
    "\n",
    "We're setting an attribute on the object called my object.\n",
    "\n",
    "What happens there?\n",
    "\n",
    "Well, if we look at the dictionary of my object, if we look at its namespace, you'll see now that\n",
    "\n",
    "it does have a value.\n",
    "\n",
    "It has this value of a key of language and a value of Java.\n",
    "\n",
    "Now, this is called an instance attribute.\n",
    "\n",
    "This language over here, remember, was defined at the class level.\n",
    "\n",
    "It was in the dictionary of my class.\n",
    "\n",
    "It is a class attribute in this case, because I took the object and basically did a set attribute on\n",
    "\n",
    "my object.\n",
    "\n",
    "I could have used the set function as well and I set language to Java.\n",
    "\n",
    "It actually populated the dictionary of my object.\n",
    "\n",
    "That's why we call that an instance attribute.\n",
    "\n",
    "So that's the difference between an instance attribute and a class attribute.\n",
    "\n",
    "It depends which namespace it's defined in.\n",
    "\n",
    "Right?\n",
    "\n",
    "The instance attributes are in the dictionary that belong to the instance class attributes are in the\n",
    "\n",
    "dictionary that belong to the class.\n",
    "\n",
    "So now when I call my object dot language, in other words, if I do a get attribute right, a get at\n",
    "\n",
    "a function with my object and language, I'm going to get Java back.\n",
    "\n",
    "Because remember Python looks in the Objects dictionary namespace first.\n",
    "\n",
    "In this case it finds language, so it returns Java.\n",
    "\n",
    "But my class dot language is still Python.\n",
    "\n",
    "I haven't changed that.\n",
    "\n",
    "I only changed basically the the value for language.\n",
    "\n",
    "I created a value for language in my objects dictionary.\n",
    "\n",
    "So I kind of did an override essentially of what the class value is by defining it directly on the instance.\n",
    "\n",
    "Now if I do another object, which is going to be an instance of my class, its dictionary is now empty,\n",
    "\n",
    "right?\n",
    "\n",
    "Every object has its own namespace, its own dictionary.\n",
    "\n",
    "So my object has a dictionary that contains language Java.\n",
    "\n",
    "This other object doesn't have that.\n",
    "\n",
    "It's just empty.\n",
    "\n",
    "So if I say dot language on that.\n",
    "\n",
    "I'm going to get Python back because it doesn't find the value, right?\n",
    "\n",
    "It doesn't find language inside this dictionary.\n",
    "\n",
    "So it goes up to the class dictionary and it finds language in the class dictionary and so it returns\n",
    "\n",
    "the value python.\n",
    "\n",
    "Okay.\n",
    "\n",
    "So let's switch to some code and let's see how all that works.\n",
    "\n",
    "Thanks for watching and I'll see you in a bit.\n",
    "\n",
    "\n",
    "\n",
    "\n",
    "</pre>\n"
   ]
  },
  {
   "cell_type": "code",
   "execution_count": 1,
   "id": "a427843d-99eb-4d63-8ee3-4bbdeab109da",
   "metadata": {},
   "outputs": [],
   "source": [
    "class Program:\n",
    "    language = 'python'"
   ]
  },
  {
   "cell_type": "code",
   "execution_count": 2,
   "id": "192cd9d0-2c33-496c-85d4-97e1f21d7cbe",
   "metadata": {},
   "outputs": [],
   "source": [
    "p = Program()"
   ]
  },
  {
   "cell_type": "code",
   "execution_count": 3,
   "id": "6e7c9704-b72a-477d-89b7-7c0f3c9d84b0",
   "metadata": {},
   "outputs": [
    {
     "data": {
      "text/plain": [
       "mappingproxy({'__module__': '__main__',\n",
       "              'language': 'python',\n",
       "              '__dict__': <attribute '__dict__' of 'Program' objects>,\n",
       "              '__weakref__': <attribute '__weakref__' of 'Program' objects>,\n",
       "              '__doc__': None})"
      ]
     },
     "execution_count": 3,
     "metadata": {},
     "output_type": "execute_result"
    }
   ],
   "source": [
    "Program.__dict__"
   ]
  },
  {
   "cell_type": "code",
   "execution_count": 4,
   "id": "bb4efd04-c1db-404c-aebd-17bb93373435",
   "metadata": {},
   "outputs": [
    {
     "data": {
      "text/plain": [
       "'python'"
      ]
     },
     "execution_count": 4,
     "metadata": {},
     "output_type": "execute_result"
    }
   ],
   "source": [
    "Program.language "
   ]
  },
  {
   "cell_type": "code",
   "execution_count": 5,
   "id": "031761e0-a382-440f-a066-ae37a72c3c6d",
   "metadata": {},
   "outputs": [
    {
     "data": {
      "text/plain": [
       "{}"
      ]
     },
     "execution_count": 5,
     "metadata": {},
     "output_type": "execute_result"
    }
   ],
   "source": [
    "p.__dict__"
   ]
  },
  {
   "cell_type": "code",
   "execution_count": 6,
   "id": "99de7136-37a8-4fe6-9d14-3f58ed139a55",
   "metadata": {},
   "outputs": [
    {
     "data": {
      "text/plain": [
       "'python'"
      ]
     },
     "execution_count": 6,
     "metadata": {},
     "output_type": "execute_result"
    }
   ],
   "source": [
    "p.language "
   ]
  },
  {
   "cell_type": "code",
   "execution_count": 7,
   "id": "97448e71-29fd-460b-aadf-3fca5ba32125",
   "metadata": {},
   "outputs": [],
   "source": [
    "p.language = 'golang'"
   ]
  },
  {
   "cell_type": "code",
   "execution_count": 8,
   "id": "e0dbd894-c98f-43af-9fd7-bab2691bdeee",
   "metadata": {},
   "outputs": [
    {
     "data": {
      "text/plain": [
       "{'language': 'golang'}"
      ]
     },
     "execution_count": 8,
     "metadata": {},
     "output_type": "execute_result"
    }
   ],
   "source": [
    "p.__dict__"
   ]
  },
  {
   "cell_type": "code",
   "execution_count": 9,
   "id": "28ea27dd-9707-495b-bdfc-e6722ec2daa5",
   "metadata": {},
   "outputs": [
    {
     "data": {
      "text/plain": [
       "mappingproxy({'__module__': '__main__',\n",
       "              'language': 'python',\n",
       "              '__dict__': <attribute '__dict__' of 'Program' objects>,\n",
       "              '__weakref__': <attribute '__weakref__' of 'Program' objects>,\n",
       "              '__doc__': None})"
      ]
     },
     "execution_count": 9,
     "metadata": {},
     "output_type": "execute_result"
    }
   ],
   "source": [
    "Program.__dict__"
   ]
  },
  {
   "cell_type": "code",
   "execution_count": 10,
   "id": "f87bd8fc-c62a-470a-92e0-5e01ff3b56e5",
   "metadata": {},
   "outputs": [
    {
     "data": {
      "text/plain": [
       "'golang'"
      ]
     },
     "execution_count": 10,
     "metadata": {},
     "output_type": "execute_result"
    }
   ],
   "source": [
    "p.language "
   ]
  },
  {
   "cell_type": "code",
   "execution_count": null,
   "id": "30ecfa5b-ac43-4027-b93b-c00135a18263",
   "metadata": {},
   "outputs": [],
   "source": []
  }
 ],
 "metadata": {
  "kernelspec": {
   "display_name": "Python 3 (ipykernel)",
   "language": "python",
   "name": "python3"
  },
  "language_info": {
   "codemirror_mode": {
    "name": "ipython",
    "version": 3
   },
   "file_extension": ".py",
   "mimetype": "text/x-python",
   "name": "python",
   "nbconvert_exporter": "python",
   "pygments_lexer": "ipython3",
   "version": "3.12.3"
  }
 },
 "nbformat": 4,
 "nbformat_minor": 5
}
