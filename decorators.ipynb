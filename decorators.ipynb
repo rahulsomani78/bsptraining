{
 "cells": [
  {
   "cell_type": "markdown",
   "id": "d7a8c019-2df3-4a27-9ec2-d4343657a7df",
   "metadata": {},
   "source": [
    "# Decorators "
   ]
  },
  {
   "cell_type": "code",
   "execution_count": 1,
   "id": "7cad7de8-5cb0-47b6-b16b-f452309678c4",
   "metadata": {},
   "outputs": [],
   "source": [
    "def outer(fn):\n",
    "    print(' Within outer')\n",
    "    def inner(*args,**kwargs):\n",
    "        print('within inner')\n",
    "        return fn(*args,**kwargs)\n",
    "    return inner "
   ]
  },
  {
   "cell_type": "code",
   "execution_count": 2,
   "id": "c1c4d4b6-4f8c-4d75-b713-7168caa708cc",
   "metadata": {},
   "outputs": [],
   "source": [
    "def adder(a,b):\n",
    "    print(\"within adder\")\n",
    "    return 'Sum={}'.format(a+b)"
   ]
  },
  {
   "cell_type": "code",
   "execution_count": 4,
   "id": "2395d6ca-5655-4b0d-a5f3-a8377123bf6a",
   "metadata": {},
   "outputs": [
    {
     "data": {
      "text/plain": [
       "(<function __main__.outer(fn)>, <function __main__.adder(a, b)>)"
      ]
     },
     "execution_count": 4,
     "metadata": {},
     "output_type": "execute_result"
    }
   ],
   "source": [
    "outer, adder"
   ]
  },
  {
   "cell_type": "code",
   "execution_count": 5,
   "id": "de3d0b1e-a662-4614-acf1-f9e1dc4662c0",
   "metadata": {},
   "outputs": [
    {
     "name": "stdout",
     "output_type": "stream",
     "text": [
      " Within outer\n"
     ]
    }
   ],
   "source": [
    "adder = outer(adder)"
   ]
  },
  {
   "cell_type": "code",
   "execution_count": 6,
   "id": "b9e31a50-cc0f-4157-8455-119a62ee1433",
   "metadata": {},
   "outputs": [
    {
     "data": {
      "text/plain": [
       "<function __main__.outer.<locals>.inner(*args, **kwargs)>"
      ]
     },
     "execution_count": 6,
     "metadata": {},
     "output_type": "execute_result"
    }
   ],
   "source": [
    "adder"
   ]
  },
  {
   "cell_type": "code",
   "execution_count": 8,
   "id": "127b9956-6411-4240-96d8-53ce5b72700d",
   "metadata": {},
   "outputs": [
    {
     "name": "stdout",
     "output_type": "stream",
     "text": [
      "within inner\n",
      "within adder\n"
     ]
    },
    {
     "data": {
      "text/plain": [
       "'Sum=5'"
      ]
     },
     "execution_count": 8,
     "metadata": {},
     "output_type": "execute_result"
    }
   ],
   "source": [
    "adder(2,3)"
   ]
  },
  {
   "cell_type": "code",
   "execution_count": 9,
   "id": "07d4d66f-eecf-4475-87f4-08c30cc12dff",
   "metadata": {},
   "outputs": [
    {
     "name": "stdout",
     "output_type": "stream",
     "text": [
      " Within outer\n"
     ]
    }
   ],
   "source": [
    "@outer\n",
    "def mul(a,b):\n",
    "    print('mul={}'.format(a,b))\n",
    "    return a*b"
   ]
  },
  {
   "cell_type": "code",
   "execution_count": 10,
   "id": "4304644a-1728-4746-950d-c08394236e26",
   "metadata": {},
   "outputs": [
    {
     "name": "stdout",
     "output_type": "stream",
     "text": [
      "within inner\n",
      "mul=10\n"
     ]
    },
    {
     "data": {
      "text/plain": [
       "100"
      ]
     },
     "execution_count": 10,
     "metadata": {},
     "output_type": "execute_result"
    }
   ],
   "source": [
    "mul(10,10)"
   ]
  },
  {
   "cell_type": "code",
   "execution_count": null,
   "id": "719141bb-94e4-4727-af15-9f8df7c8f86e",
   "metadata": {},
   "outputs": [],
   "source": []
  }
 ],
 "metadata": {
  "kernelspec": {
   "display_name": "Python 3 (ipykernel)",
   "language": "python",
   "name": "python3"
  },
  "language_info": {
   "codemirror_mode": {
    "name": "ipython",
    "version": 3
   },
   "file_extension": ".py",
   "mimetype": "text/x-python",
   "name": "python",
   "nbconvert_exporter": "python",
   "pygments_lexer": "ipython3",
   "version": "3.12.3"
  }
 },
 "nbformat": 4,
 "nbformat_minor": 5
}
