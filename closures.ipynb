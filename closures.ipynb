{
 "cells": [
  {
   "cell_type": "markdown",
   "id": "b7b74cb2-bdfc-4239-9a52-d7d6c609e728",
   "metadata": {},
   "source": [
    "# Closures `"
   ]
  },
  {
   "cell_type": "code",
   "execution_count": 1,
   "id": "f085cf06-e5b5-4ada-97e3-5ea9cac407bb",
   "metadata": {},
   "outputs": [],
   "source": [
    "def outer():\n",
    "    x = 'Hello'\n",
    "    def inner():\n",
    "        print(x)\n",
    "    return inner\n",
    "    "
   ]
  },
  {
   "cell_type": "code",
   "execution_count": 2,
   "id": "962033e4-ca36-4547-aab5-77c32aefa4f9",
   "metadata": {},
   "outputs": [
    {
     "data": {
      "text/plain": [
       "<function __main__.outer()>"
      ]
     },
     "execution_count": 2,
     "metadata": {},
     "output_type": "execute_result"
    }
   ],
   "source": [
    "outer"
   ]
  },
  {
   "cell_type": "code",
   "execution_count": 3,
   "id": "cf675490-86cf-4762-a225-518fc0c8ab68",
   "metadata": {},
   "outputs": [],
   "source": [
    "fn = outer()"
   ]
  },
  {
   "cell_type": "code",
   "execution_count": 4,
   "id": "a0e65aaf-b286-40b6-a5f4-f7eaf39da294",
   "metadata": {},
   "outputs": [
    {
     "data": {
      "text/plain": [
       "<function __main__.outer.<locals>.inner()>"
      ]
     },
     "execution_count": 4,
     "metadata": {},
     "output_type": "execute_result"
    }
   ],
   "source": [
    "fn"
   ]
  },
  {
   "cell_type": "code",
   "execution_count": 5,
   "id": "f4c6c971-9fac-4a57-b9bf-a8fabf8cec1c",
   "metadata": {},
   "outputs": [
    {
     "name": "stdout",
     "output_type": "stream",
     "text": [
      "Hello\n"
     ]
    }
   ],
   "source": [
    "fn()"
   ]
  },
  {
   "cell_type": "code",
   "execution_count": 6,
   "id": "475f8601-4b4b-4011-88e1-f021036e2563",
   "metadata": {},
   "outputs": [],
   "source": [
    "def outer():\n",
    "    x = 'Hello'\n",
    "    def inner():\n",
    "        print(x)\n",
    "    inner()\n",
    "    "
   ]
  },
  {
   "cell_type": "code",
   "execution_count": 7,
   "id": "7cd1bfd7-9aec-4bdc-8858-8b4338f3b745",
   "metadata": {},
   "outputs": [
    {
     "name": "stdout",
     "output_type": "stream",
     "text": [
      "Hello\n"
     ]
    }
   ],
   "source": [
    "f = outer()"
   ]
  },
  {
   "cell_type": "markdown",
   "id": "3af3980a-e1d3-4662-a686-a94b53b201bb",
   "metadata": {},
   "source": [
    "# Lets introspect the function "
   ]
  },
  {
   "cell_type": "code",
   "execution_count": 8,
   "id": "ed9831b9-83d0-4c8a-991c-88ef7562e1bf",
   "metadata": {},
   "outputs": [],
   "source": [
    "def outer():\n",
    "    x = 'Hello'\n",
    "    def inner():\n",
    "        print(x)\n",
    "    return inner\n",
    "    "
   ]
  },
  {
   "cell_type": "code",
   "execution_count": 9,
   "id": "ac76a55c-e7d0-48f5-aa8a-49b5e1573b70",
   "metadata": {},
   "outputs": [],
   "source": [
    "fn = outer()"
   ]
  },
  {
   "cell_type": "code",
   "execution_count": 10,
   "id": "dea23a0f-1022-47fc-bbef-d16eca25dfd7",
   "metadata": {},
   "outputs": [
    {
     "data": {
      "text/plain": [
       "<function __main__.outer.<locals>.inner()>"
      ]
     },
     "execution_count": 10,
     "metadata": {},
     "output_type": "execute_result"
    }
   ],
   "source": [
    "fn"
   ]
  },
  {
   "cell_type": "code",
   "execution_count": 11,
   "id": "f8edf8f5-6774-4e9a-8ba2-3f38c40da051",
   "metadata": {},
   "outputs": [
    {
     "name": "stdout",
     "output_type": "stream",
     "text": [
      "['__annotations__', '__builtins__', '__call__', '__class__', '__closure__', '__code__', '__defaults__', '__delattr__', '__dict__', '__dir__', '__doc__', '__eq__', '__format__', '__ge__', '__get__', '__getattribute__', '__getstate__', '__globals__', '__gt__', '__hash__', '__init__', '__init_subclass__', '__kwdefaults__', '__le__', '__lt__', '__module__', '__name__', '__ne__', '__new__', '__qualname__', '__reduce__', '__reduce_ex__', '__repr__', '__setattr__', '__sizeof__', '__str__', '__subclasshook__', '__type_params__']\n"
     ]
    }
   ],
   "source": [
    "print(dir(fn))"
   ]
  },
  {
   "cell_type": "code",
   "execution_count": 12,
   "id": "f30ff124-2c95-44f9-93fb-e76f9fa8004c",
   "metadata": {},
   "outputs": [
    {
     "data": {
      "text/plain": [
       "(<cell at 0x000001F24181ACB0: str object at 0x000001F24181A7C0>,)"
      ]
     },
     "execution_count": 12,
     "metadata": {},
     "output_type": "execute_result"
    }
   ],
   "source": [
    "fn.__closure__"
   ]
  },
  {
   "cell_type": "markdown",
   "id": "45893f4d-66ce-4baf-9b7f-08822d1579dd",
   "metadata": {},
   "source": [
    "# you can see the free vars of the clousre \n"
   ]
  },
  {
   "cell_type": "code",
   "execution_count": 13,
   "id": "ba6dadaa-13de-4765-9c5e-704e42c56bcd",
   "metadata": {},
   "outputs": [
    {
     "data": {
      "text/plain": [
       "<code object inner at 0x000001F2417F6CD0, file \"C:\\Users\\soman\\AppData\\Local\\Temp\\ipykernel_6048\\968859510.py\", line 3>"
      ]
     },
     "execution_count": 13,
     "metadata": {},
     "output_type": "execute_result"
    }
   ],
   "source": [
    "fn.__code__"
   ]
  },
  {
   "cell_type": "code",
   "execution_count": 14,
   "id": "a61974fd-135d-4577-9c38-36629c240807",
   "metadata": {},
   "outputs": [
    {
     "name": "stdout",
     "output_type": "stream",
     "text": [
      "['__class__', '__delattr__', '__dir__', '__doc__', '__eq__', '__format__', '__ge__', '__getattribute__', '__getstate__', '__gt__', '__hash__', '__init__', '__init_subclass__', '__le__', '__lt__', '__ne__', '__new__', '__reduce__', '__reduce_ex__', '__repr__', '__setattr__', '__sizeof__', '__str__', '__subclasshook__', '_co_code_adaptive', '_varname_from_oparg', 'co_argcount', 'co_cellvars', 'co_code', 'co_consts', 'co_exceptiontable', 'co_filename', 'co_firstlineno', 'co_flags', 'co_freevars', 'co_kwonlyargcount', 'co_lines', 'co_linetable', 'co_lnotab', 'co_name', 'co_names', 'co_nlocals', 'co_positions', 'co_posonlyargcount', 'co_qualname', 'co_stacksize', 'co_varnames', 'replace']\n"
     ]
    }
   ],
   "source": [
    "print(dir(fn.__code__))"
   ]
  },
  {
   "cell_type": "code",
   "execution_count": 15,
   "id": "7e584a56-b9f2-493f-8ba2-35857d79cf29",
   "metadata": {},
   "outputs": [
    {
     "data": {
      "text/plain": [
       "('x',)"
      ]
     },
     "execution_count": 15,
     "metadata": {},
     "output_type": "execute_result"
    }
   ],
   "source": [
    "fn.__code__.co_freevars"
   ]
  },
  {
   "cell_type": "code",
   "execution_count": null,
   "id": "0a401fc7-a216-43af-aefb-7471033e83bf",
   "metadata": {},
   "outputs": [],
   "source": [
    "# Write a function ( closure ) that keep tracks of the number of time it is called "
   ]
  },
  {
   "cell_type": "code",
   "execution_count": 16,
   "id": "be5b81c9-ee14-4d30-a354-e89297b2e90d",
   "metadata": {},
   "outputs": [],
   "source": [
    "def msg():\n",
    "    print('Hello from msg')\n",
    "\n",
    "def outer():\n",
    "    x='hello'\n",
    "    y=200\n",
    "    print('Within outer')\n",
    "    def inner():\n",
    "        print('within inner')\n",
    "        print('x={} y={}'.format(x,y))\n",
    "    return inner \n",
    "\n",
    "# will this work"
   ]
  },
  {
   "cell_type": "code",
   "execution_count": 17,
   "id": "fa116b49-ac1c-4960-a243-b0eacd550b97",
   "metadata": {},
   "outputs": [
    {
     "name": "stdout",
     "output_type": "stream",
     "text": [
      "Within outer\n"
     ]
    }
   ],
   "source": [
    "fn = outer()"
   ]
  },
  {
   "cell_type": "code",
   "execution_count": 18,
   "id": "51f84805-eada-4ad3-99cc-a80105cf62d4",
   "metadata": {},
   "outputs": [
    {
     "data": {
      "text/plain": [
       "<function __main__.outer.<locals>.inner()>"
      ]
     },
     "execution_count": 18,
     "metadata": {},
     "output_type": "execute_result"
    }
   ],
   "source": [
    "fn"
   ]
  },
  {
   "cell_type": "code",
   "execution_count": 19,
   "id": "ba02cc4c-277b-4f66-b2b7-652dbbd06536",
   "metadata": {},
   "outputs": [
    {
     "name": "stdout",
     "output_type": "stream",
     "text": [
      "within inner\n",
      "x=hello y=200\n"
     ]
    }
   ],
   "source": [
    "fn()"
   ]
  },
  {
   "cell_type": "code",
   "execution_count": 20,
   "id": "4c66122d-17f1-4ce7-a320-2bb534ae91f3",
   "metadata": {},
   "outputs": [
    {
     "data": {
      "text/plain": [
       "('x', 'y')"
      ]
     },
     "execution_count": 20,
     "metadata": {},
     "output_type": "execute_result"
    }
   ],
   "source": [
    "fn.__code__.co_freevars"
   ]
  },
  {
   "cell_type": "code",
   "execution_count": 21,
   "id": "eb1b5c6f-72d9-4ea5-9a19-c3788e5368db",
   "metadata": {},
   "outputs": [
    {
     "data": {
      "text/plain": [
       "(<cell at 0x000001F24181AEF0: str object at 0x000001F2404582A0>,\n",
       " <cell at 0x000001F24181AC50: int object at 0x00007FFD73133298>)"
      ]
     },
     "execution_count": 21,
     "metadata": {},
     "output_type": "execute_result"
    }
   ],
   "source": [
    "fn.__closure__"
   ]
  },
  {
   "cell_type": "markdown",
   "id": "b8cfbcc0-b6d2-4b7c-9be1-14d5f887a02a",
   "metadata": {},
   "source": [
    "# Lets see one application of a closure \n",
    "\n",
    "- Suppose we want to see the number of times a function is called. \n",
    "- Or we want to create a counter "
   ]
  },
  {
   "cell_type": "code",
   "execution_count": 22,
   "id": "434fba1d-e208-4cc1-9898-d2acd406deda",
   "metadata": {},
   "outputs": [],
   "source": [
    "def counter():\n",
    "    count = 0 \n",
    "    def inner():\n",
    "        nonlocal count \n",
    "        count+=1\n",
    "        print('count = {}'.format(count))\n",
    "    return inner \n",
    "        "
   ]
  },
  {
   "cell_type": "code",
   "execution_count": 23,
   "id": "15fac724-a75a-4b88-8d83-c6be9160558f",
   "metadata": {},
   "outputs": [],
   "source": [
    "f1 = counter()"
   ]
  },
  {
   "cell_type": "code",
   "execution_count": 24,
   "id": "10c4802e-278c-49fc-9010-bdc3dc83b979",
   "metadata": {},
   "outputs": [
    {
     "name": "stdout",
     "output_type": "stream",
     "text": [
      "count = 1\n"
     ]
    }
   ],
   "source": [
    "f1()"
   ]
  },
  {
   "cell_type": "code",
   "execution_count": 25,
   "id": "a23327b2-c438-41d4-ba2c-6cbbeb5ddc61",
   "metadata": {},
   "outputs": [
    {
     "name": "stdout",
     "output_type": "stream",
     "text": [
      "count = 2\n"
     ]
    }
   ],
   "source": [
    "f1()"
   ]
  },
  {
   "cell_type": "code",
   "execution_count": 26,
   "id": "735bf52e-ec90-49d7-a218-b472ff68ea68",
   "metadata": {},
   "outputs": [],
   "source": [
    "def counter(fn):\n",
    "    count = 0 \n",
    "    def inner(*args,**kwargs):\n",
    "        nonlocal count \n",
    "        count+=1\n",
    "        print('{} called {} times'.format(fn.__name__,count))\n",
    "        return fn(*args,**kwargs)\n",
    "    return inner "
   ]
  },
  {
   "cell_type": "code",
   "execution_count": 27,
   "id": "1af3611e-c055-4fc5-8ccf-77c1d95a5c94",
   "metadata": {},
   "outputs": [],
   "source": [
    "def add(a,b):\n",
    "    return a+b\n",
    "\n",
    "def mul(a,b):\n",
    "    return a*b\n",
    "    "
   ]
  },
  {
   "cell_type": "code",
   "execution_count": 29,
   "id": "265127ae-4a7b-46bb-bf7c-5857e43f5987",
   "metadata": {},
   "outputs": [],
   "source": [
    "f1 = counter(add)"
   ]
  },
  {
   "cell_type": "code",
   "execution_count": 30,
   "id": "d5d19613-1d5b-4b6b-a9a7-b4a3117d258f",
   "metadata": {},
   "outputs": [
    {
     "data": {
      "text/plain": [
       "<function __main__.counter.<locals>.inner(*args, **kwargs)>"
      ]
     },
     "execution_count": 30,
     "metadata": {},
     "output_type": "execute_result"
    }
   ],
   "source": [
    "f1"
   ]
  },
  {
   "cell_type": "code",
   "execution_count": 32,
   "id": "5a442abe-c89d-4156-8d15-a50109c5fdef",
   "metadata": {},
   "outputs": [
    {
     "name": "stdout",
     "output_type": "stream",
     "text": [
      "add called 2 times\n"
     ]
    },
    {
     "data": {
      "text/plain": [
       "5"
      ]
     },
     "execution_count": 32,
     "metadata": {},
     "output_type": "execute_result"
    }
   ],
   "source": [
    "f1(2,3)"
   ]
  },
  {
   "cell_type": "code",
   "execution_count": 33,
   "id": "c408851a-78c0-4920-91c7-e9b359f83bc5",
   "metadata": {},
   "outputs": [
    {
     "name": "stdout",
     "output_type": "stream",
     "text": [
      "add called 3 times\n"
     ]
    },
    {
     "data": {
      "text/plain": [
       "15"
      ]
     },
     "execution_count": 33,
     "metadata": {},
     "output_type": "execute_result"
    }
   ],
   "source": [
    "f1(5,10)"
   ]
  },
  {
   "cell_type": "code",
   "execution_count": 34,
   "id": "f411f70c-4254-4740-a7c8-dd2ffff769e6",
   "metadata": {},
   "outputs": [],
   "source": [
    "f2 = counter(mul)"
   ]
  },
  {
   "cell_type": "code",
   "execution_count": 36,
   "id": "22e4f786-14a8-40f6-ba3e-aaca0d8d9773",
   "metadata": {},
   "outputs": [
    {
     "name": "stdout",
     "output_type": "stream",
     "text": [
      "mul called 2 times\n"
     ]
    },
    {
     "data": {
      "text/plain": [
       "100"
      ]
     },
     "execution_count": 36,
     "metadata": {},
     "output_type": "execute_result"
    }
   ],
   "source": [
    "f2(10,10)"
   ]
  },
  {
   "cell_type": "code",
   "execution_count": null,
   "id": "be007e3c-fbad-41ac-b245-53e6e9039a58",
   "metadata": {},
   "outputs": [],
   "source": []
  }
 ],
 "metadata": {
  "kernelspec": {
   "display_name": "Python 3 (ipykernel)",
   "language": "python",
   "name": "python3"
  },
  "language_info": {
   "codemirror_mode": {
    "name": "ipython",
    "version": 3
   },
   "file_extension": ".py",
   "mimetype": "text/x-python",
   "name": "python",
   "nbconvert_exporter": "python",
   "pygments_lexer": "ipython3",
   "version": "3.12.3"
  }
 },
 "nbformat": 4,
 "nbformat_minor": 5
}
