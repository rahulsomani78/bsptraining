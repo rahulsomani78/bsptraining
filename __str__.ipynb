{
 "cells": [
  {
   "cell_type": "markdown",
   "id": "048868e1-9568-4fd1-b7a7-c83a2baa5b5f",
   "metadata": {},
   "source": [
    "Default Representation of Objects "
   ]
  },
  {
   "cell_type": "code",
   "execution_count": 5,
   "id": "e962c007-54f6-427a-af1e-584952bb24d0",
   "metadata": {},
   "outputs": [],
   "source": [
    "class Employee:\n",
    "    company='Bhilai Steel Plant'\n",
    "\n",
    "    def __init__(self,name,age,dept='CNIT'):\n",
    "        self.name = name\n",
    "        self.age = age \n",
    "        self.dept = dept \n",
    "\n",
    "    def show_emp(self):\n",
    "        return '{}'.format(self.name)\n",
    "\n",
    "    def showcmp(self):\n",
    "        return Employee.company\n",
    "        "
   ]
  },
  {
   "cell_type": "code",
   "execution_count": 6,
   "id": "5a007ab3-2501-4a28-8c8e-ea1f6d7d7174",
   "metadata": {},
   "outputs": [],
   "source": [
    "e1 = Employee('Shashank',30)"
   ]
  },
  {
   "cell_type": "code",
   "execution_count": 7,
   "id": "498d972f-9ee8-47e9-9ace-37c8d60aefe1",
   "metadata": {},
   "outputs": [
    {
     "data": {
      "text/plain": [
       "('Shashank', 'Bhilai Steel Plant')"
      ]
     },
     "execution_count": 7,
     "metadata": {},
     "output_type": "execute_result"
    }
   ],
   "source": [
    "e1.show_emp(),e1.showcmp()"
   ]
  },
  {
   "cell_type": "code",
   "execution_count": 8,
   "id": "ca1874ad-386d-47ec-8546-0b0ce402ff11",
   "metadata": {},
   "outputs": [
    {
     "data": {
      "text/plain": [
       "<__main__.Employee at 0x1feb20d2c60>"
      ]
     },
     "execution_count": 8,
     "metadata": {},
     "output_type": "execute_result"
    }
   ],
   "source": [
    "e1"
   ]
  },
  {
   "cell_type": "code",
   "execution_count": 19,
   "id": "4e6d3437-2b4c-412f-a896-9f3cd1f2ebab",
   "metadata": {},
   "outputs": [],
   "source": [
    "class Employee:\n",
    "    company='Bhilai Steel Plant'\n",
    "\n",
    "    def __init__(self,name,age,dept='CNIT'):\n",
    "        self.name = name\n",
    "        self.age = age \n",
    "        self.dept = dept \n",
    "\n",
    "    def __repr__(self):\n",
    "        return 'Employee({}, {}, {} {})'.format(self.name,self.age,self.dept,Employee.company)\n",
    "\n"
   ]
  },
  {
   "cell_type": "code",
   "execution_count": 20,
   "id": "e03b2bbd-492f-405a-976c-6de5c54183bc",
   "metadata": {},
   "outputs": [],
   "source": [
    "e = Employee('Amit',25)"
   ]
  },
  {
   "cell_type": "code",
   "execution_count": 21,
   "id": "bc656655-a8b6-4265-a64f-dfd81f60ae19",
   "metadata": {},
   "outputs": [
    {
     "name": "stdout",
     "output_type": "stream",
     "text": [
      "Employee(Amit, 25, CNIT Bhilai Steel Plant)\n"
     ]
    }
   ],
   "source": [
    "print(e)"
   ]
  },
  {
   "cell_type": "code",
   "execution_count": 18,
   "id": "731236ed-e6e6-49ec-b3aa-75bf76f22eed",
   "metadata": {},
   "outputs": [
    {
     "data": {
      "text/plain": [
       "Employee(Amit, 25, CNIT)"
      ]
     },
     "execution_count": 18,
     "metadata": {},
     "output_type": "execute_result"
    }
   ],
   "source": [
    "e"
   ]
  },
  {
   "cell_type": "markdown",
   "id": "8c7901d0-e9c5-4d4f-884b-8d83e4eab45e",
   "metadata": {},
   "source": [
    "`__str__`"
   ]
  },
  {
   "cell_type": "code",
   "execution_count": 22,
   "id": "4c98b324-bcc2-42e1-b94e-e3437dc573ec",
   "metadata": {},
   "outputs": [],
   "source": [
    "class Employee:\n",
    "    company='Bhilai Steel Plant'\n",
    "\n",
    "    def __init__(self,name,age,dept='CNIT'):\n",
    "        self.name = name\n",
    "        self.age = age \n",
    "        self.dept = dept \n",
    "\n",
    "    def __str__(self):\n",
    "        return 'Employee({}, {}, {} {})'.format(self.name,self.age,self.dept,Employee.company)\n",
    "\n"
   ]
  },
  {
   "cell_type": "code",
   "execution_count": 23,
   "id": "0727605b-f44f-4de9-9fbc-006c85fe0d50",
   "metadata": {},
   "outputs": [],
   "source": [
    "e = Employee('Rahul',40)"
   ]
  },
  {
   "cell_type": "code",
   "execution_count": 24,
   "id": "22fb6a95-a4af-4767-9c89-bf6249f8d89b",
   "metadata": {},
   "outputs": [
    {
     "name": "stdout",
     "output_type": "stream",
     "text": [
      "Employee(Rahul, 40, CNIT Bhilai Steel Plant)\n"
     ]
    }
   ],
   "source": [
    "print(e)"
   ]
  },
  {
   "cell_type": "code",
   "execution_count": 25,
   "id": "9a3fd094-b9bf-48f5-b144-18da6dbe13da",
   "metadata": {},
   "outputs": [
    {
     "data": {
      "text/plain": [
       "<__main__.Employee at 0x1feb213bcb0>"
      ]
     },
     "execution_count": 25,
     "metadata": {},
     "output_type": "execute_result"
    }
   ],
   "source": [
    "e"
   ]
  },
  {
   "cell_type": "code",
   "execution_count": 26,
   "id": "4c1b4ae0-bbc5-4f5b-bb24-ad7cb9bc1a41",
   "metadata": {},
   "outputs": [],
   "source": [
    "class Employee:\n",
    "    company='Bhilai Steel Plant'\n",
    "\n",
    "    def __init__(self,name,age,dept='CNIT'):\n",
    "        self.name = name\n",
    "        self.age = age \n",
    "        self.dept = dept \n",
    "\n",
    "    def __str__(self):\n",
    "        return 'Employee({}, {}, {} {})'.format(self.name,self.age,self.dept,Employee.company)\n",
    "\n",
    "    # Object representation\n",
    "    def __repr__(self):\n",
    "        return 'Employee({})'.format(self.name)\n"
   ]
  },
  {
   "cell_type": "code",
   "execution_count": 27,
   "id": "a5562425-d3c6-4918-b91d-cb1372998aa5",
   "metadata": {},
   "outputs": [],
   "source": [
    "e = Employee('Me',20,'you')"
   ]
  },
  {
   "cell_type": "code",
   "execution_count": 28,
   "id": "b249b1f5-5abf-4236-83e1-c45d3ee5bc93",
   "metadata": {},
   "outputs": [
    {
     "name": "stdout",
     "output_type": "stream",
     "text": [
      "Employee(Me, 20, you Bhilai Steel Plant)\n"
     ]
    }
   ],
   "source": [
    "print(e)"
   ]
  },
  {
   "cell_type": "code",
   "execution_count": 29,
   "id": "b5dd05dd-4fca-4aac-8260-bf1cd302d034",
   "metadata": {},
   "outputs": [
    {
     "data": {
      "text/plain": [
       "'Employee(Me, 20, you Bhilai Steel Plant)'"
      ]
     },
     "execution_count": 29,
     "metadata": {},
     "output_type": "execute_result"
    }
   ],
   "source": [
    "str(e)"
   ]
  },
  {
   "cell_type": "code",
   "execution_count": 30,
   "id": "6b6c1653-a3c4-445c-bda4-62933e994eee",
   "metadata": {},
   "outputs": [
    {
     "data": {
      "text/plain": [
       "Employee(Me)"
      ]
     },
     "execution_count": 30,
     "metadata": {},
     "output_type": "execute_result"
    }
   ],
   "source": [
    "e"
   ]
  },
  {
   "cell_type": "code",
   "execution_count": 31,
   "id": "3f63de99-c55c-40ae-9b81-72dcdc95dffd",
   "metadata": {},
   "outputs": [
    {
     "data": {
      "text/plain": [
       "'Employee(Me)'"
      ]
     },
     "execution_count": 31,
     "metadata": {},
     "output_type": "execute_result"
    }
   ],
   "source": [
    "repr(e)"
   ]
  },
  {
   "cell_type": "code",
   "execution_count": null,
   "id": "4e7554f9-26d4-42ca-885d-6e9842198f1d",
   "metadata": {},
   "outputs": [],
   "source": []
  }
 ],
 "metadata": {
  "kernelspec": {
   "display_name": "Python 3 (ipykernel)",
   "language": "python",
   "name": "python3"
  },
  "language_info": {
   "codemirror_mode": {
    "name": "ipython",
    "version": 3
   },
   "file_extension": ".py",
   "mimetype": "text/x-python",
   "name": "python",
   "nbconvert_exporter": "python",
   "pygments_lexer": "ipython3",
   "version": "3.12.3"
  }
 },
 "nbformat": 4,
 "nbformat_minor": 5
}
