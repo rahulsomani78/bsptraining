{
 "cells": [
  {
   "cell_type": "markdown",
   "id": "fa9af0e3-1ca3-41ea-9758-308c0faa7295",
   "metadata": {},
   "source": [
    "# Class and Static methods"
   ]
  },
  {
   "cell_type": "code",
   "execution_count": 1,
   "id": "0ca4042a-eb33-4cc9-b7f9-be5f1b3ea9e4",
   "metadata": {},
   "outputs": [],
   "source": [
    "class Program:\n",
    "    def hello(arg='default'):\n",
    "        print('Hello from {}'.format(arg))"
   ]
  },
  {
   "cell_type": "code",
   "execution_count": 2,
   "id": "b85d275d-5930-495c-abf6-2e6fab5978ec",
   "metadata": {},
   "outputs": [
    {
     "name": "stdout",
     "output_type": "stream",
     "text": [
      "Hello from default\n"
     ]
    }
   ],
   "source": [
    "Program.hello()"
   ]
  },
  {
   "cell_type": "code",
   "execution_count": 3,
   "id": "fee2414b-b3e9-41ce-995a-9ffea7f2caec",
   "metadata": {},
   "outputs": [],
   "source": [
    "p = Program()"
   ]
  },
  {
   "cell_type": "code",
   "execution_count": 4,
   "id": "c488169c-7b65-4e1b-af3f-95e2ee2bfe5b",
   "metadata": {},
   "outputs": [
    {
     "name": "stdout",
     "output_type": "stream",
     "text": [
      "Hello from <__main__.Program object at 0x000001D66E4606E0>\n"
     ]
    }
   ],
   "source": [
    "p.hello()"
   ]
  },
  {
   "cell_type": "code",
   "execution_count": 6,
   "id": "4f9c44f3-da17-4427-bd3e-8be85561e104",
   "metadata": {},
   "outputs": [
    {
     "data": {
      "text/plain": [
       "'0x1d66e4606e0'"
      ]
     },
     "execution_count": 6,
     "metadata": {},
     "output_type": "execute_result"
    }
   ],
   "source": [
    "hex(id(p))"
   ]
  },
  {
   "cell_type": "code",
   "execution_count": 8,
   "id": "1a6846d9-5604-41db-8435-24dc825f6a63",
   "metadata": {},
   "outputs": [],
   "source": [
    "class Program:\n",
    "    \n",
    "    def hello(arg='default'):\n",
    "        print('Hello from {}'.format(arg))\n",
    "\n",
    "    def instance_hello(arg):\n",
    "        print('Hello from {}'.format(arg))\n",
    "\n",
    "    @classmethod\n",
    "    def class_hello(arg):\n",
    "        print('Hello from {}'.format(arg))\n",
    "        \n",
    "    "
   ]
  },
  {
   "cell_type": "code",
   "execution_count": 9,
   "id": "eef02a36-4d86-4d53-a095-3deef50f234c",
   "metadata": {},
   "outputs": [],
   "source": [
    "p = Program()"
   ]
  },
  {
   "cell_type": "code",
   "execution_count": 11,
   "id": "20a9f20a-b6ee-45e6-9560-5d3135c61da5",
   "metadata": {},
   "outputs": [
    {
     "name": "stdout",
     "output_type": "stream",
     "text": [
      "Hello from <__main__.Program object at 0x000001D66E499E50>\n"
     ]
    }
   ],
   "source": [
    "p.hello()"
   ]
  },
  {
   "cell_type": "code",
   "execution_count": 12,
   "id": "6350185b-234a-429c-8c98-650637ffa47e",
   "metadata": {},
   "outputs": [
    {
     "name": "stdout",
     "output_type": "stream",
     "text": [
      "Hello from default\n"
     ]
    }
   ],
   "source": [
    "Program.hello()"
   ]
  },
  {
   "cell_type": "code",
   "execution_count": 14,
   "id": "fb01ef97-5b99-42ff-bffb-1c449e1aa6e7",
   "metadata": {},
   "outputs": [
    {
     "name": "stdout",
     "output_type": "stream",
     "text": [
      "Hello from <__main__.Program object at 0x000001D66E499E50>\n"
     ]
    }
   ],
   "source": [
    "p.instance_hello()"
   ]
  },
  {
   "cell_type": "code",
   "execution_count": 15,
   "id": "18ed74e4-2e88-422d-9dbb-da39de001200",
   "metadata": {},
   "outputs": [
    {
     "name": "stdout",
     "output_type": "stream",
     "text": [
      "Hello from <class '__main__.Program'>\n"
     ]
    }
   ],
   "source": [
    "p.class_hello()"
   ]
  },
  {
   "cell_type": "code",
   "execution_count": 16,
   "id": "2fc4c429-761e-4553-b655-5b4c9f8c5649",
   "metadata": {},
   "outputs": [
    {
     "name": "stdout",
     "output_type": "stream",
     "text": [
      "Hello from <class '__main__.Program'>\n"
     ]
    }
   ],
   "source": [
    "Program.class_hello()"
   ]
  },
  {
   "cell_type": "code",
   "execution_count": 17,
   "id": "d8aac544-6c62-4c90-81ee-02d7d819bf6e",
   "metadata": {},
   "outputs": [],
   "source": [
    "class Program:\n",
    "    \n",
    "    def hello(arg='default'):\n",
    "        print('Hello from {}'.format(arg))\n",
    "\n",
    "    def instance_hello(arg):\n",
    "        print('Hello from {}'.format(arg))\n",
    "\n",
    "\n",
    "    def class_hello(arg):\n",
    "        print('Hello from {}'.format(arg))\n",
    "\n",
    "    class_hello =classmethod(class_hello)\n",
    "        \n",
    "    "
   ]
  },
  {
   "cell_type": "code",
   "execution_count": 18,
   "id": "fd770f46-e798-44f8-a742-2d3027986b50",
   "metadata": {},
   "outputs": [],
   "source": [
    "p=Program()"
   ]
  },
  {
   "cell_type": "code",
   "execution_count": 19,
   "id": "0f19f320-35ae-42e5-80aa-cdc381cf1bd8",
   "metadata": {},
   "outputs": [
    {
     "name": "stdout",
     "output_type": "stream",
     "text": [
      "Hello from <class '__main__.Program'>\n"
     ]
    }
   ],
   "source": [
    "p.class_hello()"
   ]
  },
  {
   "cell_type": "code",
   "execution_count": 20,
   "id": "92b9955e-b309-4a65-879b-2270bf11096b",
   "metadata": {},
   "outputs": [],
   "source": [
    "class Program:\n",
    "    \n",
    "    def hello():\n",
    "        print('Hello...')\n",
    "\n",
    "    def instance_hello(arg):\n",
    "        print('Hello from {}'.format(arg))\n",
    "\n",
    "\n",
    "    def class_hello(arg):\n",
    "        print('Hello from {}'.format(arg))\n",
    "\n",
    "    class_hello =classmethod(class_hello)\n",
    "        "
   ]
  },
  {
   "cell_type": "code",
   "execution_count": 21,
   "id": "1d3c1a5c-e37b-46ec-97d3-07e54d6a7007",
   "metadata": {},
   "outputs": [],
   "source": [
    "p = Program()"
   ]
  },
  {
   "cell_type": "code",
   "execution_count": 22,
   "id": "705bd708-6f3d-4b8f-8708-9059264c9957",
   "metadata": {},
   "outputs": [
    {
     "name": "stdout",
     "output_type": "stream",
     "text": [
      "Hello...\n"
     ]
    }
   ],
   "source": [
    "Program.hello()"
   ]
  },
  {
   "cell_type": "code",
   "execution_count": 23,
   "id": "48788cc2-e7cf-44f7-87ee-5f81dd6abba1",
   "metadata": {},
   "outputs": [
    {
     "ename": "TypeError",
     "evalue": "Program.hello() takes 0 positional arguments but 1 was given",
     "output_type": "error",
     "traceback": [
      "\u001b[1;31m---------------------------------------------------------------------------\u001b[0m",
      "\u001b[1;31mTypeError\u001b[0m                                 Traceback (most recent call last)",
      "Cell \u001b[1;32mIn[23], line 1\u001b[0m\n\u001b[1;32m----> 1\u001b[0m \u001b[43mp\u001b[49m\u001b[38;5;241;43m.\u001b[39;49m\u001b[43mhello\u001b[49m\u001b[43m(\u001b[49m\u001b[43m)\u001b[49m \u001b[38;5;66;03m# will not work\u001b[39;00m\n",
      "\u001b[1;31mTypeError\u001b[0m: Program.hello() takes 0 positional arguments but 1 was given"
     ]
    }
   ],
   "source": [
    "p.hello() # will not work"
   ]
  },
  {
   "cell_type": "markdown",
   "id": "107cdec7-de60-4dca-9bbc-5557661b9e1b",
   "metadata": {},
   "source": [
    "# Static methods \n",
    "    - Not bound to class or instance "
   ]
  },
  {
   "cell_type": "code",
   "execution_count": 24,
   "id": "e41dd264-0b85-494c-b70e-3df037abb271",
   "metadata": {},
   "outputs": [],
   "source": [
    "class Program:\n",
    "\n",
    "    def instance_hello(arg):\n",
    "        print('Hello from {}'.format(arg))\n",
    "\n",
    "    @staticmethod\n",
    "    def static_hello(arg):\n",
    "        print('Hello from {}'.format(arg))\n",
    "\n",
    "    \n",
    "        "
   ]
  },
  {
   "cell_type": "code",
   "execution_count": 25,
   "id": "c0439a83-4f41-4cf9-a13f-90e34d808e35",
   "metadata": {},
   "outputs": [
    {
     "name": "stdout",
     "output_type": "stream",
     "text": [
      "Hello from first\n"
     ]
    }
   ],
   "source": [
    "Program.static_hello('first')"
   ]
  },
  {
   "cell_type": "code",
   "execution_count": 27,
   "id": "25e32d37-d440-44f1-8511-d2b862b9842d",
   "metadata": {},
   "outputs": [
    {
     "name": "stdout",
     "output_type": "stream",
     "text": [
      "Hello from second\n"
     ]
    }
   ],
   "source": [
    "Program().static_hello('second')"
   ]
  },
  {
   "cell_type": "code",
   "execution_count": 28,
   "id": "d8377813-b6b9-4b71-87a1-001a495d8dfe",
   "metadata": {},
   "outputs": [],
   "source": [
    "p = Program()"
   ]
  },
  {
   "cell_type": "code",
   "execution_count": 29,
   "id": "73dc9df1-1240-4162-84bb-927d3d88ed0e",
   "metadata": {},
   "outputs": [
    {
     "name": "stdout",
     "output_type": "stream",
     "text": [
      "Hello from third\n"
     ]
    }
   ],
   "source": [
    "p.static_hello('third')"
   ]
  },
  {
   "cell_type": "code",
   "execution_count": 30,
   "id": "cea85aea-c00a-450c-b53c-69de566fb892",
   "metadata": {},
   "outputs": [
    {
     "data": {
      "text/plain": [
       "<function __main__.Program.static_hello(arg)>"
      ]
     },
     "execution_count": 30,
     "metadata": {},
     "output_type": "execute_result"
    }
   ],
   "source": [
    "Program.static_hello"
   ]
  },
  {
   "cell_type": "code",
   "execution_count": 31,
   "id": "25bf8045-b428-4c5e-a54b-3dbadb0aac64",
   "metadata": {},
   "outputs": [
    {
     "data": {
      "text/plain": [
       "<function __main__.Program.static_hello(arg)>"
      ]
     },
     "execution_count": 31,
     "metadata": {},
     "output_type": "execute_result"
    }
   ],
   "source": [
    "p.static_hello"
   ]
  },
  {
   "cell_type": "code",
   "execution_count": null,
   "id": "be4288b8-87ad-421c-a949-bc77c6b24b12",
   "metadata": {},
   "outputs": [],
   "source": []
  }
 ],
 "metadata": {
  "kernelspec": {
   "display_name": "Python 3 (ipykernel)",
   "language": "python",
   "name": "python3"
  },
  "language_info": {
   "codemirror_mode": {
    "name": "ipython",
    "version": 3
   },
   "file_extension": ".py",
   "mimetype": "text/x-python",
   "name": "python",
   "nbconvert_exporter": "python",
   "pygments_lexer": "ipython3",
   "version": "3.12.3"
  }
 },
 "nbformat": 4,
 "nbformat_minor": 5
}
