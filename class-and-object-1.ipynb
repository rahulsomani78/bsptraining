{
 "cells": [
  {
   "cell_type": "code",
   "execution_count": 11,
   "id": "8ab1f730-87c9-44c0-989f-836fec5537bf",
   "metadata": {},
   "outputs": [],
   "source": [
    "def outer():\n",
    "    print('outer')\n",
    "    def inner():\n",
    "        print('inner')\n",
    "        def __call__():\n",
    "            print('call')\n",
    "        return __call__\n",
    "    return inner \n"
   ]
  },
  {
   "cell_type": "code",
   "execution_count": 12,
   "id": "8b9df092-00c8-4385-a82c-16a86225fb38",
   "metadata": {},
   "outputs": [
    {
     "name": "stdout",
     "output_type": "stream",
     "text": [
      "outer\n"
     ]
    }
   ],
   "source": [
    "o = outer()\n"
   ]
  },
  {
   "cell_type": "code",
   "execution_count": 13,
   "id": "875ddf3b-b0de-485e-8b8d-feffcc1eb5df",
   "metadata": {},
   "outputs": [
    {
     "data": {
      "text/plain": [
       "<function __main__.outer.<locals>.inner()>"
      ]
     },
     "execution_count": 13,
     "metadata": {},
     "output_type": "execute_result"
    }
   ],
   "source": [
    "o"
   ]
  },
  {
   "cell_type": "code",
   "execution_count": 14,
   "id": "3f3b9d7e-1d65-4fa0-89a4-9a1efece1082",
   "metadata": {},
   "outputs": [
    {
     "name": "stdout",
     "output_type": "stream",
     "text": [
      "inner\n"
     ]
    }
   ],
   "source": [
    "i=o()"
   ]
  },
  {
   "cell_type": "code",
   "execution_count": 15,
   "id": "1f49e99e-5cfa-4440-866d-4755d3a65681",
   "metadata": {},
   "outputs": [
    {
     "data": {
      "text/plain": [
       "<function __main__.outer.<locals>.inner.<locals>.__call__()>"
      ]
     },
     "execution_count": 15,
     "metadata": {},
     "output_type": "execute_result"
    }
   ],
   "source": [
    "i"
   ]
  },
  {
   "cell_type": "code",
   "execution_count": 16,
   "id": "f5dd07dd-390a-46cd-984b-901ac5d183ef",
   "metadata": {},
   "outputs": [
    {
     "name": "stdout",
     "output_type": "stream",
     "text": [
      "call\n"
     ]
    }
   ],
   "source": [
    "i()"
   ]
  },
  {
   "cell_type": "code",
   "execution_count": null,
   "id": "c4b95f8b-2ee8-42b7-9245-325a4badfaa6",
   "metadata": {},
   "outputs": [],
   "source": []
  }
 ],
 "metadata": {
  "kernelspec": {
   "display_name": "Python 3 (ipykernel)",
   "language": "python",
   "name": "python3"
  },
  "language_info": {
   "codemirror_mode": {
    "name": "ipython",
    "version": 3
   },
   "file_extension": ".py",
   "mimetype": "text/x-python",
   "name": "python",
   "nbconvert_exporter": "python",
   "pygments_lexer": "ipython3",
   "version": "3.12.3"
  }
 },
 "nbformat": 4,
 "nbformat_minor": 5
}
